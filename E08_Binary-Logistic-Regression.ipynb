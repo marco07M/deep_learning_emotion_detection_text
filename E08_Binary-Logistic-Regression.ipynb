{
 "cells": [
  {
   "metadata": {},
   "cell_type": "markdown",
   "source": [
    "# Binary Logistic Regression\n",
    "Deep Learning - KI29  \n",
    "Deggendorf Institute of Technology  \n",
    "Prof. Dr. Florian Wahl"
   ],
   "id": "903ac68b585f755b"
  },
  {
   "metadata": {},
   "cell_type": "markdown",
   "source": "## Existierende Codebase",
   "id": "f2f3c05c139446ae"
  },
  {
   "metadata": {
    "ExecuteTime": {
     "end_time": "2025-05-26T09:43:20.403822Z",
     "start_time": "2025-05-26T09:43:20.398311Z"
    }
   },
   "cell_type": "code",
   "source": [
    "import numpy as np\n",
    "import pandas as pd\n",
    "import matplotlib.pyplot as plt\n",
    "\n",
    "import nnfs\n",
    "from nnfs.datasets import spiral_data\n",
    "\n",
    "#from test_model_sklearn import vectorizer"
   ],
   "id": "101e8466b2a31a5e",
   "outputs": [],
   "execution_count": 5
  },
  {
   "metadata": {
    "ExecuteTime": {
     "end_time": "2025-05-26T09:43:20.436343Z",
     "start_time": "2025-05-26T09:43:20.428847Z"
    }
   },
   "cell_type": "code",
   "source": [
    "# Dense Layer\n",
    "class Layer_Dense:\n",
    "\n",
    "    # Initialization Code\n",
    "    def __init__(self, n_inputs, n_neurons,\n",
    "                 weight_regularizer_l1=0, weight_regularizer_l2=0,\n",
    "                 bias_regularizer_l1=0, bias_regularizer_l2=0):\n",
    "        # Initilalize weights and biases according to the shape given\n",
    "        self.weights = 0.01 * np.random.randn(n_inputs, n_neurons)\n",
    "        self.biases = np.zeros((1, n_neurons))\n",
    "        \n",
    "        # Save Regularization Lambdas\n",
    "        self.weight_regularizer_l1 = weight_regularizer_l1\n",
    "        self.weight_regularizer_l2 = weight_regularizer_l2\n",
    "        self.bias_regularizer_l1 = bias_regularizer_l1\n",
    "        self.bias_regularizer_l2 = bias_regularizer_l2\n",
    "\n",
    "    def forward(self, inputs):\n",
    "        self.inputs = inputs\n",
    "\n",
    "        # Calculate output as we did on the slides\n",
    "        self.output = np.dot(inputs, self.weights) + self.biases\n",
    "\n",
    "    def backward(self, dvalues):\n",
    "        # Gradients on parameters\n",
    "        self.dweights = np.dot(self.inputs.T, dvalues)\n",
    "        self.dbiases = np.sum(dvalues, axis=0, keepdims=True)\n",
    "        \n",
    "        # Regularisation\n",
    "        # L1 weights\n",
    "        if self.weight_regularizer_l1 > 0:\n",
    "            dL1 = np.ones_like(self.weights)\n",
    "            dL1[self.weights < 0] = -1\n",
    "            self.dweights += self.weight_regularizer_l1 * dL1\n",
    "            \n",
    "        # L2 weights\n",
    "        if self.weight_regularizer_l2 > 0:\n",
    "            self.dweights += 2 * self.weight_regularizer_l2 * self.weights\n",
    "            \n",
    "        # L1 biases\n",
    "        if self.bias_regularizer_l1 > 0:\n",
    "            dL1 = np.ones_like(self.biases)\n",
    "            dL1[self.biases < 0] = -1\n",
    "            self.dbiases += self.bias_regularizer_l1 * dL1\n",
    "            \n",
    "        # L2 biases\n",
    "        if self.bias_regularizer_l2 > 0:\n",
    "            self.dbiases += 2 * self.bias_regularizer_l2 * self.biases\n",
    "\n",
    "        # Gradients on values\n",
    "        self.dinputs = np.dot(dvalues, self.weights.T)"
   ],
   "id": "3e97da97e5b99619",
   "outputs": [],
   "execution_count": 6
  },
  {
   "metadata": {
    "ExecuteTime": {
     "end_time": "2025-05-26T09:43:20.481372Z",
     "start_time": "2025-05-26T09:43:20.474908Z"
    }
   },
   "cell_type": "code",
   "source": [
    "class Activation_ReLU:\n",
    "    def forward(self, inputs):\n",
    "        self.inputs = inputs\n",
    "\n",
    "        # Calculate the output based on inputs.\n",
    "        self.output = np.maximum(0, inputs)\n",
    "\n",
    "    def backward(self, dvalues):\n",
    "        # Copy before we modify\n",
    "        self.dinputs = dvalues.copy()\n",
    "\n",
    "        # Set to 0 if value is <=0\n",
    "        self.dinputs[self.inputs <= 0] = 0"
   ],
   "id": "c7abac5150862d5a",
   "outputs": [],
   "execution_count": 7
  },
  {
   "metadata": {
    "ExecuteTime": {
     "end_time": "2025-05-26T09:43:20.546929Z",
     "start_time": "2025-05-26T09:43:20.539439Z"
    }
   },
   "cell_type": "code",
   "source": [
    "class Loss:\n",
    "    def calculate(self, output, y):\n",
    "        # Calculate the per sample loss\n",
    "        samples_losses = self.forward(output, y)\n",
    "\n",
    "        # Calculate the mean loss and return it\n",
    "        loss = np.mean(samples_losses)\n",
    "        return loss\n",
    "    \n",
    "    def regularization_loss(self, layer):\n",
    "        # Init return value to 0\n",
    "        regularization_loss = 0\n",
    "        \n",
    "        # L1 weights\n",
    "        if layer.weight_regularizer_l1 > 0:\n",
    "            regularization_loss += layer.weight_regularizer_l1 * np.sum(np.abs(layer.weights))\n",
    "            \n",
    "        # L2 weights\n",
    "        if layer.weight_regularizer_l2 > 0:\n",
    "            regularization_loss += layer.weight_regularizer_l2 * np.sum(layer.weights ** 2)\n",
    "            \n",
    "        # L1 biases\n",
    "        if layer.bias_regularizer_l1 > 0:\n",
    "            regularization_loss += layer.bias_regularizer_l1 * np.sum(np.abs(layer.biases))\n",
    "            \n",
    "        # L2 biases\n",
    "        if layer.bias_regularizer_l2 > 0:\n",
    "            regularization_loss += layer.bias_regularizer_l2 * np.sum(layer.biases ** 2)\n",
    "            \n",
    "        return regularization_loss"
   ],
   "id": "690ae03c4a1b917e",
   "outputs": [],
   "execution_count": 8
  },
  {
   "metadata": {
    "ExecuteTime": {
     "end_time": "2025-05-26T09:43:20.597725Z",
     "start_time": "2025-05-26T09:43:20.590407Z"
    }
   },
   "cell_type": "code",
   "source": [
    "class Loss_CategoricalCrossentropy(Loss):\n",
    "    def forward(self, y_pred, y_true):\n",
    "        n_samples = len(y_pred)  # Count the samples\n",
    "\n",
    "        y_pred_clipped = np.clip(y_pred, 1e-7, 1 - 1e-7)  # Clip the predictions\n",
    "\n",
    "        # Get correct confidence values\n",
    "        # if labels are sparse\n",
    "        if len(y_true.shape) == 1:\n",
    "            correct_confidences = y_pred_clipped[range(n_samples), y_true]\n",
    "\n",
    "        # else if labels are one hot encoded\n",
    "        elif len(y_true.shape) == 2:\n",
    "            correct_confidences = np.sum(y_pred_clipped * y_true, axis=1)\n",
    "\n",
    "        # Compute Losses\n",
    "        losses = -np.log(correct_confidences)\n",
    "        return losses\n",
    "\n",
    "    # Backward pass\n",
    "    def backward(self, dvalues, y_true):\n",
    "        # Number of samples\n",
    "        samples = len(dvalues)\n",
    "\n",
    "        # Number of labels in every sample\n",
    "        # We'll use the first sample to count them\n",
    "        labels = len(dvalues[0])\n",
    "\n",
    "        # If labels are sparse, turn them into one-hot vector\n",
    "        if len(y_true.shape) == 1:\n",
    "            y_true = np.eye(labels)[y_true]\n",
    "\n",
    "        # Calculate gradient\n",
    "        self.dinputs = -y_true / dvalues\n",
    "\n",
    "        # Normalize gradient\n",
    "        self.dinputs = self.dinputs / samples"
   ],
   "id": "ff5827e55fee0aed",
   "outputs": [],
   "execution_count": 9
  },
  {
   "metadata": {
    "ExecuteTime": {
     "end_time": "2025-05-26T09:43:20.640846Z",
     "start_time": "2025-05-26T09:43:20.634222Z"
    }
   },
   "cell_type": "code",
   "source": [
    "# Softmax activation\n",
    "class Activation_Softmax:\n",
    "    def forward(self, inputs):\n",
    "        # Get unnormalized probabilities\n",
    "        exp_values = np.exp(inputs - np.max(inputs, axis=1, keepdims=True))\n",
    "        probabilities = exp_values / np.sum(exp_values, axis=1, keepdims=True)\n",
    "\n",
    "        # Normalize them for each sample\n",
    "        self.output = probabilities\n",
    "\n",
    "    def backward(self, dvalues):\n",
    "        # Create uninitialized array\n",
    "        self.dinputs = np.empty_like(dvalues)\n",
    "\n",
    "        # Enumerate outputs and gradients\n",
    "        for index, (single_output, single_dvalues) in enumerate(\n",
    "            zip(self.output, dvalues)\n",
    "        ):\n",
    "            # Flatten output array\n",
    "            single_output = single_output.reshape(-1, 1)\n",
    "\n",
    "            # Calculate Jacobian matrix of the output\n",
    "            jacobian_matrix = np.diagflat(single_output) - np.dot(\n",
    "                single_output, single_output.T\n",
    "            )\n",
    "\n",
    "            # Calculate sample-wise gradient\n",
    "            # and add it to the array of sample gradients\n",
    "            self.dinputs[index] = np.dot(jacobian_matrix, single_dvalues)"
   ],
   "id": "dc4abbbe5bf18a55",
   "outputs": [],
   "execution_count": 10
  },
  {
   "metadata": {
    "ExecuteTime": {
     "end_time": "2025-05-26T09:43:20.709925Z",
     "start_time": "2025-05-26T09:43:20.702506Z"
    }
   },
   "cell_type": "code",
   "source": [
    "# Softmax classifier - combined Softmax activation\n",
    "# and cross-entropy loss for faster backward step\n",
    "class Activation_Softmax_Loss_CategoricalCrossentropy:\n",
    "    # Creates activation and loss function objects\n",
    "    def __init__(self):\n",
    "        self.activation = Activation_Softmax()\n",
    "        self.loss = Loss_CategoricalCrossentropy()\n",
    "\n",
    "    def forward(self, inputs, y_true):\n",
    "        # Output layer's activation function\n",
    "        self.activation.forward(inputs)\n",
    "        # Set the output\n",
    "        self.output = self.activation.output\n",
    "        # Calculate and return loss value\n",
    "        return self.loss.calculate(self.output, y_true)\n",
    "\n",
    "    def backward(self, dvalues, y_true):  # Number of samples\n",
    "        samples = len(dvalues)\n",
    "        # If labels are one-hot encoded, # turn them into discrete values\n",
    "        if len(y_true.shape) == 2:\n",
    "            y_true = np.argmax(y_true, axis=1)\n",
    "        # Copy so we can safely modify\n",
    "        self.dinputs = dvalues.copy()\n",
    "        # Calculate gradient\n",
    "        self.dinputs[range(samples), y_true] -= 1\n",
    "        # Normalize gradient\n",
    "        self.dinputs = self.dinputs / samples"
   ],
   "id": "a2bef7cf0e4b2aa0",
   "outputs": [],
   "execution_count": 11
  },
  {
   "metadata": {
    "ExecuteTime": {
     "end_time": "2025-05-26T09:43:20.809330Z",
     "start_time": "2025-05-26T09:43:20.799896Z"
    }
   },
   "cell_type": "code",
   "source": [
    "# SGD optimizer\n",
    "class Optimizer_SGD:\n",
    "    # Initialize optimizer - set settings,\n",
    "    # learning rate of 1. is default for this optimizer\n",
    "    def __init__(self, learning_rate=1.0, decay=0.0, momentum=0.0):\n",
    "        self.learning_rate = learning_rate\n",
    "        self.current_learning_rate = learning_rate\n",
    "        self.decay = decay\n",
    "        self.iterations = 0\n",
    "        self.momentum = momentum\n",
    "\n",
    "    # Call before running optimization\n",
    "    def pre_update_params(self):\n",
    "        if self.decay:\n",
    "            self.current_learning_rate = self.learning_rate * (\n",
    "                1.0 / (1.0 + self.decay * self.iterations)\n",
    "            )\n",
    "\n",
    "    # Update parameters\n",
    "    def update_params(self, layer):\n",
    "        if self.momentum:\n",
    "            # If layer has no momentum arrays, create them\n",
    "            if not hasattr(layer, \"weight_momentums\"):\n",
    "                layer.weight_momentums = np.zeros_like(layer.weights)\n",
    "                layer.bias_momentums = np.zeros_like(layer.biases)\n",
    "\n",
    "            # Compute weight updates\n",
    "            weight_updates = (\n",
    "                self.momentum * layer.weight_momentums\n",
    "                - self.current_learning_rate * layer.dweights\n",
    "            )\n",
    "            layer.weight_momentums = weight_updates\n",
    "\n",
    "            # Compute bias updates\n",
    "            bias_updates = (\n",
    "                self.momentum * layer.bias_momentums\n",
    "                - self.current_learning_rate * layer.dbiases\n",
    "            )\n",
    "            layer.bias_momentums = bias_updates\n",
    "\n",
    "        else:\n",
    "            weight_updates = -self.current_learning_rate * layer.dweights\n",
    "            bias_updates = -self.current_learning_rate * layer.dbiases\n",
    "\n",
    "        # Perform update\n",
    "        layer.weights += weight_updates\n",
    "        layer.biases += bias_updates\n",
    "\n",
    "    # Call after running optimization\n",
    "    def post_update_params(self):\n",
    "        self.iterations += 1"
   ],
   "id": "b3bca5eaa402bd7a",
   "outputs": [],
   "execution_count": 12
  },
  {
   "metadata": {
    "ExecuteTime": {
     "end_time": "2025-05-26T09:43:20.859084Z",
     "start_time": "2025-05-26T09:43:20.848190Z"
    }
   },
   "cell_type": "code",
   "source": [
    "class Optimizer_Adagrad:\n",
    "    # Initialize optimizer - set settings,\n",
    "    # learning rate of 1. is default for this optimizer\n",
    "    def __init__(self, learning_rate=1.0, decay=0.0, epsilon=1e-7):\n",
    "        self.learning_rate = learning_rate\n",
    "        self.current_learning_rate = learning_rate\n",
    "        self.decay = decay\n",
    "        self.iterations = 0\n",
    "        self.epsilon = epsilon\n",
    "\n",
    "    # Call before running optimization\n",
    "    def pre_update_params(self):\n",
    "        if self.decay:\n",
    "            self.current_learning_rate = self.learning_rate * (\n",
    "                1.0 / (1.0 + self.decay * self.iterations)\n",
    "            )\n",
    "\n",
    "    # Update parameters\n",
    "    def update_params(self, layer):\n",
    "        # If layer has no cache arrays, create them\n",
    "        if not hasattr(layer, \"weight_cache\"):\n",
    "            layer.weight_cache = np.zeros_like(layer.weights)\n",
    "            layer.bias_cache = np.zeros_like(layer.biases)\n",
    "\n",
    "        # Update the cache\n",
    "        layer.weight_cache += layer.dweights**2\n",
    "        layer.bias_cache += layer.dbiases**2\n",
    "\n",
    "        # Compute weight updates\n",
    "        layer.weights += (\n",
    "            -self.current_learning_rate\n",
    "            * layer.dweights\n",
    "            / (np.sqrt(layer.weight_cache) + self.epsilon)\n",
    "        )\n",
    "\n",
    "        # Compute bias updates\n",
    "        layer.biases += (\n",
    "            -self.current_learning_rate\n",
    "            * layer.dbiases\n",
    "            / (np.sqrt(layer.bias_cache) + self.epsilon)\n",
    "        )\n",
    "\n",
    "    # Call after running optimization\n",
    "    def post_update_params(self):\n",
    "        self.iterations += 1"
   ],
   "id": "8d8aa4d6fa06fd08",
   "outputs": [],
   "execution_count": 13
  },
  {
   "metadata": {
    "ExecuteTime": {
     "end_time": "2025-05-26T09:43:20.905201Z",
     "start_time": "2025-05-26T09:43:20.897565Z"
    }
   },
   "cell_type": "code",
   "source": [
    "class Optimizer_RMSprop:\n",
    "    # Initialize optimizer - set settings,\n",
    "    # learning rate of 1. is default for this optimizer\n",
    "    def __init__(self, learning_rate=1.0, decay=0.0, epsilon=1e-7, rho=0.9):\n",
    "        self.learning_rate = learning_rate\n",
    "        self.current_learning_rate = learning_rate\n",
    "        self.decay = decay\n",
    "        self.iterations = 0\n",
    "        self.epsilon = epsilon\n",
    "        self.rho = rho\n",
    "\n",
    "    # Call before running optimization\n",
    "    def pre_update_params(self):\n",
    "        if self.decay:\n",
    "            self.current_learning_rate = self.learning_rate * (\n",
    "                1.0 / (1.0 + self.decay * self.iterations)\n",
    "            )\n",
    "\n",
    "    # Update parameters\n",
    "    def update_params(self, layer):\n",
    "        # If layer has no cache arrays, create them\n",
    "        if not hasattr(layer, \"weight_cache\"):\n",
    "            layer.weight_cache = np.zeros_like(layer.weights)\n",
    "            layer.bias_cache = np.zeros_like(layer.biases)\n",
    "\n",
    "        # Update the cache\n",
    "        layer.weight_cache = (\n",
    "            self.rho * layer.weight_cache + (1 - self.rho) * layer.dweights**2\n",
    "        )\n",
    "        layer.bias_cache = (\n",
    "            self.rho * layer.bias_cache + (1 - self.rho) * layer.dbiases**2\n",
    "        )\n",
    "\n",
    "        # Compute weight updates\n",
    "        layer.weights += (\n",
    "            -self.current_learning_rate\n",
    "            * layer.dweights\n",
    "            / (np.sqrt(layer.weight_cache) + self.epsilon)\n",
    "        )\n",
    "\n",
    "        # Compute bias updates\n",
    "        layer.biases += (\n",
    "            -self.current_learning_rate\n",
    "            * layer.dbiases\n",
    "            / (np.sqrt(layer.bias_cache) + self.epsilon)\n",
    "        )\n",
    "\n",
    "    # Call after running optimization\n",
    "    def post_update_params(self):\n",
    "        self.iterations += 1"
   ],
   "id": "a2be070fae87ca6",
   "outputs": [],
   "execution_count": 14
  },
  {
   "metadata": {
    "ExecuteTime": {
     "end_time": "2025-05-26T09:43:20.939425Z",
     "start_time": "2025-05-26T09:43:20.928084Z"
    }
   },
   "cell_type": "code",
   "source": [
    "class Optimizer_Adam:\n",
    "    # Initialize optimizer - set settings,\n",
    "    # learning rate of 1. is default for this optimizer\n",
    "    def __init__(self, learning_rate=0.001, decay=0.0, epsilon=1e-7, beta_1=0.9, beta_2=0.999):\n",
    "        self.learning_rate = learning_rate\n",
    "        self.current_learning_rate = learning_rate\n",
    "        self.decay = decay\n",
    "        self.iterations = 0\n",
    "        self.epsilon = epsilon\n",
    "        self.beta_1 = beta_1\n",
    "        self.beta_2 = beta_2\n",
    "\n",
    "    # Call before running optimization\n",
    "    def pre_update_params(self):\n",
    "        if self.decay:\n",
    "            self.current_learning_rate = self.learning_rate * (\n",
    "                1.0 / (1.0 + self.decay * self.iterations)\n",
    "            )\n",
    "\n",
    "    # Update parameters\n",
    "    def update_params(self, layer):\n",
    "        # If layer has no cache arrays, create them\n",
    "        if not hasattr(layer, \"weight_cache\"):\n",
    "            layer.weight_cache = np.zeros_like(layer.weights)\n",
    "            layer.weight_momentums = np.zeros_like(layer.weights)\n",
    "            layer.bias_cache = np.zeros_like(layer.biases)\n",
    "            layer.bias_momentums = np.zeros_like(layer.biases)\n",
    "            \n",
    "        # Compute momentums\n",
    "        layer.weight_momentums = self.beta_1 * layer.weight_momentums + (1 - self.beta_1) * layer.dweights\n",
    "        layer.bias_momentums = self.beta_1 * layer.bias_momentums + (1 - self.beta_1) * layer.dbiases\n",
    "        \n",
    "        # Perform momentum correction using beta 1 (add +1 to avoid zero-division error)\n",
    "        weight_momentums_corrected = layer.weight_momentums / (1 - self.beta_1 ** (self.iterations + 1))\n",
    "        bias_momentums_corrected = layer.bias_momentums / (1 - self.beta_1 ** (self.iterations + 1))\n",
    "\n",
    "        # Update the cache\n",
    "        layer.weight_cache = (\n",
    "            self.beta_2 * layer.weight_cache + (1 - self.beta_2) * layer.dweights**2\n",
    "        )\n",
    "        layer.bias_cache = (\n",
    "            self.beta_2 * layer.bias_cache + (1 - self.beta_2) * layer.dbiases**2\n",
    "        )\n",
    "        \n",
    "        # Perform cache correction\n",
    "        weight_cache_corrected = layer.weight_cache / (1 - self.beta_2 ** (self.iterations + 1))\n",
    "        bias_cache_corrected = layer.bias_cache / (1 - self.beta_2 ** (self.iterations + 1))\n",
    "\n",
    "        # Compute weight updates\n",
    "        layer.weights += (\n",
    "            -self.current_learning_rate\n",
    "            * weight_momentums_corrected\n",
    "            / (np.sqrt(weight_cache_corrected) + self.epsilon)\n",
    "        )\n",
    "\n",
    "        # Compute bias updates\n",
    "        layer.biases += (\n",
    "            -self.current_learning_rate\n",
    "            * bias_momentums_corrected\n",
    "            / (np.sqrt(bias_cache_corrected) + self.epsilon)\n",
    "        )\n",
    "\n",
    "    # Call after running optimization\n",
    "    def post_update_params(self):\n",
    "        self.iterations += 1"
   ],
   "id": "9a107d5ceeb39954",
   "outputs": [],
   "execution_count": 15
  },
  {
   "metadata": {
    "ExecuteTime": {
     "end_time": "2025-05-26T09:43:20.975749Z",
     "start_time": "2025-05-26T09:43:20.970238Z"
    }
   },
   "cell_type": "code",
   "source": [
    "class Layer_Dropout:\n",
    "    def __init__(self, rate):\n",
    "        # Store the dropout probability which is 1-dropout_rate\n",
    "        self.rate = 1 - rate\n",
    "        \n",
    "    def forward(self, inputs):\n",
    "        # Save inputs\n",
    "        self.inputs = inputs\n",
    "        \n",
    "        # Generate dropout mask\n",
    "        self.binary_mask = np.random.binomial(1, self.rate, size=inputs.shape) / self.rate\n",
    "        \n",
    "        # Apply output mask\n",
    "        self.output = inputs * self.binary_mask\n",
    "        \n",
    "    def backward(self, dvalues):\n",
    "        # Apply gradient on values\n",
    "        self.dinputs = dvalues * self.binary_mask"
   ],
   "id": "13f77742b6d1e01c",
   "outputs": [],
   "execution_count": 16
  },
  {
   "metadata": {},
   "cell_type": "markdown",
   "source": "## Sigmoid Aktivierungsfunktion",
   "id": "89666e02a94b64ee"
  },
  {
   "metadata": {
    "ExecuteTime": {
     "end_time": "2025-05-26T09:43:21.018530Z",
     "start_time": "2025-05-26T09:43:21.014495Z"
    }
   },
   "cell_type": "code",
   "source": [
    "class Activation_Sigmoid:\n",
    "    def forward(self, inputs):\n",
    "        # Save inputs and calculate output\n",
    "        ...\n",
    "        \n",
    "    def backward(self, dvalues):\n",
    "        # Calculate derivate (remember to use the \"trick\")\n",
    "        ..."
   ],
   "id": "820613e9ece119f1",
   "outputs": [],
   "execution_count": 17
  },
  {
   "metadata": {
    "ExecuteTime": {
     "end_time": "2025-05-26T09:43:21.065266Z",
     "start_time": "2025-05-26T09:43:21.057827Z"
    }
   },
   "cell_type": "code",
   "source": [
    "class Activation_Sigmoid:\n",
    "    def forward(self, inputs):\n",
    "        # Save inputs and calculate output\n",
    "        self.inputs = inputs\n",
    "        self.output = 1 / (1 + np.exp(-inputs))\n",
    "        \n",
    "    def backward(self, dvalues):\n",
    "        # Calculate derivate (remember to use the \"trick\")\n",
    "        self.dinputs = dvalues * (1 - self.output) * self.output"
   ],
   "id": "2779d8ee362737a2",
   "outputs": [],
   "execution_count": 18
  },
  {
   "metadata": {},
   "cell_type": "markdown",
   "source": "## Binäre Kreuzentropie",
   "id": "4848f8bb90f72828"
  },
  {
   "metadata": {
    "ExecuteTime": {
     "end_time": "2025-05-26T09:43:21.109004Z",
     "start_time": "2025-05-26T09:43:21.103717Z"
    }
   },
   "cell_type": "code",
   "source": [
    "# Binary cross-entropy loss\n",
    "class Loss_BinaryCrossentropy(Loss):\n",
    "\n",
    "    # Forward pass\n",
    "    def forward(self, y_pred, y_true):\n",
    "\n",
    "        # Clip data to prevent division by 0\n",
    "        # Clip both sides to not drag mean towards any value\n",
    "        ...\n",
    "\n",
    "        # Calculate sample-wise loss\n",
    "        ...\n",
    "\n",
    "        # Return losses\n",
    "        return sample_losses\n",
    "\n",
    "    # Backward pass\n",
    "    def backward(self, dvalues, y_true):\n",
    "\n",
    "        # Number of samples\n",
    "        samples = len(dvalues)\n",
    "        # Number of outputs in every sample\n",
    "        # We'll use the first sample to count them\n",
    "        outputs = len(dvalues[0])\n",
    "\n",
    "        # Clip data to prevent division by 0\n",
    "        # Clip both sides to not drag mean towards any value\n",
    "        ...\n",
    "\n",
    "        # Calculate gradient\n",
    "        ...\n",
    "        \n",
    "        # Normalize gradient\n",
    "        self.dinputs = ..."
   ],
   "id": "7b1076774a9e9130",
   "outputs": [],
   "execution_count": 19
  },
  {
   "metadata": {
    "ExecuteTime": {
     "end_time": "2025-05-26T09:43:21.181167Z",
     "start_time": "2025-05-26T09:43:21.174381Z"
    }
   },
   "cell_type": "code",
   "source": [
    "# Binary cross-entropy loss\n",
    "class Loss_BinaryCrossentropy(Loss):\n",
    "\n",
    "    # Forward pass\n",
    "    def forward(self, y_pred, y_true):\n",
    "\n",
    "        # Clip data to prevent division by 0\n",
    "        # Clip both sides to not drag mean towards any value\n",
    "        y_pred_clipped = np.clip(y_pred, 1e-7, 1 - 1e-7)\n",
    "\n",
    "        # Calculate sample-wise loss\n",
    "        sample_losses = -(y_true * np.log(y_pred_clipped) +\n",
    "                          (1 - y_true) * np.log(1 - y_pred_clipped))\n",
    "        sample_losses = np.mean(sample_losses, axis=-1)\n",
    "\n",
    "        # Return losses\n",
    "        return sample_losses\n",
    "\n",
    "    # Backward pass\n",
    "    def backward(self, dvalues, y_true):\n",
    "\n",
    "        # Number of samples\n",
    "        samples = len(dvalues)\n",
    "        # Number of outputs in every sample\n",
    "        # We'll use the first sample to count them\n",
    "        outputs = len(dvalues[0])\n",
    "\n",
    "        # Clip data to prevent division by 0\n",
    "        # Clip both sides to not drag mean towards any value\n",
    "        clipped_dvalues = np.clip(dvalues, 1e-7, 1 - 1e-7)\n",
    "\n",
    "        # Calculate gradient\n",
    "        self.dinputs = -(y_true / clipped_dvalues -\n",
    "                         (1 - y_true) / (1 - clipped_dvalues)) / outputs\n",
    "        # Normalize gradient\n",
    "        self.dinputs = self.dinputs / samples"
   ],
   "id": "ffb7deb8b8e677d6",
   "outputs": [],
   "execution_count": 20
  },
  {
   "metadata": {
    "ExecuteTime": {
     "end_time": "2025-05-26T09:47:16.182426Z",
     "start_time": "2025-05-26T09:43:21.212308Z"
    }
   },
   "cell_type": "code",
   "source": [
    "from sentence_transformers import SentenceTransformer\n",
    "\n",
    "model = SentenceTransformer('all-MiniLM-L6-v2')  # klein, schnell, gut\n",
    "\n",
    "# csv\n",
    "df = pd.read_csv('data/all_balanced.csv')\n",
    "#test, waste = spiral_data(100,2)\n",
    "#print(test)\n",
    "# Create dataset\n",
    "X, y = df.iloc[:, 0].values, df.iloc[:, 1].values\n",
    "X = model.encode(X)\n",
    "\n",
    "print(X)\n",
    "#print(y)\n",
    "#X = X.reshape(-1, 1)\n",
    "y = y.reshape(-1, 1)\n",
    "#print(X)\n",
    "#print(y)"
   ],
   "id": "42bd8ae4ee525501",
   "outputs": [
    {
     "name": "stderr",
     "output_type": "stream",
     "text": [
      "C:\\Users\\levin\\PycharmProjects\\deep_learning_emotion_detection_text\\.venv\\Lib\\site-packages\\tqdm\\auto.py:21: TqdmWarning: IProgress not found. Please update jupyter and ipywidgets. See https://ipywidgets.readthedocs.io/en/stable/user_install.html\n",
      "  from .autonotebook import tqdm as notebook_tqdm\n"
     ]
    },
    {
     "name": "stdout",
     "output_type": "stream",
     "text": [
      "[[-0.06057995  0.02008573  0.00769257 ... -0.04890611 -0.00718279\n",
      "   0.00108038]\n",
      " [ 0.01186096  0.06248729 -0.02099435 ... -0.02279514 -0.0537044\n",
      "   0.00556304]\n",
      " [ 0.00310543  0.00930508  0.02688546 ...  0.014915   -0.01861735\n",
      "   0.00787771]\n",
      " ...\n",
      " [-0.01042063 -0.06818379  0.06823131 ... -0.06148947 -0.0320043\n",
      "  -0.05157725]\n",
      " [-0.04017004  0.04794915  0.05517191 ... -0.01071527 -0.04097204\n",
      "   0.02861976]\n",
      " [ 0.00977381  0.01114806  0.05990079 ...  0.04692468 -0.04389484\n",
      "  -0.02358454]]\n"
     ]
    }
   ],
   "execution_count": 21
  },
  {
   "metadata": {
    "ExecuteTime": {
     "end_time": "2025-05-26T09:47:16.449947Z",
     "start_time": "2025-05-26T09:47:16.405910Z"
    }
   },
   "cell_type": "code",
   "source": [
    "options = set(y.reshape(-1))\n",
    "options = list(options)\n",
    "print(options)\n",
    "output = []\n",
    "for i in y.reshape(-1):\n",
    "    if i == options[0]:\n",
    "        output.append(0)\n",
    "    elif i == options[1]:\n",
    "        output.append(1)\n",
    "    elif i == options[2]:\n",
    "        output.append(2)\n",
    "    elif i == options[3]:\n",
    "        output.append(3)\n",
    "    elif i == options[4]:\n",
    "        output.append(4)\n",
    "    elif i == options[5]:\n",
    "        output.append(5)\n",
    "    else:\n",
    "        raise ValueError(\"Unexpected value in y\")\n",
    "print(output)"
   ],
   "id": "6737af759a0cb881",
   "outputs": [
    {
     "name": "stdout",
     "output_type": "stream",
     "text": [
      "['surprise', 'love', 'sadness', 'joy', 'anger', 'fear']\n",
      "[0, 1, 0, 3, 0, 5, 0, 4, 1, 0, 5, 4, 5, 1, 2, 1, 1, 3, 5, 1, 5, 3, 1, 0, 4, 3, 2, 0, 1, 5, 0, 2, 5, 5, 0, 5, 0, 0, 5, 5, 3, 5, 1, 5, 1, 1, 3, 5, 4, 5, 3, 2, 1, 4, 3, 2, 0, 4, 2, 5, 1, 3, 5, 0, 4, 5, 0, 1, 1, 2, 3, 0, 5, 0, 3, 0, 5, 1, 1, 1, 3, 4, 4, 4, 1, 0, 4, 2, 1, 2, 4, 1, 3, 3, 1, 5, 4, 3, 0, 4, 0, 2, 5, 1, 5, 4, 2, 2, 1, 3, 1, 0, 0, 1, 5, 3, 1, 2, 1, 5, 3, 5, 0, 2, 4, 4, 0, 4, 1, 1, 3, 4, 5, 0, 5, 2, 1, 0, 3, 4, 1, 4, 1, 4, 4, 4, 2, 4, 5, 2, 1, 3, 3, 4, 4, 2, 2, 4, 3, 2, 5, 1, 3, 2, 3, 0, 4, 5, 4, 2, 0, 5, 1, 5, 1, 1, 5, 1, 4, 3, 4, 4, 1, 5, 3, 4, 3, 3, 2, 4, 2, 1, 4, 4, 3, 3, 1, 1, 0, 5, 0, 4, 1, 0, 0, 0, 4, 2, 1, 0, 2, 4, 0, 3, 0, 5, 3, 0, 0, 3, 4, 3, 2, 2, 0, 5, 1, 3, 1, 0, 2, 0, 0, 4, 0, 1, 5, 0, 1, 5, 5, 3, 0, 2, 3, 3, 5, 3, 3, 0, 1, 2, 3, 0, 2, 0, 0, 1, 1, 0, 5, 2, 0, 2, 5, 3, 4, 3, 5, 0, 4, 3, 2, 2, 4, 2, 4, 3, 2, 0, 5, 1, 1, 1, 2, 1, 3, 5, 3, 0, 2, 1, 2, 3, 4, 5, 2, 0, 1, 1, 4, 2, 1, 3, 3, 4, 4, 0, 1, 0, 5, 0, 2, 0, 4, 0, 5, 3, 1, 2, 5, 2, 1, 1, 4, 1, 5, 2, 4, 0, 3, 5, 4, 2, 3, 4, 5, 0, 0, 0, 4, 0, 0, 2, 3, 3, 4, 1, 1, 3, 5, 3, 5, 3, 0, 1, 1, 1, 5, 1, 1, 4, 5, 0, 5, 0, 3, 4, 4, 3, 2, 4, 2, 3, 1, 2, 5, 3, 3, 5, 4, 3, 5, 0, 3, 3, 0, 4, 0, 1, 1, 0, 1, 4, 0, 4, 4, 5, 1, 3, 1, 4, 1, 5, 5, 2, 3, 4, 4, 3, 0, 3, 2, 2, 3, 2, 2, 2, 2, 1, 5, 2, 1, 3, 5, 4, 1, 3, 0, 1, 3, 2, 0, 1, 1, 5, 5, 1, 4, 1, 0, 2, 1, 0, 3, 3, 0, 1, 3, 2, 1, 0, 0, 3, 5, 0, 0, 5, 2, 4, 0, 1, 1, 3, 5, 2, 3, 1, 2, 5, 0, 2, 3, 4, 0, 2, 0, 0, 3, 5, 3, 5, 5, 2, 1, 2, 0, 5, 1, 2, 3, 0, 2, 2, 0, 3, 0, 5, 3, 3, 2, 4, 5, 0, 2, 5, 4, 5, 1, 3, 0, 2, 1, 1, 1, 0, 4, 3, 4, 5, 1, 4, 0, 3, 1, 4, 3, 3, 3, 1, 5, 0, 0, 0, 1, 3, 2, 5, 2, 5, 0, 5, 1, 5, 3, 2, 0, 3, 4, 3, 0, 1, 3, 2, 1, 2, 5, 0, 5, 2, 0, 3, 1, 3, 0, 0, 3, 4, 0, 5, 3, 1, 1, 5, 4, 2, 5, 2, 4, 4, 3, 0, 5, 3, 4, 0, 3, 0, 5, 2, 0, 3, 4, 4, 5, 2, 5, 3, 2, 4, 5, 5, 3, 5, 0, 1, 5, 2, 1, 3, 4, 0, 0, 1, 5, 2, 4, 0, 5, 3, 4, 5, 0, 2, 4, 2, 2, 4, 3, 4, 5, 5, 0, 3, 5, 4, 1, 4, 4, 5, 3, 4, 4, 0, 3, 4, 4, 5, 2, 1, 0, 2, 5, 2, 0, 3, 1, 5, 3, 3, 3, 3, 1, 2, 3, 4, 2, 1, 2, 4, 4, 2, 0, 0, 2, 0, 2, 4, 1, 4, 2, 2, 2, 3, 0, 1, 2, 3, 3, 0, 3, 4, 3, 2, 3, 4, 2, 1, 4, 4, 1, 5, 4, 2, 3, 3, 5, 1, 0, 0, 4, 4, 0, 1, 0, 2, 4, 2, 4, 2, 3, 3, 5, 5, 1, 5, 4, 3, 4, 5, 5, 0, 1, 2, 1, 2, 4, 0, 4, 4, 3, 2, 0, 4, 4, 3, 4, 0, 2, 1, 5, 1, 4, 0, 4, 2, 4, 2, 3, 2, 4, 1, 2, 0, 1, 0, 1, 3, 4, 1, 3, 5, 1, 0, 1, 5, 1, 3, 0, 5, 0, 2, 2, 3, 4, 2, 4, 1, 3, 2, 3, 2, 4, 5, 2, 0, 4, 1, 2, 3, 0, 1, 0, 1, 3, 0, 0, 0, 0, 3, 3, 2, 0, 2, 0, 0, 1, 1, 2, 2, 3, 3, 1, 3, 1, 2, 4, 1, 3, 4, 1, 3, 5, 1, 4, 0, 1, 1, 0, 1, 0, 2, 1, 4, 2, 0, 5, 1, 3, 5, 0, 5, 4, 1, 1, 1, 1, 4, 2, 1, 3, 1, 2, 3, 1, 1, 0, 4, 1, 0, 2, 0, 1, 5, 0, 5, 2, 0, 0, 4, 3, 5, 4, 0, 2, 3, 1, 3, 5, 0, 3, 3, 0, 1, 1, 3, 1, 1, 5, 3, 5, 2, 0, 4, 2, 5, 4, 3, 4, 2, 2, 3, 0, 2, 5, 1, 2, 4, 2, 2, 0, 1, 2, 2, 2, 5, 2, 3, 0, 4, 0, 5, 0, 1, 1, 4, 5, 0, 1, 2, 4, 2, 3, 5, 2, 0, 0, 2, 5, 4, 0, 4, 3, 3, 3, 0, 1, 1, 4, 0, 1, 5, 4, 0, 2, 2, 0, 3, 2, 4, 3, 0, 1, 0, 3, 4, 5, 1, 0, 0, 1, 0, 5, 5, 4, 5, 3, 3, 1, 2, 1, 3, 3, 3, 3, 1, 1, 4, 2, 0, 5, 4, 4, 4, 1, 4, 3, 0, 2, 1, 0, 4, 4, 4, 2, 5, 5, 0, 0, 2, 4, 5, 2, 2, 0, 2, 2, 5, 2, 5, 5, 5, 0, 5, 5, 0, 5, 5, 0, 2, 5, 1, 5, 1, 3, 2, 4, 0, 1, 2, 3, 2, 2, 5, 3, 2, 3, 4, 2, 2, 2, 4, 2, 3, 1, 1, 0, 0, 4, 2, 3, 5, 2, 3, 3, 1, 1, 2, 1, 5, 5, 3, 5, 3, 1, 3, 2, 3, 1, 1, 5, 3, 0, 2, 0, 4, 0, 4, 0, 3, 5, 4, 0, 5, 2, 0, 3, 0, 0, 2, 5, 5, 5, 3, 0, 2, 0, 2, 3, 1, 3, 5, 5, 0, 3, 3, 3, 3, 5, 4, 3, 2, 4, 0, 5, 4, 3, 1, 4, 4, 1, 0, 5, 4, 5, 0, 5, 0, 0, 3, 5, 0, 2, 3, 3, 3, 0, 3, 1, 4, 3, 0, 0, 5, 0, 2, 4, 5, 5, 3, 0, 1, 1, 2, 4, 1, 2, 4, 2, 3, 4, 2, 3, 3, 4, 4, 5, 4, 5, 4, 5, 0, 2, 3, 0, 3, 2, 5, 3, 2, 3, 5, 4, 3, 3, 0, 2, 4, 3, 5, 1, 2, 2, 1, 2, 5, 2, 4, 4, 1, 4, 0, 2, 1, 2, 0, 2, 5, 3, 4, 1, 2, 5, 5, 1, 1, 2, 4, 3, 0, 3, 4, 4, 4, 4, 4, 2, 4, 2, 3, 2, 3, 2, 1, 5, 5, 2, 4, 1, 1, 2, 5, 0, 1, 0, 4, 1, 2, 3, 4, 0, 2, 5, 5, 5, 0, 0, 3, 3, 2, 0, 4, 5, 3, 5, 0, 5, 5, 4, 0, 4, 4, 1, 5, 1, 0, 5, 0, 1, 5, 5, 3, 5, 1, 2, 4, 1, 2, 4, 2, 1, 2, 5, 0, 2, 4, 3, 2, 1, 0, 5, 0, 0, 0, 4, 3, 5, 1, 4, 5, 3, 2, 2, 3, 4, 4, 0, 4, 1, 5, 5, 4, 4, 1, 1, 5, 1, 2, 5, 4, 4, 0, 4, 5, 4, 5, 1, 5, 2, 0, 3, 3, 4, 1, 2, 4, 4, 4, 0, 4, 0, 2, 4, 2, 5, 2, 5, 1, 3, 1, 3, 3, 0, 0, 2, 4, 0, 1, 4, 3, 3, 3, 2, 4, 0, 1, 4, 0, 1, 0, 4, 4, 1, 5, 0, 3, 5, 3, 4, 3, 5, 5, 5, 4, 1, 2, 0, 4, 1, 0, 2, 0, 1, 0, 3, 5, 4, 3, 2, 2, 1, 5, 1, 2, 3, 1, 3, 3, 2, 5, 2, 0, 0, 5, 1, 1, 5, 4, 0, 5, 3, 1, 2, 2, 4, 0, 1, 4, 2, 2, 0, 5, 1, 1, 2, 3, 2, 4, 2, 0, 3, 2, 4, 5, 1, 1, 4, 3, 4, 5, 1, 4, 5, 2, 5, 4, 1, 2, 3, 4, 0, 2, 4, 3, 0, 4, 5, 0, 5, 3, 3, 3, 0, 3, 1, 2, 0, 5, 4, 4, 0, 2, 1, 3, 0, 4, 1, 0, 5, 1, 2, 0, 1, 3, 0, 0, 1, 2, 3, 0, 5, 5, 2, 2, 1, 4, 5, 0, 3, 2, 2, 2, 3, 2, 2, 1, 0, 4, 0, 4, 2, 3, 1, 1, 0, 2, 1, 3, 2, 2, 1, 1, 1, 2, 5, 3, 5, 2, 5, 1, 4, 3, 1, 3, 1, 2, 2, 1, 0, 4, 5, 5, 1, 4, 1, 1, 4, 2, 2, 5, 5, 5, 4, 0, 0, 5, 4, 3, 2, 5, 1, 0, 5, 3, 0, 2, 0, 4, 0, 1, 5, 1, 3, 2, 2, 0, 0, 0, 2, 2, 1, 2, 4, 5, 0, 1, 0, 5, 1, 3, 3, 3, 0, 4, 3, 5, 4, 2, 2, 5, 5, 1, 0, 2, 5, 1, 0, 2, 0, 4, 1, 5, 5, 1, 2, 4, 1, 3, 1, 1, 2, 4, 0, 4, 2, 4, 1, 5, 3, 5, 0, 0, 4, 0, 4, 4, 4, 1, 0, 1, 2, 0, 1, 4, 3, 1, 3, 2, 0, 5, 0, 5, 2, 4, 2, 1, 0, 0, 4, 4, 2, 4, 5, 5, 1, 4, 0, 3, 3, 3, 1, 4, 4, 1, 4, 0, 3, 4, 5, 3, 1, 0, 0, 4, 1, 5, 5, 3, 3, 0, 0, 2, 1, 5, 0, 4, 1, 1, 3, 1, 1, 1, 3, 0, 4, 1, 3, 4, 4, 2, 0, 0, 5, 5, 5, 5, 5, 5, 0, 1, 1, 4, 1, 3, 1, 5, 1, 0, 0, 0, 0, 4, 3, 4, 1, 3, 4, 1, 1, 1, 3, 0, 0, 4, 0, 5, 3, 0, 2, 0, 0, 3, 3, 0, 5, 0, 5, 2, 0, 5, 4, 3, 1, 2, 2, 1, 0, 1, 4, 4, 2, 1, 2, 2, 4, 5, 1, 0, 3, 2, 0, 5, 1, 4, 5, 5, 3, 2, 5, 0, 4, 3, 0, 0, 1, 5, 3, 1, 1, 4, 2, 1, 2, 3, 1, 3, 1, 4, 5, 0, 1, 1, 3, 5, 0, 1, 5, 0, 4, 4, 4, 4, 2, 3, 2, 4, 2, 0, 5, 3, 5, 2, 0, 5, 0, 3, 0, 4, 1, 1, 0, 3, 0, 4, 3, 3, 3, 3, 2, 4, 0, 1, 4, 0, 2, 4, 4, 4, 0, 1, 4, 3, 1, 0, 3, 5, 3, 1, 0, 0, 2, 2, 4, 3, 3, 0, 3, 3, 3, 1, 2, 5, 4, 1, 0, 2, 4, 1, 4, 5, 5, 4, 0, 5, 1, 5, 2, 4, 2, 3, 5, 5, 5, 5, 4, 2, 3, 3, 5, 2, 4, 1, 0, 2, 5, 3, 5, 0, 1, 4, 3, 3, 4, 1, 1, 1, 3, 1, 2, 1, 3, 1, 4, 1, 4, 1, 4, 1, 5, 1, 5, 0, 3, 4, 3, 4, 0, 2, 2, 2, 3, 4, 1, 1, 3, 4, 5, 1, 2, 2, 0, 5, 2, 5, 4, 3, 3, 5, 2, 2, 3, 5, 2, 1, 1, 0, 4, 3, 5, 2, 1, 3, 2, 5, 4, 3, 3, 4, 2, 5, 5, 0, 0, 2, 5, 3, 0, 0, 1, 3, 2, 1, 2, 0, 3, 2, 1, 5, 4, 5, 5, 1, 5, 3, 1, 2, 1, 1, 3, 5, 1, 5, 1, 0, 2, 0, 5, 4, 0, 2, 0, 0, 4, 4, 5, 1, 2, 1, 1, 5, 3, 5, 5, 5, 1, 2, 2, 1, 0, 0, 1, 4, 4, 0, 5, 5, 3, 1, 0, 5, 0, 5, 5, 5, 2, 3, 3, 0, 0, 0, 4, 3, 5, 5, 4, 0, 0, 3, 3, 0, 3, 1, 2, 5, 5, 1, 3, 1, 4, 5, 3, 2, 1, 1, 0, 2, 5, 1, 0, 4, 3, 2, 5, 2, 3, 3, 0, 4, 5, 4, 5, 2, 0, 3, 3, 5, 5, 3, 3, 3, 0, 3, 2, 4, 5, 4, 5, 4, 4, 1, 2, 3, 1, 2, 4, 3, 0, 2, 3, 0, 5, 5, 4, 2, 4, 2, 1, 3, 3, 3, 4, 0, 1, 3, 1, 1, 2, 2, 5, 3, 0, 4, 0, 4, 0, 2, 1, 0, 5, 3, 0, 5, 3, 1, 0, 0, 5, 1, 1, 3, 0, 1, 0, 1, 5, 0, 1, 0, 5, 4, 4, 4, 0, 0, 4, 4, 2, 2, 5, 2, 2, 3, 0, 0, 5, 2, 1, 0, 3, 0, 5, 1, 2, 4, 1, 4, 5, 2, 3, 0, 0, 0, 1, 5, 4, 0, 1, 1, 0, 1, 5, 4, 4, 2, 0, 0, 3, 2, 4, 4, 4, 4, 2, 1, 1, 5, 4, 5, 5, 1, 0, 3, 3, 4, 0, 2, 0, 0, 1, 1, 5, 0, 0, 3, 4, 2, 2, 4, 4, 0, 5, 5, 3, 3, 5, 0, 3, 5, 2, 4, 3, 0, 2, 1, 2, 5, 2, 3, 1, 1, 4, 4, 4, 1, 2, 1, 5, 1, 2, 4, 0, 2, 1, 4, 5, 4, 5, 4, 1, 2, 0, 5, 0, 0, 0, 0, 5, 2, 4, 4, 1, 0, 3, 0, 2, 4, 0, 5, 2, 4, 2, 4, 4, 0, 1, 4, 1, 2, 0, 1, 4, 0, 3, 2, 0, 1, 0, 1, 2, 1, 3, 5, 2, 2, 5, 2, 4, 5, 3, 4, 3, 5, 2, 5, 3, 4, 4, 3, 5, 5, 5, 4, 3, 5, 0, 5, 5, 5, 3, 4, 4, 4, 2, 1, 3, 3, 3, 5, 1, 0, 0, 1, 2, 5, 5, 4, 2, 0, 1, 5, 3, 0, 4, 4, 0, 0, 0, 1, 0, 2, 1, 1, 4, 5, 3, 4, 5, 0, 0, 2, 0, 2, 4, 2, 3, 4, 0, 1, 3, 5, 3, 1, 0, 3, 4, 2, 3, 4, 1, 0, 2, 0, 4, 1, 4, 5, 5, 1, 2, 3, 0, 5, 3, 0, 5, 0, 4, 0, 1, 2, 2, 5, 5, 0, 1, 1, 5, 0, 5, 1, 4, 1, 1, 3, 3, 4, 3, 0, 0, 2, 2, 5, 3, 4, 4, 4, 0, 2, 1, 1, 5, 5, 4, 4, 4, 4, 5, 2, 4, 3, 2, 0, 1, 2, 4, 2, 1, 3, 5, 2, 2, 0, 5, 3, 3, 2, 5, 0, 4, 5, 2, 4, 2, 1, 3, 3, 0, 1, 4, 4, 5, 4, 1, 1, 2, 5, 4, 5, 4, 2, 0, 1, 3, 2, 1, 0, 2, 0, 5, 1, 1, 4, 5, 3, 1, 5, 2, 4, 0, 5, 2, 5, 1, 5, 5, 4, 1, 1, 4, 1, 1, 2, 5, 1, 1, 5, 4, 3, 0, 4, 2, 1, 2, 1, 4, 5, 5, 0, 5, 0, 1, 1, 3, 2, 3, 5, 0, 4, 1, 1, 4, 1, 2, 2, 2, 3, 4, 3, 1, 0, 2, 1, 1, 2, 0, 3, 1, 4, 4, 3, 0, 2, 4, 3, 0, 5, 1, 3, 1, 2, 4, 4, 2, 4, 4, 5, 0, 1, 2, 3, 2, 1, 0, 2, 0, 4, 3, 4, 5, 5, 1, 1, 2, 5, 2, 4, 3, 3, 4, 2, 2, 4, 1, 0, 0, 1, 2, 5, 0, 0, 0, 3, 1, 5, 1, 1, 5, 5, 4, 4, 5, 1, 3, 5, 0, 4, 5, 4, 5, 4, 0, 5, 3, 0, 1, 1, 0, 3, 5, 3, 2, 0, 3, 2, 5, 1, 1, 4, 1, 2, 4, 0, 5, 0, 5, 4, 2, 0, 3, 1, 4, 2, 5, 4, 1, 5, 1, 2, 3, 4, 0, 1, 3, 3, 0, 4, 5, 5, 0, 4, 5, 4, 5, 1, 5, 0, 3, 3, 5, 1, 4, 3, 4, 5, 4, 4, 5, 3, 4, 1, 4, 2, 5, 3, 1, 1, 2, 4, 3, 0, 5, 5, 1, 2, 4, 3, 5, 5, 0, 5, 2, 4, 2, 5, 3, 5, 1, 1, 5, 3, 0, 0, 2, 1, 4, 4, 0, 4, 3, 5, 4, 1, 5, 4, 2, 0, 1, 3, 2, 3, 4, 2, 2, 2, 3, 0, 4, 4, 1, 0, 1, 1, 2, 1, 1, 0, 5, 5, 2, 3, 2, 5, 3, 0, 3, 2, 5, 2, 1, 0, 2, 5, 3, 3, 4, 4, 2, 0, 4, 0, 4, 5, 5, 3, 5, 1, 3, 5, 5, 5, 3, 4, 0, 1, 4, 1, 2, 4, 2, 2, 5, 3, 4, 4, 2, 2, 2, 1, 0, 4, 3, 2, 1, 0, 0, 1, 1, 2, 3, 0, 4, 1, 1, 5, 3, 4, 2, 5, 2, 1, 0, 1, 3, 3, 4, 5, 5, 3, 4, 5, 0, 2, 5, 3, 2, 2, 3, 2, 0, 0, 5, 2, 5, 1, 3, 5, 4, 4, 5, 3, 5, 3, 4, 5, 2, 2, 2, 3, 5, 3, 4, 5, 4, 1, 4, 0, 5, 3, 3, 3, 0, 4, 4, 4, 4, 2, 1, 5, 3, 1, 5, 2, 5, 1, 3, 2, 0, 1, 1, 1, 4, 1, 5, 1, 5, 0, 5, 4, 4, 3, 0, 4, 4, 3, 5, 5, 2, 3, 3, 1, 4, 4, 1, 1, 4, 4, 3, 1, 4, 0, 4, 2, 0, 4, 3, 2, 4, 1, 0, 3, 0, 2, 2, 2, 0, 4, 2, 4, 5, 0, 0, 2, 4, 2, 1, 3, 4, 3, 3, 4, 2, 4, 4, 5, 4, 5, 1, 0, 3, 3, 4, 4, 0, 0, 3, 1, 3, 2, 2, 2, 0, 1, 4, 0, 4, 2, 1, 4, 3, 2, 2, 1, 0, 4, 1, 1, 1, 3, 3, 1, 2, 2, 5, 4, 1, 5, 5, 3, 1, 3, 4, 0, 2, 3, 3, 2, 2, 2, 2, 2, 0, 5, 3, 4, 3, 5, 5, 1, 4, 1, 3, 0, 4, 4, 2, 4, 0, 1, 5, 5, 3, 0, 3, 4, 1, 4, 4, 1, 0, 2, 3, 0, 2, 5, 5, 5, 2, 5, 1, 5, 3, 0, 4, 0, 5, 1, 4, 1, 0, 5, 5, 4, 5, 5, 0, 0, 1, 4, 5, 1, 4, 0, 5, 4, 2, 2, 3, 5, 3, 5, 4, 0, 1, 5, 3, 0, 5, 4, 3, 5, 3, 4, 0, 5, 4, 2, 4, 5, 2, 4, 3, 2, 3, 4, 0, 1, 3, 2, 3, 4, 2, 4, 5, 3, 2, 5, 1, 5, 1, 3, 0, 1, 3, 4, 1, 4, 3, 4, 3, 2, 5, 5, 2, 4, 0, 0, 0, 1, 0, 0, 1, 2, 3, 4, 1, 4, 4, 1, 0, 3, 1, 4, 4, 3, 4, 5, 3, 2, 2, 2, 0, 5, 1, 0, 2, 2, 4, 0, 0, 5, 0, 3, 1, 0, 3, 1, 1, 2, 0, 3, 1, 2, 2, 0, 2, 0, 4, 1, 3, 2, 4, 1, 3, 3, 1, 3, 3, 3, 5, 0, 4, 5, 0, 0, 5, 3, 3, 5, 2, 0, 4, 3, 3, 2, 1, 0, 1, 5, 4, 5, 0, 4, 4, 2, 2, 5, 3, 0, 4, 1, 5, 4, 5, 1, 2, 0, 1, 0, 5, 3, 4, 3, 4, 1, 0, 2, 3, 3, 1, 3, 4, 0, 5, 0, 5, 3, 4, 1, 1, 5, 1, 2, 3, 1, 0, 5, 4, 4, 0, 3, 4, 3, 4, 2, 3, 4, 5, 0, 5, 5, 5, 3, 2, 5, 4, 2, 3, 2, 4, 4, 0, 5, 0, 4, 2, 5, 0, 1, 3, 1, 0, 0, 3, 3, 2, 0, 0, 0, 1, 0, 4, 2, 4, 2, 2, 5, 5, 4, 4, 3, 0, 5, 1, 3, 5, 1, 0, 4, 2, 4, 5, 2, 2, 5, 1, 4, 1, 0, 1, 3, 1, 4, 2, 2, 4, 1, 0, 2, 5, 2, 3, 4, 5, 5, 4, 3, 2, 4, 5, 4, 0, 3, 5, 2, 5, 3, 2, 3, 2, 5, 1, 0, 5, 3, 1, 3, 1, 2, 1, 3, 2, 3, 4, 1, 5, 4, 0, 5, 2, 1, 4, 4, 5, 5, 1, 3, 4, 0, 2, 3, 0, 4, 5, 2, 0, 2, 4, 3, 0, 0, 5, 1, 2, 1, 5, 2, 3, 3, 3, 3, 3, 5, 3, 4, 5, 5, 3, 0, 2, 5, 4, 3, 0, 3, 1, 0, 0, 4, 1, 4, 0, 2, 1, 5, 0, 1, 4, 3, 3, 4, 0, 1, 2, 4, 0, 4, 0, 5, 1, 4, 2, 0, 3, 5, 0, 2, 0, 4, 0, 2, 5, 4, 5, 5, 2, 3, 1, 1, 5, 0, 0, 4, 4, 3, 4, 0, 4, 0, 1, 0, 4, 4, 5, 3, 1, 0, 5, 2, 2, 5, 4, 0, 5, 5, 5, 5, 3, 3, 0, 5, 0, 3, 2, 5, 4, 0, 0, 4, 1, 0, 0, 4, 1, 1, 3, 0, 2, 4, 2, 4, 5, 1, 0, 5, 1, 1, 2, 5, 3, 1, 5, 3, 3, 1, 5, 4, 5, 4, 5, 5, 4, 3, 3, 3, 5, 5, 2, 4, 3, 3, 1, 1, 2, 0, 2, 3, 5, 4, 0, 0, 2, 4, 1, 2, 0, 1, 4, 1, 2, 0, 4, 5, 3, 5, 2, 0, 0, 3, 3, 1, 2, 4, 2, 0, 4, 1, 5, 4, 5, 2, 2, 5, 2, 0, 4, 2, 1, 5, 4, 4, 5, 4, 2, 4, 1, 3, 2, 3, 3, 2, 4, 5, 5, 3, 5, 1, 5, 2, 3, 1, 0, 4, 1, 4, 2, 3, 3, 3, 4, 2, 5, 2, 1, 4, 4, 0, 4, 1, 2, 1, 0, 1, 5, 5, 3, 2, 0, 4, 4, 5, 1, 3, 2, 0, 1, 4, 0, 0, 2, 0, 3, 2, 4, 2, 1, 0, 4, 4, 0, 1, 3, 0, 1, 0, 3, 4, 3, 1, 0, 4, 4, 1, 5, 2, 2, 0, 0, 0, 4, 5, 4, 2, 3, 4, 3, 0, 4, 1, 3, 4, 0, 0, 5, 4, 4, 1, 4, 4, 0, 3, 1, 4, 5, 4, 1, 2, 5, 2, 4, 5, 4, 0, 5, 3, 2, 1, 0, 5, 5, 5, 1, 0, 1, 5, 4, 0, 0, 3, 4, 1, 3, 3, 2, 2, 1, 5, 4, 3, 5, 2, 0, 1, 4, 0, 3, 3, 3, 3, 4, 1, 4, 2, 4, 2, 0, 2, 3, 4, 5, 1, 4, 3, 5, 2, 1, 3, 5, 5, 1, 2, 4, 0, 4, 5, 5, 3, 0, 3, 5, 1, 0, 0, 2, 5, 0, 5, 3, 5, 4, 5, 4, 3, 0, 1, 0, 5, 4, 0, 2, 0, 3, 3, 4, 4, 0, 4, 5, 3, 4, 1, 0, 0, 3, 2, 0, 2, 4, 3, 2, 1, 1, 1, 2, 0, 4, 5, 4, 4, 3, 3, 3, 0, 4, 1, 2, 4, 4, 4, 5, 2, 2, 5, 0, 3, 0, 0, 5, 3, 1, 5, 0, 4, 5, 0, 1, 5, 5, 5, 2, 3, 5, 5, 3, 1, 0, 0, 1, 4, 3, 2, 0, 3, 0, 4, 4, 3, 0, 2, 5, 2, 1, 1, 1, 3, 5, 2, 3, 3, 1, 0, 5, 4, 4, 1, 0, 2, 1, 4, 0, 3, 4, 5, 3, 0, 2, 3, 4, 3, 5, 5, 1, 0, 2, 5, 4, 4, 2, 2, 0, 4, 4, 5, 4, 3, 4, 2, 5, 5, 4, 2, 3, 3, 1, 0, 4, 0, 0, 4, 0, 4, 0, 3, 2, 5, 2, 2, 5, 4, 4, 0, 1, 1, 5, 5, 3, 0, 4, 0, 0, 4, 1, 1, 3, 1, 3, 4, 0, 4, 0, 5, 4, 5, 1, 3, 5, 0, 5, 1, 1, 5, 2, 4, 4, 0, 2, 5, 3, 3, 0, 4, 5, 3, 0, 3, 1, 0, 4, 3, 2, 3, 2, 2, 2, 1, 2, 4, 0, 5, 5, 1, 2, 0, 2, 1, 4, 1, 5, 3, 4, 1, 3, 3, 2, 1, 4, 0, 5, 1, 4, 1, 2, 1, 3, 0, 0, 2, 4, 0, 5, 5, 5, 3, 3, 1, 4, 1, 1, 1, 2, 3, 1, 0, 0, 0, 3, 4, 2, 3, 2, 3, 3, 2, 1, 5, 5, 4, 0, 1, 3, 4, 5, 3, 5, 0, 4, 3, 4, 4, 3, 0, 3, 4, 5, 2, 1, 1, 1, 3, 1, 2, 4, 5, 1, 1, 2, 4, 0, 4, 3, 3, 3, 0, 5, 0, 3, 4, 2, 3, 5, 2, 4, 0, 0, 1, 5, 3, 1, 5, 1, 5, 3, 1, 3, 3, 0, 4, 4, 0, 1, 0, 3, 3, 3, 4, 1, 0, 5, 0, 1, 5, 5, 5, 1, 1, 2, 3, 3, 4, 5, 4, 5, 1, 5, 2, 5, 0, 1, 4, 2, 0, 0, 3, 1, 1, 0, 2, 2, 1, 1, 3, 1, 5, 3, 5, 4, 5, 3, 4, 3, 5, 3, 5, 1, 4, 2, 5, 5, 0, 2, 0, 5, 2, 3, 2, 3, 5, 2, 2, 3, 3, 0, 1, 2, 0, 4, 4, 3, 1, 5, 4, 5, 1, 0, 5, 2, 4, 3, 3, 1, 5, 5, 3, 4, 3, 5, 5, 1, 5, 2, 2, 0, 3, 1, 0, 1, 1, 2, 5, 3, 2, 0, 5, 2, 0, 4, 4, 2, 2, 3, 4, 4, 4, 1, 5, 3, 5, 5, 2, 0, 2, 0, 2, 4, 2, 5, 0, 5, 3, 2, 5, 1, 5, 3, 3, 4, 2, 5, 5, 1, 3, 5, 5, 3, 4, 2, 4, 2, 2, 1, 2, 1, 4, 2, 0, 4, 2, 0, 4, 0, 3, 3, 4, 3, 4, 2, 3, 0, 5, 1, 3, 5, 0, 5, 1, 0, 4, 3, 0, 1, 3, 4, 1, 5, 4, 3, 5, 4, 5, 3, 0, 3, 4, 0, 2, 5, 1, 0, 5, 4, 2, 5, 0, 3, 1, 0, 0, 3, 1, 5, 3, 2, 4, 3, 4, 4, 5, 3, 5, 5, 0, 4, 4, 5, 5, 4, 1, 5, 4, 2, 5, 2, 5, 5, 5, 0, 5, 5, 2, 5, 2, 1, 3, 2, 2, 5, 4, 4, 0, 1, 3, 2, 1, 1, 3, 2, 5, 1, 5, 1, 1, 1, 5, 3, 4, 3, 0, 1, 0, 5, 5, 1, 4, 0, 2, 3, 0, 3, 3, 4, 4, 3, 5, 3, 3, 2, 4, 3, 1, 5, 3, 0, 3, 2, 5, 1, 2, 5, 1, 5, 5, 0, 2, 3, 3, 1, 3, 2, 1, 0, 4, 5, 3, 0, 0, 3, 4, 3, 0, 4, 4, 3, 4, 0, 0, 0, 3, 2, 2, 1, 5, 0, 5, 5, 4, 3, 3, 5, 2, 1, 2, 2, 1, 4, 3, 5, 5, 0, 3, 3, 4, 5, 5, 1, 5, 2, 0, 3, 4, 2, 3, 2, 3, 5, 3, 0, 4, 2, 3, 0, 5, 2, 5, 5, 0, 5, 5, 4, 5, 0, 4, 2, 0, 2, 0, 3, 0, 0, 2, 5, 0, 0, 4, 1, 1, 4, 4, 0, 3, 1, 5, 2, 3, 3, 3, 1, 1, 2, 5, 5, 4, 5, 5, 0, 4, 0, 0, 0, 2, 3, 3, 4, 0, 4, 2, 4, 1, 3, 5, 3, 2, 2, 5, 0, 4, 0, 4, 5, 3, 2, 4, 1, 3, 1, 0, 0, 5, 5, 1, 5, 1, 5, 4, 3, 3, 0, 4, 3, 1, 3, 1, 0, 1, 1, 2, 3, 4, 0, 4, 2, 5, 2, 1, 4, 2, 4, 2, 0, 3, 5, 3, 3, 3, 3, 3, 2, 4, 0, 0, 1, 0, 2, 5, 1, 5, 2, 2, 3, 2, 2, 3, 1, 2, 1, 4, 1, 3, 1, 3, 0, 3, 5, 1, 2, 2, 0, 0, 0, 3, 0, 3, 0, 4, 4, 1, 0, 4, 3, 3, 0, 5, 5, 3, 2, 4, 5, 2, 0, 0, 0, 3, 5, 1, 5, 5, 3, 0, 5, 5, 2, 5, 5, 1, 4, 3, 5, 3, 0, 4, 1, 5, 0, 5, 4, 4, 3, 0, 2, 0, 2, 2, 2, 1, 4, 2, 0, 0, 1, 1, 3, 4, 3, 3, 3, 1, 0, 1, 5, 2, 1, 2, 0, 1, 4, 2, 2, 3, 3, 4, 3, 0, 0, 2, 1, 2, 5, 0, 4, 5, 2, 4, 3, 1, 5, 0, 2, 0, 0, 0, 1, 4, 4, 0, 5, 0, 1, 1, 3, 2, 2, 2, 0, 4, 3, 4, 5, 0, 3, 4, 0, 3, 5, 2, 5, 1, 2, 5, 2, 4, 4, 0, 3, 5, 5, 0, 1, 0, 3, 3, 2, 5, 2, 3, 4, 0, 3, 4, 0, 4, 1, 4, 3, 5, 1, 2, 1, 3, 3, 4, 0, 0, 2, 2, 0, 3, 1, 2, 4, 2, 3, 2, 2, 2, 0, 2, 0, 1, 4, 0, 5, 5, 2, 2, 3, 0, 4, 2, 3, 0, 4, 5, 4, 4, 1, 1, 5, 0, 5, 2, 0, 5, 3, 1, 3, 3, 4, 0, 5, 1, 2, 5, 0, 0, 1, 3, 1, 1, 2, 5, 0, 3, 0, 1, 3, 5, 5, 1, 3, 5, 0, 0, 1, 2, 2, 0, 5, 5, 0, 3, 5, 3, 2, 5, 0, 0, 0, 3, 3, 5, 5, 3, 1, 0, 2, 0, 5, 2, 5, 5, 3, 1, 2, 0, 2, 0, 4, 4, 1, 0, 3, 0, 1, 0, 4, 4, 4, 2, 2, 2, 4, 2, 1, 3, 4, 3, 5, 4, 0, 4, 0, 5, 0, 0, 2, 2, 2, 5, 0, 3, 1, 0, 2, 0, 2, 1, 3, 2, 1, 4, 2, 3, 1, 0, 1, 4, 5, 5, 3, 1, 4, 2, 4, 0, 5, 0, 2, 5, 4, 0, 1, 3, 0, 4, 2, 3, 0, 1, 1, 4, 0, 4, 0, 2, 1, 0, 1, 1, 2, 2, 5, 2, 0, 0, 3, 2, 5, 3, 2, 3, 2, 0, 3, 2, 1, 1, 5, 4, 5, 5, 1, 0, 4, 0, 2, 5, 3, 3, 3, 3, 1, 0, 5, 4, 5, 3, 5, 5, 3, 0, 3, 4, 1, 2, 3, 0, 2, 5, 1, 4, 5, 4, 0, 4, 0, 2, 3, 2, 2, 1, 0, 1, 5, 0, 1, 2, 5, 2, 5, 3, 0, 0, 4, 1, 0, 2, 5, 5, 5, 4, 2, 4, 2, 3, 5, 3, 2, 0, 3, 4, 1, 0, 0, 5, 1, 2, 5, 4, 1, 1, 1, 4, 2, 4, 5, 2, 3, 4, 3, 1, 1, 4, 1, 3, 5, 4, 2, 0, 4, 2, 0, 1, 5, 2, 0, 5, 1, 0, 2, 2, 4, 4, 5, 2, 4, 2, 0, 0, 0, 1, 3, 1, 3, 5, 2, 0, 3, 4, 0, 5, 4, 3, 4, 1, 3, 4, 5, 1, 4, 4, 1, 2, 5, 0, 3, 3, 3, 5, 3, 3, 4, 5, 3, 1, 0, 2, 1, 0, 0, 3, 5, 3, 3, 1, 0, 3, 0, 5, 3, 2, 0, 0, 2, 3, 5, 1, 2, 1, 1, 4, 2, 4, 2, 1, 5, 4, 1, 0, 2, 2, 0, 1, 3, 4, 2, 5, 1, 3, 3, 0, 0, 3, 2, 3, 1, 4, 3, 0, 0, 2, 2, 3, 5, 4, 1, 4, 1, 5, 0, 1, 0, 5, 1, 5, 0, 4, 5, 0, 2, 2, 1, 4, 4, 1, 2, 3, 3, 3, 4, 5, 0, 5, 2, 1, 5, 1, 2, 4, 4, 4, 4, 5, 3, 2, 2, 0, 1, 1, 5, 2, 0, 4, 2, 0, 5, 3, 3, 3, 2, 3, 4, 5, 3, 5, 4, 1, 3, 0, 2, 1, 2, 4, 4, 0, 0, 1, 1, 2, 0, 3, 2, 1, 0, 4, 4, 3, 1, 4, 0, 4, 5, 1, 0, 5, 5, 3, 2, 1, 5, 2, 3, 2, 0, 4, 4, 2, 1, 1, 2, 1, 1, 4, 3, 1, 2, 4, 4, 2, 5, 4, 2, 4, 3, 2, 5, 4, 0, 3, 4, 4, 3, 0, 2, 5, 1, 0, 2, 2, 0, 2, 4, 0, 4, 5, 1, 0, 4, 2, 4, 0, 5, 2, 2, 2, 5, 5, 1, 3, 4, 2, 0, 0, 5, 5, 2, 2, 4, 5, 4, 5, 1, 0, 5, 0, 4, 3, 5, 1, 0, 4, 2, 1, 4, 5, 5, 5, 3, 5, 3, 0, 0, 4, 4, 4, 3, 4, 3, 4, 2, 3, 3, 1, 3, 5, 2, 5, 5, 1, 2, 5, 2, 5, 0, 1, 2, 2, 1, 4, 5, 4, 1, 0, 3, 3, 1, 4, 4, 2, 1, 3, 4, 4, 5, 4, 1, 2, 3, 5, 0, 2, 4, 0, 1, 3, 1, 0, 5, 5, 0, 1, 1, 3, 4, 1, 0, 4, 3, 0, 1, 3, 5, 0, 5, 1, 3, 4, 2, 3, 4, 0, 0, 0, 5, 2, 1, 2, 3, 2, 1, 1, 2, 3, 1, 3, 0, 5, 4, 4, 1, 0, 3, 0, 4, 0, 3, 0, 0, 0, 1, 5, 5, 3, 3, 3, 1, 3, 4, 0, 3, 0, 5, 4, 0, 0, 5, 2, 0, 1, 0, 4, 4, 4, 0, 5, 3, 0, 5, 1, 5, 4, 3, 0, 4, 5, 4, 5, 0, 2, 5, 4, 4, 2, 5, 1, 4, 1, 2, 0, 2, 0, 4, 2, 1, 5, 0, 0, 3, 2, 5, 3, 2, 5, 4, 0, 0, 4, 3, 4, 2, 2, 3, 3, 3, 5, 4, 1, 5, 3, 4, 5, 4, 2, 0, 4, 1, 5, 3, 1, 5, 4, 3, 5, 4, 0, 5, 1, 4, 2, 4, 2, 0, 5, 3, 1, 2, 0, 1, 0, 1, 3, 3, 0, 0, 3, 4, 4, 5, 3, 1, 3, 3, 1, 1, 2, 0, 1, 0, 3, 0, 2, 4, 1, 4, 1, 5, 0, 2, 0, 2, 5, 5, 4, 5, 2, 4, 1, 5, 5, 3, 5, 1, 1, 0, 3, 5, 5, 4, 3, 3, 4, 3, 1, 0, 0, 0, 0, 1, 4, 0, 0, 5, 5, 0, 1, 1, 3, 0, 4, 4, 2, 1, 1, 2, 4, 1, 5, 1, 0, 1, 5, 2, 1, 3, 2, 1, 3, 4, 4, 4, 1, 4, 1, 1, 2, 4, 2, 4, 2, 2, 3, 2, 0, 1, 4, 2, 2, 4, 5, 0, 2, 0, 0, 1, 5, 1, 0, 4, 0, 2, 5, 3, 4, 2, 5, 3, 3, 1, 4, 2, 0, 2, 3, 5, 2, 5, 5, 4, 2, 0, 2, 2, 1, 0, 3, 0, 0, 3, 0, 1, 3, 1, 1, 1, 2, 1, 2, 4, 2, 5, 3, 1, 1, 4, 0, 5, 5, 3, 1, 3, 3, 5, 4, 4, 3, 2, 5, 2, 3, 1, 2, 4, 0, 1, 1, 4, 2, 3, 0, 1, 2, 4, 5, 2, 5, 0, 0, 3, 1, 2, 1, 1, 0, 5, 1, 5, 4, 3, 3, 3, 5, 2, 2, 4, 4, 2, 1, 3, 1, 0, 0, 4, 5, 4, 0, 1, 0, 5, 1, 2, 3, 2, 2, 1, 5, 4, 3, 3, 4, 5, 1, 5, 2, 4, 4, 1, 1, 1, 2, 4, 4, 4, 0, 5, 5, 4, 3, 0, 2, 4, 3, 5, 0, 4, 1, 0, 1, 1, 4, 3, 0, 0, 0, 3, 4, 4, 2, 3, 5, 0, 4, 3, 0, 2, 2, 0, 0, 2, 0, 4, 2, 0, 4, 5, 5, 3, 3, 2, 1, 5, 4, 2, 1, 0, 1, 1, 4, 4, 1, 0, 1, 4, 2, 0, 5, 1, 1, 4, 1, 4, 3, 0, 5, 0, 3, 5, 1, 5, 2, 1, 5, 0, 5, 5, 4, 1, 4, 5, 2, 4, 4, 2, 2, 1, 5, 3, 3, 3, 5, 3, 3, 3, 3, 2, 5, 3, 2, 1, 3, 0, 1, 3, 0, 2, 4, 2, 0, 4, 2, 0, 4, 2, 5, 1, 0, 1, 1, 2, 4, 3, 3, 1, 5, 3, 2, 1, 2, 2, 5, 2, 2, 5, 5, 0, 0, 0, 3, 2, 5, 4, 3, 2, 0, 2, 1, 1, 3, 3, 0, 2, 3, 5, 1, 3, 4, 0, 5, 1, 0, 1, 1, 3, 0, 1, 0, 0, 2, 3, 2, 4, 1, 0, 2, 2, 5, 1, 5, 0, 0, 4, 1, 4, 4, 5, 0, 5, 2, 2, 1, 3, 3, 5, 3, 2, 0, 1, 0, 4, 1, 1, 5, 3, 1, 0, 0, 2, 0, 4, 5, 1, 4, 4, 3, 1, 4, 1, 3, 5, 5, 5, 3, 4, 3, 1, 5, 3, 3, 5, 3, 1, 4, 0, 1, 1, 2, 5, 2, 3, 1, 1, 0, 5, 3, 0, 2, 4, 2, 4, 2, 2, 0, 0, 3, 5, 2, 2, 4, 2, 4, 5, 1, 1, 3, 2, 2, 4, 3, 5, 0, 5, 3, 4, 2, 4, 4, 2, 3, 3, 2, 0, 4, 2, 0, 3, 1, 3, 4, 2, 0, 3, 4, 0, 0, 3, 2, 2, 4, 0, 4, 4, 5, 3, 4, 4, 1, 5, 2, 5, 4, 3, 2, 0, 0, 5, 4, 0, 5, 0, 5, 3, 3, 1, 1, 2, 4, 4, 5, 1, 0, 1, 4, 5, 4, 4, 1, 3, 5, 0, 1, 5, 5, 4, 4, 0, 2, 3, 3, 2, 5, 5, 3, 0, 1, 2, 1, 1, 1, 1, 3, 3, 1, 2, 1, 4, 5, 0, 5, 5, 5, 2, 0, 3, 0, 0, 4, 5, 3, 3, 1, 0, 1, 1, 4, 1, 3, 2, 0, 1, 2, 4, 2, 2, 0, 4, 0, 0, 3, 1, 4, 4, 0, 0, 3, 1, 2, 4, 3, 2, 2, 2, 1, 0, 0, 3, 1, 2, 0, 3, 2, 1, 1, 1, 5, 2, 1, 1, 3, 0, 0, 5, 2, 2, 1, 5, 1, 2, 2, 0, 0, 3, 4, 4, 2, 4, 4, 1, 3, 2, 4, 1, 4, 4, 2, 1, 4, 1, 2, 2, 2, 3, 2, 2, 5, 1, 2, 5, 0, 0, 0, 0, 3, 4, 2, 1, 5, 4, 1, 3, 3, 5, 1, 1, 2, 3, 3, 4, 3, 4, 5, 2, 2, 2, 2, 4, 2, 2, 3, 4, 4, 0, 3, 4, 3, 4, 5, 1, 0, 1, 0, 1, 2, 5, 5, 1, 5, 0, 2, 0, 0, 3, 3, 3, 4, 0, 0, 1, 0, 4, 1, 1, 0, 1, 2, 5, 1, 3, 0, 1, 5, 4, 2, 5, 5, 1, 2, 1, 2, 5, 1, 4, 5, 5, 2, 3, 3, 5, 4, 2, 0, 5, 3, 5, 2, 3, 5, 0, 0, 5, 0, 1, 4, 0, 3, 1, 4, 0, 2, 1, 4, 2, 1, 0, 3, 3, 3, 0, 1, 3, 1, 4, 1, 0, 2, 3, 2, 3, 5, 4, 2, 4, 4, 5, 5, 1, 4, 4, 1, 3, 3, 3, 2, 2, 5, 0, 0, 5, 5, 4, 3, 3, 4, 1, 2, 2, 5, 2, 5, 3, 1, 0, 5, 5, 5, 0, 3, 5, 4, 3, 5, 1, 3, 3, 5, 2, 4, 1, 4, 1, 2, 1, 0, 4, 0, 2, 1, 3, 5, 3, 5, 0, 5, 4, 1, 0, 5, 1, 4, 2, 3, 4, 4, 3, 3, 0, 4, 4, 4, 1, 3, 3, 2, 3, 3, 5, 1, 4, 2, 0, 0, 0, 0, 5, 2, 2, 1, 1, 2, 4, 3, 3, 4, 4, 2, 1, 3, 3, 1, 5, 1, 0, 2, 2, 0, 2, 2, 2, 2, 5, 2, 5, 5, 4, 1, 3, 5, 2, 5, 2, 1, 5, 3, 2, 0, 5, 2, 5, 0, 4, 2, 5, 1, 0, 5, 2, 4, 4, 1, 1, 0, 3, 0, 4, 0, 0, 1, 5, 1, 1, 1, 1, 4, 0, 2, 5, 4, 4, 5, 0, 3, 1, 5, 1, 3, 4, 0, 0, 4, 2, 3, 2, 5, 5, 3, 2, 1, 2, 3, 3, 2, 0, 1, 4, 3, 4, 0, 0, 1, 1, 4, 4, 0, 1, 2, 3, 0, 0, 1, 0, 1, 2, 5, 5, 3, 1, 1, 5, 5, 5, 4, 0, 3, 2, 2, 4, 2, 2, 0, 2, 0, 5, 3, 4, 1, 5, 4, 3, 3, 5, 5, 3, 3, 1, 4, 5, 5, 2, 4, 5, 3, 4, 2, 5, 0, 0, 5, 5, 4, 5, 5, 5, 4, 2, 5, 4, 1, 4, 4, 5, 4, 2, 5, 4, 4, 5, 1, 0, 5, 4, 2, 2, 1, 1, 5, 2, 2, 2, 5, 0, 2, 1, 2, 1, 3, 0, 3, 0, 0, 1, 1, 1, 0, 0, 3, 1, 3, 4, 4, 4, 3, 0, 1, 0, 2, 3, 2, 0, 3, 3, 3, 2, 5, 3, 5, 4, 5, 2, 3, 3, 4, 3, 3, 5, 1, 2, 0, 5, 5, 4, 2, 5, 1, 5, 3, 3, 3, 3, 3, 2, 0, 4, 1, 3, 1, 5, 0, 3, 5, 4, 5, 1, 1, 2, 2, 5, 2, 4, 5, 5, 4, 2, 0, 5, 1, 3, 4, 2, 3, 4, 0, 2, 2, 5, 5, 4, 3, 5, 4, 3, 1, 1, 0, 3, 4, 4, 4, 2, 3, 5, 2, 1, 0, 0, 3, 3, 0, 3, 5, 3, 5, 0, 0, 1, 2, 2, 0, 3, 2, 0, 3, 3, 0, 1, 2, 3, 0, 0, 1, 4, 4, 1, 1, 5, 3, 3, 5, 4, 1, 4, 0, 0, 1, 4, 0, 5, 2, 4, 4, 2, 1, 0, 1, 3, 1, 2, 3, 0, 3, 4, 4, 2, 3, 4, 2, 2, 1, 5, 0, 1, 1, 3, 3, 5, 3, 5, 0, 0, 1, 1, 2, 5, 1, 3, 2, 3, 1, 1, 1, 3, 4, 3, 4, 4, 2, 4, 4, 1, 2, 3, 2, 0, 1, 5, 4, 0, 1, 1, 2, 1, 3, 5, 2, 4, 5, 1, 3, 4, 2, 1, 5, 3, 4, 2, 1, 3, 2, 3, 1, 1, 4, 5, 4, 0, 5, 3, 2, 0, 4, 5, 1, 1, 4, 1, 0, 0, 5, 2, 4, 4, 0, 5, 4, 0, 4, 4, 4, 2, 1, 5, 4, 2, 0, 4, 3, 3, 5, 4, 0, 2, 2, 2, 1, 2, 0, 2, 4, 1, 0, 0, 0, 3, 5, 4, 1, 4, 1, 5, 4, 5, 2, 5, 2, 2, 5, 3, 5, 2, 3, 5, 2, 0, 0, 1, 3, 5, 5, 1, 0, 0, 0, 2, 5, 5, 4, 4, 1, 2, 0, 1, 2, 0, 3, 5, 1, 3, 1, 1, 0, 4, 4, 5, 4, 5, 2, 1, 3, 3, 0, 4, 3, 4, 2, 5, 3, 0, 0, 2, 4, 5, 4, 3, 2, 2, 5, 4, 5, 1, 1, 1, 3, 3, 0, 5, 5, 0, 1, 2, 0, 5, 2, 4, 2, 4, 3, 5, 4, 2, 4, 2, 5, 0, 5, 2, 2, 1, 1, 0, 4, 2, 1, 3, 5, 5, 4, 5, 4, 1, 5, 4, 0, 1, 4, 2, 1, 0, 3, 2, 5, 0, 2, 4, 0, 4, 4, 1, 5, 1, 3, 3, 5, 0, 4, 2, 0, 0, 2, 1, 4, 5, 4, 3, 4, 3, 0, 1, 1, 2, 0, 4, 2, 4, 4, 4, 3, 5, 4, 0, 5, 2, 3, 4, 0, 4, 0, 2, 2, 2, 5, 0, 3, 0, 1, 0, 1, 5, 0, 3, 0, 0, 4, 3, 4, 0, 1, 1, 1, 2, 5, 1, 1, 0, 2, 3, 5, 2, 2, 3, 2, 0, 1, 1, 4, 0, 3, 0, 4, 1, 3, 5, 0, 1, 1, 3, 5, 0, 1, 2, 2, 5, 1, 4, 3, 1, 1, 1, 2, 5, 2, 3, 2, 3, 1, 5, 5, 3, 4, 5, 1, 1, 5, 1, 4, 1, 0, 2, 4, 3, 0, 5, 1, 0, 4, 5, 4, 1, 5, 0, 0, 1, 1, 4, 3, 0, 5, 4, 0, 2, 5, 3, 0, 5, 2, 2, 3, 0, 1, 4, 2, 5, 1, 1, 2, 5, 3, 2, 1, 1, 3, 4, 2, 2, 1, 3, 0, 3, 3, 2, 0, 5, 4, 5, 2, 2, 4, 5, 5, 4, 1, 0, 5, 2, 1, 5, 5, 3, 1, 1, 4, 4, 5, 5, 0, 0, 0, 4, 2, 3, 4, 3, 0, 4, 0, 1, 1, 2, 4, 5, 5, 0, 1, 5, 3, 2, 4, 0, 1, 0, 1, 1, 5, 1, 0, 1, 5, 1, 1, 1, 5, 5, 0, 0, 4, 4, 4, 0, 4, 0, 5, 5, 2, 4, 5, 1, 0, 0, 2, 2, 1, 0, 0, 4, 5, 2, 2, 0, 2, 2, 2, 4, 2, 5, 2, 2, 5, 0, 1, 3, 5, 4, 5, 1, 3, 1, 5, 2, 2, 0, 5, 2, 5, 5, 4, 4, 3, 5, 3, 0, 5, 1, 3, 4, 0, 4, 1, 1, 5, 4, 5, 3, 4, 1, 1, 4, 4, 5, 4, 2, 5, 3, 1, 3, 2, 2, 0, 1, 3, 2, 3, 0, 3, 3, 2, 1, 5, 5, 1, 5, 4, 3, 2, 1, 4, 0, 4, 3, 4, 1, 0, 2, 2, 3, 1, 4, 0, 0, 2, 0, 5, 1, 0, 1, 2, 2, 5, 5, 4, 2, 4, 5, 4, 0, 2, 3, 1, 1, 0, 4, 2, 4, 3, 4, 1, 4, 0, 3, 2, 2, 0, 2, 1, 4, 1, 4, 1, 5, 4, 4, 4, 3, 4, 4, 3, 4, 1, 3, 2, 3, 5, 4, 0, 1, 0, 5, 3, 3, 4, 3, 0, 0, 1, 5, 4, 4, 2, 1, 4, 5, 1, 5, 4, 4, 5, 2, 2, 1, 5, 0, 0, 1, 5, 4, 2, 5, 2, 1, 4, 5, 5, 0, 0, 4, 1, 2, 0, 4, 4, 2, 2, 5, 1, 4, 3, 1, 5, 2, 4, 4, 2, 3, 0, 2, 5, 3, 2, 4, 4, 5, 2, 3, 1, 2, 0, 2, 4, 0, 3, 4, 1, 2, 1, 5, 0, 5, 1, 2, 0, 0, 5, 0, 1, 0, 4, 1, 4, 1, 0, 0, 4, 5, 5, 3, 2, 3, 2, 5, 2, 5, 3, 1, 0, 2, 2, 5, 2, 1, 2, 5, 0, 5, 1, 4, 2, 3, 1, 1, 1, 5, 4, 1, 3, 4, 4, 0, 3, 1, 2, 1, 2, 2, 5, 1, 4, 4, 4, 2, 0, 2, 3, 4, 0, 4, 3, 2, 4, 2, 5, 3, 0, 0, 5, 4, 5, 1, 3, 3, 0, 4, 0, 4, 4, 1, 0, 5, 1, 4, 4, 3, 0, 4, 1, 2, 3, 3, 2, 1, 5, 2, 3, 3, 0, 4, 3, 2, 5, 2, 0, 0, 1, 2, 4, 5, 5, 3, 4, 2, 5, 2, 3, 1, 3, 3, 0, 2, 5, 0, 2, 0, 3, 2, 0, 1, 5, 4, 1, 1, 2, 1, 4, 0, 4, 4, 1, 5, 0, 0, 5, 3, 3, 3, 2, 1, 0, 0, 1, 1, 4, 0, 0, 4, 2, 0, 2, 1, 4, 0, 5, 1, 1, 1, 0, 5, 2, 4, 3, 5, 2, 0, 3, 3, 4, 1, 0, 0, 3, 3, 5, 5, 3, 1, 2, 5, 3, 2, 5, 5, 5, 5, 0, 4, 2, 2, 5, 5, 3, 3, 4, 5, 2, 4, 0, 2, 4, 5, 5, 0, 3, 0, 5, 1, 2, 2, 0, 0, 4, 3, 0, 2, 1, 1, 0, 2, 1, 3, 0, 4, 3, 1, 5, 0, 1, 2, 3, 1, 0, 4, 4, 3, 5, 0, 4, 2, 1, 2, 1, 2, 4, 2, 3, 4, 5, 5, 0, 5, 2, 5, 4, 4, 3, 2, 4, 4, 3, 3, 4, 4, 4, 0, 2, 2, 3, 1, 1, 2, 2, 3, 0, 5, 5, 0, 4, 1, 4, 1, 3, 1, 2, 4, 4, 0, 3, 0, 3, 2, 3, 4, 2, 2, 4, 0, 3, 3, 5, 4, 2, 3, 2, 0, 3, 2, 4, 2, 3, 4, 5, 1, 2, 5, 0, 3, 3, 2, 4, 4, 0, 3, 5, 1, 3, 1, 3, 1, 1, 5, 2, 3, 0, 3, 1, 0, 4, 5, 1, 3, 0, 2, 3, 4, 3, 2, 2, 1, 4, 2, 2, 0, 1, 5, 2, 0, 4, 4, 1, 2, 2, 0, 2, 1, 0, 4, 5, 1, 2, 4, 0, 4, 3, 1, 0, 0, 4, 3, 2, 3, 2, 4, 2, 1, 1, 0, 4, 1, 3, 2, 2, 0, 1, 0, 5, 1, 5, 1, 4, 1, 2, 3, 5, 4, 2, 2, 3, 2, 2, 1, 5, 0, 5, 1, 5, 3, 0, 4, 3, 0, 1, 4, 3, 0, 2, 3, 5, 2, 2, 1, 0, 0, 3, 1, 5, 4, 3, 2, 2, 3, 3, 5, 2, 0, 4, 0, 3, 0, 2, 3, 0, 4, 3, 4, 2, 2, 2, 2, 0, 1, 0, 0, 4, 5, 3, 4, 5, 5, 3, 2, 2, 2, 0, 2, 4, 3, 1, 2, 3, 0, 4, 3, 3, 2, 5, 1, 4, 1, 5, 2, 0, 2, 5, 2, 2, 3, 0, 4, 0, 4, 5, 5, 2, 2, 0, 3, 0, 2, 1, 3, 4, 2, 5, 3, 4, 1, 0, 3, 0, 1, 1, 1, 1, 3, 2, 1, 0, 0, 4, 4, 4, 3, 0, 1, 5, 4, 0, 3, 4, 3, 4, 4, 1, 4, 2, 5, 5, 5, 4, 4, 5, 2, 5, 0, 1, 1, 3, 5, 0, 2, 5, 5, 1, 1, 1, 0, 2, 0, 5, 5, 5, 5, 5, 5, 5, 5, 0, 0, 0, 5, 2, 3, 0, 4, 3, 1, 3, 4, 1, 4, 3, 3, 0, 3, 2, 1, 3, 4, 1, 3, 1, 4, 0, 0, 4, 4, 5, 3, 5, 2, 3, 0, 5, 3, 4, 2, 2, 4, 0, 3, 1, 3, 1, 3, 3, 3, 4, 2, 5, 3, 5, 1, 2, 1, 3, 2, 5, 3, 4, 0, 1, 5, 4, 3, 2, 1, 2, 0, 0, 3, 3, 3, 4, 3, 4, 1, 1, 0, 4, 0, 3, 3, 0, 1, 3, 0, 2, 3, 3, 2, 0, 4, 2, 3, 5, 0, 4, 2, 2, 4, 4, 5, 3, 5, 4, 1, 3, 3, 1, 2, 4, 1, 5, 4, 2, 1, 0, 3, 3, 5, 1, 1, 1, 5, 5, 2, 4, 0, 0, 0, 0, 5, 3, 2, 5, 5, 3, 5, 5, 4, 3, 2, 4, 3, 0, 4, 0, 1, 3, 4, 0, 1, 0, 0, 1, 5, 4, 2, 5, 0, 0, 3, 1, 5, 1, 1, 2, 1, 3, 5, 4, 0, 2, 2, 5, 1, 2, 0, 2, 2, 5, 2, 0, 1, 3, 5, 4, 1, 3, 4, 5, 0, 3, 3, 0, 0, 5, 5, 4, 0, 0, 4, 0, 4, 4, 1, 3, 3, 2, 3, 2, 5, 1, 0, 0, 2, 3, 0, 4, 2, 1, 2, 1, 3, 2, 1, 5, 1, 3, 3, 4, 2, 5, 3, 2, 3, 0, 3, 1, 2, 3, 3, 5, 2, 0, 3, 5, 2, 5, 4, 4, 5, 5, 3, 3, 0, 3, 2, 3, 1, 5, 0, 4, 3, 5, 2, 5, 0, 3, 5, 1, 4, 0, 4, 3, 3, 1, 4, 1, 0, 5, 3, 3, 3, 5, 4, 2, 1, 1, 2, 1, 5, 5, 3, 4, 0, 1, 0, 5, 2, 2, 2, 4, 5, 2, 0, 4, 3, 4, 4, 0, 4, 5, 1, 0, 4, 3, 4, 5, 3, 5, 1, 4, 3, 2, 4, 1, 1, 1, 1, 0, 5, 1, 3, 5, 2, 0, 1, 2, 3, 1, 1, 2, 2, 5, 4, 5, 5, 3, 2, 0, 2, 1, 1, 2, 4, 5, 0, 2, 2, 4, 1, 3, 0, 5, 2, 2, 0, 1, 1, 0, 4, 3, 0, 3, 5, 2, 4, 3, 3, 0, 0, 4, 5, 0, 0, 3, 2, 0, 1, 5, 5, 4, 4, 1, 2, 5, 3, 0, 1, 3, 4, 0, 5, 2, 1, 1, 0, 0, 0, 1, 3, 3, 4, 5, 1, 5, 4, 4, 5, 0, 2, 4, 3, 5, 1, 2, 1, 2, 1, 1, 4, 3, 3, 0, 4, 4, 2, 0, 2, 5, 5, 5, 2, 4, 1, 2, 4, 3, 1, 4, 1, 5, 3, 4, 3, 1, 4, 0, 2, 5, 4, 3, 5, 2, 4, 3, 5, 3, 4, 4, 1, 2, 1, 0, 3, 2, 2, 0, 1, 1, 3, 0, 4, 1, 5, 5, 1, 5, 5, 0, 5, 1, 5, 1, 0, 4, 4, 3, 5, 2, 4, 2, 3, 3, 1, 5, 4, 4, 3, 3, 4, 3, 0, 4, 3, 4, 2, 4, 2, 2, 0, 1, 4, 5, 4, 1, 4, 4, 5, 5, 1, 0, 4, 3, 1, 5, 3, 2, 2, 2, 4, 1, 0, 0, 4, 0, 3, 4, 0, 0, 1, 3, 5, 1, 3, 0, 1, 2, 5, 3, 4, 1, 0, 4, 5, 0, 3, 3, 1, 5, 5, 2, 0, 0, 5, 2, 3, 0, 0, 1, 1, 2, 1, 0, 2, 5, 0, 3, 4, 2, 1, 5, 3, 3, 2, 0, 0, 1, 4, 5, 4, 1, 1, 4, 5, 3, 0, 5, 3, 4, 0, 2, 4, 4, 4, 2, 2, 2, 0, 4, 3, 2, 0, 3, 4, 3, 0, 1, 0, 4, 4, 0, 0, 3, 2, 0, 2, 3, 5, 4, 0, 3, 0, 2, 4, 4, 2, 4, 1, 2, 5, 2, 4, 5, 0, 4, 4, 4, 0, 3, 1, 5, 1, 0, 2, 4, 1, 1, 4, 1, 0, 1, 3, 2, 4, 5, 1, 4, 1, 1, 0, 0, 1, 2, 4, 4, 4, 5, 3, 3, 0, 1, 1, 3, 4, 3, 0, 1, 3, 4, 4, 5, 1, 0, 5, 3, 2, 5, 3, 0, 5, 1, 2, 3, 3, 3, 5, 3, 5, 2, 0, 4, 3, 1, 0, 2, 3, 2, 3, 2, 1, 0, 5, 5, 4, 2, 3, 1, 5, 0, 0, 1, 0, 3, 1, 3, 2, 3, 5, 5, 0, 0, 1, 1, 4, 5, 5, 3, 1, 3, 2, 2, 3, 2, 4, 3, 5, 3, 2, 0, 4, 5, 5, 0, 4, 0, 1, 3, 2, 1, 4, 2, 4, 4, 3, 5, 5, 1, 5, 4, 5, 4, 3, 0, 5, 5, 2, 5, 0, 3, 2, 4, 2, 3, 2, 5, 4, 0, 3, 2, 2, 2, 1, 3, 2, 0, 2, 3, 0, 1, 0, 3, 0, 4, 3, 3, 2, 4, 4, 5, 0, 1, 3, 1, 0, 0, 1, 5, 2, 4, 4, 3, 0, 3, 4, 2, 1, 2, 0, 3, 2, 0, 4, 4, 0, 5, 3, 3, 0, 2, 2, 2, 5, 2, 0, 2, 3, 1, 0, 0, 4, 3, 4, 1, 4, 0, 0, 1, 0, 5, 4, 3, 1, 0, 2, 3, 2, 0, 0, 0, 3, 5, 2, 1, 3, 0, 2, 3, 1, 3, 5, 1, 3, 2, 2, 2, 3, 4, 5, 3, 1, 5, 1, 4, 2, 1, 1, 0, 4, 2, 4, 2, 4, 5, 3, 3, 3, 3, 5, 1, 2, 5, 0, 4, 1, 2, 2, 3, 0, 5, 4, 1, 4, 1, 1, 5, 5, 4, 0, 5, 1, 2, 2, 0, 0, 3, 3, 0, 2, 3, 3, 5, 1, 0, 0, 4, 1, 1, 4, 1, 1, 4, 2, 5, 5, 1, 5, 2, 2, 2, 0, 2, 1, 0, 0, 2, 2, 2, 0, 3, 2, 2, 5, 2, 1, 5, 3, 2, 3, 2, 1, 1, 3, 3, 5, 1, 1, 0, 5, 5, 2, 1, 4, 0, 4, 1, 5, 3, 4, 5, 3, 2, 2, 2, 3, 2, 2, 4, 5, 4, 1, 2, 2, 5, 3, 1, 3, 0, 5, 2, 1, 5, 2, 2, 5, 2, 4, 4, 3, 2, 1, 2, 4, 4, 4, 5, 2, 4, 4, 3, 4, 0, 2, 5, 1, 5, 2, 0, 2, 0, 4, 2, 4, 5, 1, 4, 4, 2, 2, 0, 0, 5, 4, 2, 4, 1, 5, 3, 2, 3, 1, 0, 2, 4, 1, 4, 2, 1, 1, 4, 2, 5, 3, 0, 3, 3, 2, 3, 3, 1, 1, 4, 0, 5, 0, 2, 1, 1, 2, 4, 3, 3, 4, 0, 3, 2, 2, 1, 1, 4, 4, 2, 4, 4, 0, 5, 3, 1, 3, 1, 2, 3, 1, 5, 0, 5, 1, 5, 4, 3, 5, 5, 0, 3, 3, 2, 3, 5, 4, 5, 3, 3, 1, 0, 1, 1, 2, 4, 3, 4, 1, 1, 0, 4, 2, 1, 5, 1, 4, 3, 3, 1, 0, 4, 4, 5, 5, 1, 4, 2, 0, 1, 1, 2, 1, 4, 2, 0, 3, 0, 0, 0, 5, 5, 5, 5, 0, 5, 0, 1, 0, 5, 4, 3, 1, 0, 5, 0, 4, 1, 5, 0, 5, 0, 4, 0, 5, 0, 2, 2, 0, 5, 2, 2, 2, 3, 5, 3, 1, 5, 5, 5, 5, 4, 0, 2, 3, 0, 5, 3, 2, 2, 1, 1, 1, 4, 1, 5, 1, 2, 2, 1, 5, 1, 0, 2, 3, 0, 0, 1, 2, 3, 3, 3, 0, 3, 4, 0, 4, 1, 5, 5, 3, 3, 5, 5, 3, 2, 0, 0, 1, 2, 4, 1, 4, 4, 4, 1, 3, 5, 2, 5, 4, 1, 0, 0, 4, 1, 3, 5, 3, 0, 2, 3, 0, 2, 4, 3, 3, 2, 1, 4, 1, 4, 1, 1, 0, 2, 2, 5, 2, 3, 0, 2, 2, 0, 1, 1, 0, 4, 4, 5, 4, 3, 3, 5, 5, 3, 1, 3, 3, 5, 2, 3, 4, 4, 3, 3, 2, 5, 2, 5, 1, 0, 4, 0, 5, 1, 2, 4, 0, 4, 1, 2, 3, 5, 2, 2, 1, 5, 1, 1, 4, 1, 3, 0, 2, 2, 2, 5, 3, 2, 4, 1, 3, 2, 2, 4, 4, 2, 0, 5, 2, 1, 4, 2, 3, 1, 5, 3, 5, 3, 1, 2, 0, 2, 4, 2, 2, 0, 5, 4, 4, 0, 2, 5, 5, 3, 2, 2, 2, 3, 0, 4, 1, 1, 4, 4, 0, 0, 2, 4, 4, 3, 2, 3, 3, 0, 4, 5, 4, 5, 4, 1, 3, 0, 4, 0, 4, 1, 4, 0, 3, 4, 4, 5, 1, 0, 1, 5, 2, 3, 5, 1, 3, 2, 5, 5, 4, 1, 0, 0, 2, 2, 4, 5, 0, 0, 0, 1, 2, 1, 3, 2, 4, 0, 2, 3, 4, 3, 5, 1, 1, 0, 5, 5, 3, 5, 2, 2, 5, 0, 2, 5, 4, 5, 5, 0, 2, 0, 1, 1, 5, 5, 5, 0, 1, 3, 5, 5, 2, 3, 1, 5, 2, 4, 4, 2, 5, 0, 5, 2, 3, 4, 4, 1, 3, 4, 1, 3, 4, 3, 0, 4, 3, 4, 0, 1, 1, 3, 1, 0, 0, 0, 0, 5, 4, 0, 3, 0, 1, 3, 3, 2, 1, 2, 1, 0, 2, 0, 1, 5, 3, 5, 0, 4, 0, 2, 1, 4, 4, 0, 3, 4, 5, 4, 1, 0, 0, 2, 0, 0, 1, 0, 1, 5, 3, 1, 5, 4, 2, 1, 4, 0, 5, 2, 2, 0, 1, 0, 0, 1, 0, 0, 1, 1, 1, 3, 1, 2, 5, 1, 1, 4, 0, 1, 0, 5, 2, 5, 2, 3, 5, 0, 5, 2, 3, 2, 0, 4, 4, 0, 3, 1, 4, 2, 1, 5, 1, 1, 3, 3, 3, 5, 0, 0, 5, 5, 0, 3, 5, 4, 3, 2, 3, 0, 3, 2, 2, 4, 5, 0, 3, 2, 1, 1, 0, 0, 0, 1, 5, 5, 2, 5, 1, 3, 0, 0, 5, 0, 1, 5, 4, 1, 1, 5, 5, 3, 5, 4, 1, 0, 3, 2, 3, 3, 5, 3, 1, 4, 4, 4, 1, 0, 3, 1, 2, 1, 2, 3, 4, 0, 5, 1, 4, 4, 2, 1, 5, 5, 2, 2, 5, 3, 2, 0, 5, 2, 4, 2, 5, 1, 1, 0, 5, 2, 1, 0, 2, 0, 5, 4, 4, 2, 5, 5, 3, 1, 2, 4, 2, 1, 1, 2, 5, 0, 3, 0, 0, 5, 2, 3, 0, 0, 0, 4, 3, 4, 5, 1, 4, 2, 4, 4, 4, 5, 1, 5, 0, 3, 3, 1, 4, 4, 5, 5, 5, 0, 5, 2, 4, 0, 2, 2, 5, 0, 3, 0, 5, 5, 1, 1, 4, 3, 0, 4, 3, 1, 4, 3, 4, 4, 2, 2, 5, 4, 0, 2, 0, 2, 0, 4, 4, 5, 3, 1, 1, 5, 5, 5, 3, 1, 0, 4, 0, 3, 5, 3, 4, 1, 0, 5, 5, 4, 4, 5, 0, 2, 2, 0, 3, 4, 1, 3, 3, 3, 5, 4, 0, 0, 5, 0, 3, 1, 1, 0, 2, 5, 2, 4, 3, 5, 1, 3, 0, 1, 4, 4, 4, 1, 2, 0, 3, 4, 4, 5, 4, 4, 3, 1, 4, 1, 3, 1, 1, 2, 1, 3, 0, 5, 5, 1, 5, 5, 0, 4, 3, 0, 4, 1, 2, 3, 5, 3, 4, 0, 4, 1, 1, 3, 0, 2, 5, 2, 3, 3, 3, 2, 0, 0, 4, 3, 4, 4, 3, 4, 0, 4, 5, 2, 0, 5, 2, 5, 4, 3, 5, 3, 1, 2, 5, 1, 4, 5, 0, 0, 3, 1, 1, 1, 2, 0, 0, 4, 1, 2, 0, 0, 5, 0, 2, 3, 4, 2, 1, 1, 1, 3, 2, 4, 1, 1, 5, 1, 0, 1, 5, 3, 1, 4, 0, 1, 5, 5, 5, 0, 0, 1, 0, 0, 3, 5, 2, 2, 2, 2, 0, 5, 0, 4, 5, 1, 0, 0, 3, 3, 0, 0, 3, 0, 2, 3, 5, 2, 5, 3, 2, 1, 3, 3, 0, 0, 4, 4, 5, 5, 0, 1, 4, 5, 0, 2, 2, 1, 1, 5, 2, 5, 0, 1, 2, 5, 0, 1, 1, 4, 5, 4, 3, 2, 4, 4, 1, 1, 3, 0, 0, 3, 2, 2, 0, 0, 5, 4, 4, 5, 2, 5, 2, 2, 3, 0, 1, 4, 3, 0, 2, 0, 1, 0, 2, 1, 1, 5, 1, 1, 3, 1, 1, 3, 1, 5, 2, 5, 2, 4, 2, 4, 5, 5, 4, 1, 4, 2, 3, 4, 3, 1, 1, 1, 4, 0, 5, 3, 1, 3, 5, 3, 0, 1, 2, 1, 3, 2, 2, 2, 0, 1, 1, 3, 4, 4, 4, 5, 4, 3, 1, 5, 1, 2, 1, 1, 0, 0, 0, 2, 4, 1, 0, 5, 2, 3, 4, 1, 1, 2, 1, 0, 3, 0, 0, 3, 1, 5, 2, 5, 2, 2, 2, 3, 1, 4, 4, 1, 4, 4, 4, 1, 3, 1, 1, 5, 3, 1, 4, 2, 5, 1, 5, 3, 1, 4, 5, 2, 0, 5, 4, 5, 2, 5, 4, 2, 0, 0, 3, 3, 3, 3, 4, 4, 4, 3, 2, 0, 5, 5, 0, 5, 4, 4, 2, 2, 4, 1, 0, 4, 5, 1, 0, 2, 1, 4, 4, 0, 4, 1, 1, 4, 5, 2, 3, 3, 3, 1, 2, 0, 4, 5, 0, 0, 4, 2, 5, 4, 3, 5, 3, 4, 1, 0, 2, 3, 5, 3, 3, 0, 1, 5, 1, 5, 1, 0, 0, 2, 1, 3, 1, 2, 1, 2, 2, 2, 1, 2, 0, 1, 0, 3, 1, 3, 4, 4, 5, 5, 3, 1, 3, 3, 5, 4, 4, 3, 2, 4, 0, 3, 1, 0, 5, 3, 0, 5, 0, 2, 1, 4, 0, 2, 2, 5, 4, 5, 2, 5, 5, 4, 4, 0, 0, 3, 0, 0, 0, 1, 5, 5, 5, 5, 3, 4, 2, 4, 5, 4, 2, 4, 0, 0, 5, 0, 2, 3, 2, 2, 4, 4, 4, 0, 3, 1, 4, 3, 0, 1, 3, 0, 4, 5, 2, 2, 5, 5, 4, 1, 4, 2, 5, 0, 3, 5, 1, 2, 4, 3, 3, 5, 1, 1, 4, 5, 1, 2, 0, 1, 0, 5, 1, 4, 2, 3, 3, 0, 4, 5, 1, 3, 0, 3, 5, 3, 5, 0, 3, 0, 3, 2, 1, 3, 3, 0, 4, 4, 5, 3, 2, 0, 2, 2, 5, 1, 4, 3, 5, 5, 0, 5, 0, 2, 2, 3, 5, 0, 1, 5, 1, 2, 2, 5, 5, 0, 0, 5, 4, 0, 4, 5, 2, 5, 5, 1, 5, 4, 4, 0, 2, 0, 0, 0, 0, 0, 1, 0, 4, 0, 3, 0, 2, 3, 5, 4, 2, 4, 2, 3, 5, 1, 3, 0, 2, 4, 5, 3, 3, 2, 4, 0, 0, 1, 4, 0, 5, 5, 0, 3, 1, 2, 3, 0, 3, 4, 4, 1, 5, 5, 4, 5, 5, 1, 2, 3, 4, 3, 0, 2, 0, 0, 3, 0, 4, 1, 4, 5, 3, 2, 2, 1, 1, 5, 3, 0, 0, 0, 5, 3, 5, 1, 4, 5, 0, 4, 2, 2, 2, 1, 0, 0, 1, 2, 2, 3, 1, 2, 3, 0, 1, 4, 2, 5, 2, 5, 3, 0, 1, 5, 1, 4, 1, 0, 0, 4, 5, 3, 4, 3, 1, 2, 4, 0, 5, 2, 3, 2, 1, 1, 2, 2, 4, 5, 4, 0, 2, 1, 3, 1, 1, 3, 2, 3, 3, 3, 2, 5, 5, 0, 1, 5, 5, 3, 1, 3, 2, 0, 5, 5, 5, 4, 3, 1, 2, 0, 4, 5, 4, 5, 5, 0, 1, 0, 4, 5, 4, 5, 3, 0, 1, 3, 5, 3, 3, 1, 1, 2, 2, 2, 0, 4, 4, 0, 4, 4, 5, 3, 2, 4, 5, 1, 3, 5, 5, 4, 0, 4, 4, 5, 2, 5, 5, 0, 3, 1, 5, 4, 4, 0, 1, 1, 0, 4, 3, 1, 4, 5, 1, 1, 3, 1, 1, 1, 1, 1, 0, 4, 3, 3, 1, 5, 2, 3, 0, 3, 3, 2, 4, 5, 2, 5, 5, 4, 1, 4, 4, 5, 0, 4, 4, 3, 2, 4, 3, 2, 5, 3, 1, 4, 4, 3, 1, 2, 0, 5, 3, 2, 3, 2, 0, 1, 5, 3, 2, 1, 2, 4, 1, 3, 5, 0, 0, 3, 4, 3, 3, 2, 3, 0, 4, 5, 0, 5, 4, 4, 2, 5, 4, 3, 1, 0, 4, 1, 0, 2, 2, 3, 2, 0, 2, 4, 3, 5, 2, 1, 4, 3, 1, 1, 0, 1, 4, 1, 4, 5, 1, 5, 0, 0, 2, 0, 2, 3, 1, 1, 4, 0, 0, 2, 5, 0, 5, 2, 3, 2, 5, 5, 5, 2, 5, 3, 3, 0, 4, 0, 1, 4, 2, 2, 3, 0, 5, 3, 3, 4, 4, 4, 2, 4, 4, 3, 2, 4, 5, 2, 1, 5, 0, 4, 0, 0, 3, 1, 0, 0, 5, 1, 4, 2, 5, 4, 4, 5, 3, 5, 1, 4, 5, 3, 1, 5, 1, 2, 0, 1, 5, 5, 4, 1, 0, 3, 4, 5, 1, 0, 5, 0, 0, 4, 1, 1, 1, 4, 5, 2, 3, 0, 2, 4, 2, 1, 4, 0, 4, 4, 1, 4, 4, 5, 4, 3, 2, 4, 2, 3, 1, 4, 4, 4, 2, 3, 3, 4, 4, 0, 0, 1, 4, 1, 1, 1, 2, 4, 0, 1, 1, 2, 2, 4, 2, 3, 0, 4, 2, 2, 3, 5, 5, 0, 1, 2, 3, 3, 4, 3, 1, 2, 5, 2, 4, 0, 5, 3, 3, 0, 3, 3, 5, 2, 1, 0, 4, 1, 5, 0, 2, 0, 1, 5, 4, 4, 1, 1, 3, 5, 3, 5, 4, 4, 5, 3, 3, 2, 4, 0, 4, 4, 1, 2, 5, 2, 3, 0, 0, 0, 4, 3, 2, 1, 4, 3, 1, 1, 2, 4, 3, 5, 5, 5, 5, 2, 3, 1, 3, 1, 1, 0, 3, 2, 0, 0, 5, 5, 3, 2, 1, 5, 3, 4, 3, 2, 0, 2, 1, 5, 4, 0, 0, 5, 2, 2, 4, 1, 5, 2, 3, 2, 5, 4, 1, 2, 3, 3, 0, 2, 2, 5, 5, 0, 0, 2, 3, 3, 2, 3, 2, 2, 4, 4, 0, 0, 3, 2, 2, 5, 0, 0, 1, 4, 4, 1, 4, 2, 5, 2, 3, 4, 2, 0, 1, 1, 5, 4, 1, 5, 1, 1, 3, 1, 2, 2, 1, 5, 1, 0, 5, 0, 5, 2, 4, 3, 1, 2, 2, 4, 1, 0, 4, 0, 0, 4, 5, 4, 3, 1, 5, 5, 0, 3, 3, 2, 1, 1, 2, 3, 4, 0, 4, 3, 0, 4, 4, 0, 5, 5, 2, 3, 5, 0, 0, 1, 3, 0, 5, 0, 3, 4, 3, 5, 1, 4, 3, 0, 4, 2, 2, 5, 5, 5, 2, 3, 4, 0, 0, 3, 1, 4, 2, 0, 1, 4, 4, 2, 3, 5, 3, 1, 2, 0, 5, 2, 3, 1, 2, 3, 1, 5, 5, 3, 1, 5, 3, 3, 0, 2, 0, 4, 4, 0, 3, 2, 1, 1, 3, 3, 0, 5, 4, 0, 3, 1, 2, 5, 3, 5, 4, 4, 4, 4, 3, 3, 2, 0, 1, 0, 4, 4, 0, 1, 2, 3, 4, 2, 5, 0, 4, 4, 3, 1, 5, 2, 2, 2, 5, 4, 0, 0, 1, 1, 0, 0, 4, 1, 0, 3, 2, 0, 2, 2, 3, 0, 4, 0, 1, 3, 2, 2, 3, 0, 5, 4, 3, 5, 3, 4, 0, 5, 3, 1, 3, 4, 3, 3, 3, 4, 5, 4, 1, 2, 5, 1, 3, 4, 0, 2, 4, 3, 3, 1, 2, 0, 5, 5, 0, 2, 4, 5, 4, 4, 2, 0, 5, 1, 2, 4, 3, 2, 0, 5, 0, 0, 5, 1, 2, 0, 4, 4, 5, 2, 2, 3, 5, 2, 3, 5, 0, 4, 2, 1, 3, 2, 3, 0, 1, 2, 2, 1, 3, 4, 2, 2, 5, 2, 4, 1, 2, 1, 5, 0, 3, 2, 0, 4, 1, 0, 5, 4, 4, 1, 2, 5, 0, 2, 3, 3, 4, 2, 4, 0, 2, 0, 2, 0, 4, 4, 1, 4, 3, 3, 2, 5, 2, 3, 2, 0, 4, 3, 1, 1, 1, 3, 4, 3, 1, 5, 2, 0, 3, 1, 4, 3, 5, 1, 5, 5, 5, 5, 0, 2, 5, 0, 0, 1, 1, 5, 4, 1, 3, 5, 5, 5, 5, 2, 3, 4, 5, 3, 0, 2, 1, 2, 3, 1, 3, 3, 5, 0, 2, 3, 4, 1, 3, 1, 4, 5, 5, 0, 4, 1, 4, 5, 2, 4, 2, 3, 1, 0, 1, 4, 5, 2, 0, 0, 5, 1, 2, 0, 0, 1, 1, 4, 4, 4, 4, 0, 5, 4, 0, 2, 2, 3, 2, 2, 4, 2, 4, 0, 4, 1, 5, 1, 2, 1, 1, 3, 4, 2, 2, 1, 3, 4, 3, 3, 1, 3, 2, 2, 2, 3, 4, 2, 5, 1, 1, 1, 0, 3, 4, 5, 2, 4, 4, 1, 4, 5, 2, 2, 3, 0, 3, 2, 4, 5, 1, 0, 4, 3, 1, 5, 3, 5, 2, 3, 0, 4, 3, 4, 0, 0, 0, 4, 1, 0, 0, 1, 5, 1, 3, 2, 5, 1, 0, 1, 3, 0, 3, 4, 1, 0, 0, 1, 5, 5, 3, 2, 2, 2, 5, 0, 3, 4, 2, 3, 1, 3, 4, 0, 4, 1, 0, 1, 0, 2, 0, 4, 2, 5, 1, 5, 1, 1, 4, 5, 4, 1, 3, 0, 4, 2, 4, 0, 2, 4, 2, 1, 1, 3, 4, 5, 0, 4, 0, 0, 0, 0, 5, 3, 1, 4, 3, 0, 2, 1, 2, 4, 5, 5, 1, 2, 2, 2, 4, 4, 2, 0, 5, 1, 1, 4, 0, 3, 0, 5, 2, 5, 5, 5, 0, 5, 2, 2, 2, 1, 0, 2, 4, 5, 5, 3, 2, 1, 4, 0, 3, 5, 5, 5, 2, 2, 3, 3, 3, 4, 1, 3, 4, 0, 0, 5, 1, 3, 0, 5, 0, 5, 0, 4, 5, 0, 4, 3, 4, 4, 3, 2, 2, 3, 0, 5, 0, 5, 5, 3, 2, 4, 5, 5, 1, 2, 5, 3, 4, 3, 1, 2, 4, 5, 2, 0, 5, 5, 3, 0, 5, 1, 2, 0, 3, 3, 2, 4, 3, 4, 3, 5, 4, 3, 1, 1, 2, 4, 4, 5, 2, 2, 1, 3, 5, 5, 4, 3, 5, 3, 1, 2, 4, 0, 4, 2, 5, 5, 1, 2, 4, 0, 1, 3, 4, 0, 3, 4, 2, 1, 0, 0, 5, 5, 5, 3, 4, 5, 3, 2, 2, 1, 5, 3, 3, 1, 3, 2, 0, 0, 1, 2, 2, 2, 2, 1, 1, 2, 5, 0, 3, 5, 3, 5, 1, 4, 0, 0, 0, 2, 0, 3, 2, 3, 3, 3, 1, 2, 2, 0, 2, 0, 3, 5, 5, 5, 0, 1, 4, 4, 3, 0, 3, 3, 1, 0, 5, 3, 1, 2, 1, 4, 1, 1, 2, 1, 0, 3, 5, 5, 0, 0, 1, 1, 3, 0, 1, 1, 2, 0, 2, 1, 1, 1, 4, 1, 1, 2, 4, 0, 0, 3, 3, 0, 4, 4, 3, 3, 3, 5, 1, 2, 3, 5, 1, 0, 5, 2, 4, 0, 3, 3, 1, 2, 1, 2, 5, 2, 5, 4, 4, 2, 2, 2, 4, 0, 4, 0, 1, 3, 2, 1, 5, 2, 4, 4, 5, 1, 0, 3, 4, 4, 0, 1, 0, 2, 2, 1, 1, 5, 4, 4, 5, 5, 2, 0, 5, 0, 3, 0, 1, 5, 4, 0, 1, 3, 2, 0, 2, 0, 0, 5, 2, 4, 5, 4, 5, 3, 3, 5, 4, 1, 4, 4, 3, 2, 3, 0, 1, 3, 5, 2, 3, 0, 4, 5, 3, 2, 0, 0, 3, 1, 5, 3, 2, 5, 3, 0, 5, 2, 4, 4, 1, 3, 0, 0, 0, 4, 3, 0, 0, 3, 4, 4, 5, 1, 1, 2, 2, 0, 1, 5, 0, 0, 3, 3, 5, 5, 5, 4, 5, 1, 0, 2, 3, 2, 1, 3, 3, 2, 0, 1, 4, 5, 3, 1, 5, 4, 5, 3, 0, 0, 5, 5, 3, 3, 4, 1, 0, 1, 0, 0, 4, 0, 4, 1, 3, 0, 4, 4, 4, 1, 1, 2, 0, 5, 3, 3, 0, 1, 4, 4, 0, 0, 5, 4, 3, 3, 0, 0, 3, 4, 1, 1, 0, 0, 5, 5, 4, 5, 3, 0, 1, 1, 3, 2, 4, 0, 0, 5, 4, 3, 3, 4, 0, 4, 4, 3, 3, 2, 3, 4, 5, 0, 4, 4, 0, 4, 0, 4, 5, 5, 5, 5, 0, 5, 0, 2, 0, 1, 3, 3, 0, 3, 0, 2, 5, 5, 4, 1, 1, 3, 0, 1, 1, 5, 4, 3, 5, 2, 4, 4, 0, 0, 5, 0, 2, 1, 1, 5, 3, 0, 4, 0, 0, 2, 0, 3, 2, 5, 5, 1, 0, 5, 5, 5, 2, 1, 0, 2, 2, 2, 1, 3, 1, 2, 1, 3, 3, 0, 1, 0, 5, 0, 3, 5, 2, 5, 2, 4, 1, 3, 3, 5, 2, 3, 4, 4, 3, 5, 4, 2, 4, 0, 5, 4, 0, 2, 2, 5, 0, 5, 0, 0, 5, 4, 5, 4, 0, 5, 2, 2, 2, 3, 5, 4, 0, 2, 5, 5, 2, 4, 5, 1, 2, 1, 0, 1, 4, 2, 3, 4, 1, 2, 2, 1, 3, 3, 2, 5, 5, 0, 1, 3, 1, 1, 5, 1, 1, 2, 3, 5, 1, 4, 0, 4, 2, 2, 0, 5, 2, 5, 5, 0, 0, 3, 2, 4, 2, 0, 5, 5, 2, 3, 0, 0, 1, 2, 4, 0, 4, 1, 2, 2, 3, 5, 5, 5, 1, 4, 3, 0, 5, 5, 2, 5, 1, 0, 1, 3, 2, 2, 1, 5, 1, 1, 1, 3, 2, 3, 2, 1, 4, 1, 1, 3, 1, 5, 2, 4, 5, 2, 1, 2, 5, 2, 4, 0, 1, 3, 1, 4, 1, 3, 3, 4, 1, 4, 1, 3, 5, 5, 0, 2, 5, 0, 5, 0, 3, 2, 1, 5, 4, 1, 4, 0, 3, 0, 5, 1, 3, 1, 5, 2, 5, 5, 3, 0, 5, 0, 5, 2, 0, 3, 2, 4, 2, 1, 4, 5, 0, 4, 5, 0, 5, 0, 3, 3, 2, 3, 3, 1, 2, 5, 4, 2, 3, 1, 1, 1, 2, 4, 1, 1, 3, 5, 0, 2, 3, 3, 1, 4, 5, 4, 2, 3, 3, 5, 2, 2, 1, 0, 4, 4, 1, 4, 3, 5, 5, 1, 5, 5, 1, 0, 2, 0, 5, 0, 1, 0, 5, 0, 1, 3, 2, 5, 4, 0, 2, 1, 4, 0, 4, 2, 1, 4, 0, 0, 2, 2, 1, 4, 2, 0, 4, 0, 0, 5, 1, 1, 2, 3, 4, 4, 4, 3, 0, 0, 5, 0, 5, 3, 2, 0, 3, 0, 1, 1, 0, 2, 1, 0, 4, 4, 4, 1, 1, 0, 4, 5, 4, 0, 5, 3, 4, 4, 1, 4, 5, 5, 2, 5, 5, 3, 4, 5, 0, 0, 0, 4, 4, 1, 0, 1, 0, 3, 4, 0, 4, 2, 4, 1, 2, 3, 0, 1, 4, 5, 1, 0, 2, 0, 4, 1, 1, 0, 0, 3, 3, 0, 5, 4, 4, 4, 0, 5, 5, 0, 1, 2, 4, 5, 5, 4, 3, 1, 4, 1, 0, 3, 3, 5, 4, 0, 4, 5, 0, 0, 1, 2, 0, 2, 4, 3, 2, 3, 4, 0, 2, 0, 1, 3, 5, 5, 1, 2, 3, 5, 2, 3, 2, 4, 3, 4, 3, 0, 0, 4, 4, 5, 3, 2, 1, 2, 2, 2, 0, 5, 0, 2, 0, 2, 2, 0, 5, 0, 4, 3, 5, 5, 0, 1, 2, 1, 1, 5, 0, 4, 4, 2, 4, 0, 5, 3, 2, 4, 1, 1, 2, 2, 2, 4, 3, 3, 2, 2, 4, 5, 0, 2, 3, 0, 1, 4, 3, 0, 4, 3, 2, 5, 2, 5, 3, 2, 3, 3, 2, 1, 3, 4, 4, 0, 3, 0, 4, 2, 5, 2, 4, 3, 3, 2, 3, 2, 5, 3, 0, 1, 1, 2, 3, 4, 0, 1, 4, 4, 0, 5, 2, 4, 4, 1, 1, 5, 4, 5, 1, 5, 3, 0, 2, 1, 5, 1, 0, 4, 2, 1, 0, 3, 1, 4, 0, 5, 5, 5, 0, 2, 2, 5, 3, 3, 1, 5, 5, 0, 2, 0, 1, 2, 2, 5, 0, 4, 0, 0, 4, 5, 1, 4, 0, 5, 3, 4, 3, 5, 5, 4, 5, 5, 1, 0, 1, 2, 0, 5, 5, 2, 2, 4, 5, 0, 2, 0, 0, 2, 0, 4, 2, 1, 4, 1, 3, 3, 2, 3, 5, 1, 3, 4, 4, 4, 3, 5, 4, 4, 4, 1, 2, 3, 3, 5, 0, 0, 3, 0, 1, 1, 4, 5, 4, 4, 5, 5, 5, 2, 4, 5, 1, 3, 3, 2, 0, 0, 3, 1, 3, 1, 0, 5, 2, 3, 0, 3, 1, 3, 3, 4, 1, 0, 2, 2, 4, 3, 4, 5, 2, 4, 1, 0, 2, 4, 0, 5, 0, 0, 2, 0, 0, 3, 3, 4, 0, 4, 2, 0, 0, 0, 5, 4, 0, 3, 5, 5, 5, 0, 1, 1, 0, 2, 2, 0, 3, 0, 5, 2, 4, 0, 4, 1, 0, 5, 4, 5, 1, 5, 1, 4, 0, 3, 0, 2, 2, 2, 3, 0, 1, 5, 5, 4, 1, 5, 5, 2, 2, 3, 2, 4, 0, 3, 0, 4, 4, 0, 0, 1, 2, 1, 5, 5, 5, 4, 5, 3, 2, 4, 0, 1, 5, 1, 3, 4, 1, 3, 5, 4, 0, 2, 2, 5, 0, 4, 2, 4, 5, 2, 2, 2, 2, 3, 1, 5, 5, 0, 5, 3, 3, 3, 1, 1, 5, 0, 5, 0, 5, 4, 1, 0, 5, 5, 5, 1, 2, 1, 0, 1, 1, 0, 1, 5, 1, 3, 0, 2, 5, 1, 0, 5, 5, 4, 2, 2, 0, 5, 2, 3, 5, 1, 4, 5, 0, 2, 3, 3, 2, 0, 0, 0, 4, 4, 0, 2, 3, 1, 2, 0, 5, 2, 0, 3, 2, 3, 5, 1, 0, 1, 2, 5, 2, 0, 5, 0, 1, 4, 2, 2, 5, 4, 3, 2, 4, 2, 4, 5, 0, 4, 1, 4, 1, 2, 2, 3, 2, 4, 4, 2, 2, 0, 0, 1, 4, 4, 5, 3, 2, 1, 0, 3, 1, 4, 1, 3, 5, 2, 5, 3, 4, 0, 4, 4, 2, 5, 1, 1, 0, 5, 3, 2, 5, 1, 4, 5, 2, 2, 4, 2, 1, 5, 2, 1, 4, 5, 4, 4, 4, 2, 0, 1, 4, 3, 1, 0, 0, 5, 0, 1, 4, 4, 4, 0, 1, 1, 2, 4, 4, 3, 2, 4, 4, 2, 1, 0, 1, 4, 0, 5, 3, 0, 5, 2, 4, 4, 0, 3, 1, 5, 2, 1, 4, 2, 5, 0, 3, 4, 4, 1, 1, 5, 1, 4, 0, 3, 2, 4, 5, 0, 5, 5, 5, 1, 0, 4, 5, 3, 2, 3, 1, 4, 1, 0, 5, 1, 3, 4, 0, 3, 1, 5, 3, 4, 3, 2, 3, 3, 2, 4, 3, 5, 5, 1, 4, 3, 4, 2, 0, 5, 4, 4, 4, 5, 3, 0, 3, 0, 3, 4, 1, 0, 3, 5, 0, 1, 4, 5, 3, 1, 4, 1, 2, 4, 0, 5, 4, 3, 2, 2, 4, 1, 1, 1, 3, 0, 2, 4, 5, 2, 1, 0, 0, 2, 5, 5, 1, 0, 5, 0, 0, 0, 0, 1, 0, 4, 2, 1, 3, 2, 0, 0, 3, 2, 1, 1, 0, 1, 5, 1, 1, 5, 5, 4, 1, 2, 4, 1, 0, 3, 3, 0, 1, 2, 1, 0, 3, 1, 1, 2, 0, 2, 4, 4, 4, 4, 3, 4, 1, 1, 0, 4, 0, 4, 4, 3, 5, 5, 0, 5, 0, 5, 2, 2, 1, 2, 1, 3, 4, 1, 0, 4, 5, 5, 1, 5, 2, 0, 3, 0, 1, 4, 4, 5, 3, 1, 0, 0, 3, 0, 3, 0, 2, 0, 2, 4, 2, 3, 3, 2, 1, 0, 5, 2, 4, 1, 4, 4, 2, 5, 2, 4, 2, 5, 0, 4, 5, 0, 1, 2, 1, 2, 3, 0, 1, 5, 4, 3, 0, 2, 0, 2, 3, 3, 1, 5, 4, 0, 3, 2, 4, 2, 5, 0, 2, 2, 1, 1, 3, 0, 4, 3, 5, 0, 4, 3, 5, 3, 0, 3, 3, 5, 1, 2, 0, 4, 2, 5, 5, 3, 2, 2, 2, 3, 5, 3, 3, 0, 3, 0, 3, 5, 0, 1, 2, 5, 5, 2, 5, 1, 3, 1, 1, 3, 3, 1, 1, 4, 5, 3, 1, 2, 2, 0, 0, 4, 1, 5, 4, 5, 3, 0, 5, 5, 1, 4, 0, 2, 5, 2, 4, 1, 5, 4, 2, 3, 1, 4, 4, 2, 5, 2, 1, 0, 3, 3, 1, 2, 3, 0, 1, 0, 2, 1, 1, 1, 0, 3, 0, 3, 3, 2, 5, 3, 5, 1, 4, 1, 0, 3, 4, 5, 5, 1, 4, 0, 0, 2, 1, 0, 2, 4, 3, 1, 4, 2, 5, 5, 4, 5, 0, 4, 1, 5, 2, 4, 0, 1, 4, 3, 2, 5, 3, 2, 1, 0, 4, 2, 0, 4, 2, 2, 3, 2, 4, 5, 4, 1, 1, 1, 2, 4, 0, 1, 0, 1, 5, 5, 2, 0, 5, 4, 4, 4, 4, 0, 3, 0, 3, 5, 5, 0, 4, 2, 2, 1, 1, 4, 5, 1, 3, 4, 3, 3, 3, 0, 0, 5, 5, 5, 2, 1, 1, 3, 3, 2, 0, 1, 2, 1, 4, 5, 4, 1, 5, 5, 1, 2, 2, 3, 5, 3, 5, 4, 3, 3, 4, 1, 5, 3, 2, 2, 3, 4, 2, 4, 5, 5, 5, 1, 0, 1, 3, 4, 5, 3, 2, 0, 2, 1, 5, 2, 4, 0, 2, 5, 5, 0, 3, 5, 1, 2, 2, 3, 1, 3, 2, 0, 5, 0, 4, 1, 5, 5, 1, 1, 1, 3, 4, 5, 3, 3, 5, 3, 3, 4, 0, 5, 2, 3, 1, 4, 1, 2, 4, 1, 3, 3, 0, 5, 1, 4, 0, 5, 2, 0, 2, 1, 2, 4, 3, 1, 4, 0, 1, 1, 4, 0, 1, 0, 0, 2, 0, 0, 5, 0, 2, 5, 3, 0, 0, 2, 0, 0, 4, 1, 1, 5, 1, 5, 2, 3, 2, 4, 4, 4, 1, 4, 5, 2, 2, 3, 0, 2, 0, 3, 3, 1, 3, 2, 5, 2, 2, 0, 2, 2, 2, 5, 3, 2, 4, 5, 4, 5, 3, 3, 1, 3, 3, 1, 4, 3, 2, 2, 2, 0, 1, 5, 2, 4, 2, 5, 5, 0, 0, 0, 2, 3, 1, 1, 5, 1, 5, 1, 0, 1, 1, 4, 0, 3, 3, 3, 5, 0, 3, 5, 0, 4, 3, 2, 4, 2, 1, 0, 3, 0, 5, 3, 1, 1, 1, 0, 0, 2, 2, 0, 5, 1, 5, 3, 2, 4, 2, 1, 3, 4, 2, 1, 2, 1, 2, 0, 4, 0, 3, 3, 4, 4, 3, 4, 4, 5, 5, 0, 1, 3, 2, 1, 1, 5, 1, 0, 3, 5, 2, 1, 2, 2, 5, 4, 5, 5, 1, 1, 2, 0, 4, 0, 5, 1, 2, 5, 3, 4, 3, 0, 3, 3, 3, 5, 2, 0, 3, 3, 4, 5, 0, 5, 2, 2, 5, 5, 1, 0, 0, 0, 0, 3, 4, 0, 2, 2, 4, 0, 0, 0, 3, 0, 1, 4, 2, 5, 4, 3, 1, 5, 3, 1, 5, 5, 0, 2, 0, 0, 1, 3, 5, 5, 0, 3, 4, 1, 0, 4, 0, 5, 1, 1, 3, 5, 4, 2, 4, 3, 3, 5, 2, 5, 3, 2, 4, 4, 4, 0, 3, 2, 2, 4, 5, 4, 1, 5, 3, 5, 1, 3, 1, 0, 4, 3, 0, 5, 2, 1, 1, 3, 3, 1, 2, 1, 5, 1, 4, 3, 2, 2, 2, 2, 1, 4, 1, 5, 2, 2, 0, 1, 2, 4, 3, 2, 5, 4, 2, 4, 5, 2, 5, 0, 0, 2, 5, 0, 2, 5, 4, 4, 1, 3, 5, 0, 4, 2, 4, 1, 1, 3, 2, 4, 5, 2, 1, 5, 5, 0, 5, 1, 2, 1, 5, 5, 1, 0, 0, 1, 3, 2, 0, 3, 1, 4, 1, 4, 1, 3, 2, 2, 4, 0, 0, 1, 3, 2, 5, 3, 5, 0, 5, 5, 5, 5, 0, 1, 1, 2, 1, 0, 1, 4, 0, 1, 1, 3, 1, 1, 1, 4, 1, 4, 3, 3, 1, 5, 5, 1, 5, 4, 5, 2, 0, 3, 5, 1, 2, 1, 4, 4, 4, 0, 1, 0, 0, 5, 2, 0, 5, 3, 4, 4, 1, 5, 4, 0, 3, 5, 1, 1, 5, 1, 4, 4, 2, 4, 4, 5, 3, 2, 4, 1, 3, 2, 2, 5, 5, 4, 3, 3, 1, 0, 2, 2, 0, 5, 0, 2, 4, 0, 0, 1, 5, 2, 4, 0, 4, 3, 4, 2, 1, 3, 4, 1, 5, 0, 3, 5, 2, 1, 4, 4, 2, 5, 0, 4, 0, 4, 0, 2, 5, 1, 4, 4, 3, 0, 2, 3, 3, 0, 5, 3, 3, 1, 2, 5, 5, 1, 0, 0, 4, 0, 4, 1, 1, 5, 0, 3, 4, 0, 3, 2, 4, 4, 5, 1, 2, 1, 1, 2, 1, 1, 4, 1, 1, 4, 2, 4, 5, 3, 2, 0, 5, 2, 4, 0, 4, 2, 1, 4, 1, 5, 4, 0, 3, 0, 1, 2, 5, 3, 5, 3, 0, 2, 0, 1, 3, 0, 4, 1, 5, 5, 3, 4, 5, 2, 1, 4, 3, 2, 4, 0, 4, 3, 4, 4, 1, 4, 0, 3, 1, 4, 2, 1, 1, 5, 0, 3, 1, 1, 1, 5, 3, 1, 0, 3, 3, 5, 3, 1, 5, 5, 2, 2, 2, 2, 3, 3, 3, 2, 2, 5, 1, 1, 2, 4, 1, 4, 1, 5, 2, 1, 4, 4, 2, 2, 2, 3, 5, 3, 4, 5, 1, 2, 1, 2, 1, 4, 5, 4, 4, 2, 0, 0, 3, 0, 2, 0, 2, 3, 3, 0, 0, 2, 3, 0, 3, 0, 5, 4, 1, 1, 0, 4, 5, 3, 0, 0, 2, 3, 0, 4, 5, 5, 4, 2, 4, 0, 0, 3, 3, 2, 1, 1, 2, 2, 3, 0, 1, 3, 0, 4, 4, 5, 1, 1, 4, 0, 4, 4, 5, 1, 1, 0, 0, 0, 2, 1, 3, 1, 4, 2, 3, 0, 1, 3, 3, 2, 4, 2, 1, 0, 5, 0, 5, 0, 4, 1, 1, 3, 3, 4, 2, 2, 1, 3, 4, 5, 5, 3, 5, 2, 2, 2, 4, 3, 5, 5, 5, 1, 2, 5, 4, 1, 0, 3, 1, 4, 4, 5, 0, 0, 1, 1, 4, 2, 4, 4, 0, 1, 3, 5, 0, 3, 3, 0, 2, 5, 3, 4, 5, 1, 5, 4, 4, 4, 4, 5, 3, 0, 1, 2, 2, 4, 0, 1, 1, 1, 5, 1, 0, 3, 5, 5, 3, 3, 4, 1, 4, 3, 4, 2, 2, 2, 1, 1, 0, 5, 1, 2, 3, 1, 3, 2, 5, 0, 5, 0, 4, 3, 2, 5, 0, 5, 2, 4, 4, 1, 4, 5, 3, 0, 2, 3, 1, 5, 0, 3, 2, 1, 3, 0, 3, 3, 4, 3, 0, 1, 3, 5, 0, 5, 4, 5, 0, 2, 3, 0, 0, 4, 4, 1, 3, 3, 5, 4, 5, 4, 1, 5, 0, 1, 2, 4, 1, 2, 0, 4, 4, 2, 4, 0, 5, 1, 2, 4, 2, 1, 1, 1, 4, 5, 3, 3, 3, 0, 4, 2, 2, 0, 2, 0, 0, 4, 5, 0, 5, 4, 2, 1, 1, 2, 1, 3, 5, 5, 1, 0, 5, 2, 0, 2, 2, 1, 3, 3, 4, 3, 0, 3, 4, 5, 2, 0, 5, 3, 3, 4, 5, 1, 4, 5, 5, 5, 1, 1, 2, 2, 1, 2, 2, 4, 3, 5, 4, 4, 0, 4, 2, 1, 3, 1, 4, 3, 5, 5, 1, 1, 0, 0, 2, 3, 4, 5, 3, 5, 3, 3, 5, 3, 1, 3, 5, 3, 2, 5, 1, 0, 4, 5, 5, 0, 0, 0, 0, 0, 4, 2, 4, 3, 0, 1, 0, 1, 1, 5, 4, 0, 3, 4, 5, 1, 4, 4, 0, 1, 1, 1, 5, 2, 4, 4, 3, 5, 2, 4, 3, 0, 3, 1, 2, 3, 3, 2, 4, 4, 3, 0, 0, 4, 1, 5, 4, 5, 5, 3, 4, 0, 3, 0, 4, 0, 2, 5, 3, 4, 1, 1, 4, 3, 4, 5, 0, 4, 1, 1, 2, 1, 3, 5, 4, 5, 2, 2, 0, 0, 1, 4, 5, 3, 1, 3, 2, 3, 0, 5, 0, 4, 4, 3, 0, 5, 3, 0, 1, 1, 1, 1, 3, 4, 3, 1, 5, 5, 2, 1, 0, 5, 5, 5, 4, 3, 5, 3, 5, 4, 5, 1, 0, 5, 1, 5, 5, 0, 5, 1, 4, 4, 1, 1, 2, 5, 4, 5, 0, 1, 1, 4, 5, 5, 1, 0, 1, 1, 3, 2, 5, 1, 2, 5, 5, 4, 2, 1, 5, 0, 5, 3, 0, 3, 5, 5, 2, 4, 4, 5, 1, 3, 5, 2, 1, 5, 3, 5, 4, 3, 4, 1, 0, 2, 4, 4, 0, 4, 1, 4, 5, 3, 2, 1, 4, 1, 0, 2, 5, 2, 4, 2, 2, 3, 3, 2, 5, 3, 1, 0, 2, 4, 1, 3, 1, 1, 1, 2, 3, 1, 1, 1, 0, 5, 1, 3, 0, 4, 3, 1, 4, 3, 1, 2, 5, 3, 3, 4, 4, 4, 3, 5, 1, 1, 1, 1, 1, 4, 3, 5, 3, 1, 3, 2, 3, 5, 2, 4, 2, 1, 2, 3, 5, 5, 2, 3, 2, 5, 4, 4, 5, 4, 5, 4, 4, 0, 0, 2, 0, 5, 0, 5, 2, 5, 4, 5, 3, 2, 1, 5, 4, 0, 3, 3, 2, 3, 1, 4, 0, 4, 4, 3, 4, 2, 4, 4, 5, 1, 0, 5, 1, 2, 0, 3, 4, 5, 4, 4, 2, 3, 3, 2, 2, 1, 2, 4, 1, 2, 5, 3, 5, 2, 2, 5, 4, 3, 3, 5, 2, 5, 5, 4, 4, 4, 1, 3, 3, 5, 2, 3, 0, 3, 1, 0, 1, 1, 3, 2, 1, 2, 5, 4, 1, 5, 0, 5, 4, 4, 3, 1, 4, 4, 5, 2, 1, 3, 4, 0, 2, 4, 3, 0, 1, 1, 5, 0, 4, 3, 1, 4, 5, 2, 2, 1, 3, 2, 1, 4, 3, 5, 2, 3, 3, 0, 0, 5, 1, 1, 0, 2, 4, 4, 3, 2, 0, 4, 3, 1, 1, 3, 0, 5, 4, 4, 4, 4, 0, 5, 1, 0, 2, 3, 3, 0, 4, 3, 4, 0, 5, 1, 0, 1, 1, 4, 4, 2, 5, 1, 2, 5, 3, 5, 3, 4, 0, 2, 0, 5, 2, 2, 4, 5, 0, 4, 0, 0, 2, 3, 0, 5, 5, 0, 1, 3, 3, 2, 3, 1, 0, 3, 5, 0, 2, 5, 1, 5, 1, 3, 3, 5, 0, 1, 0, 5, 5, 2, 3, 1, 5, 4, 2, 0, 2, 1, 0, 4, 4, 1, 4, 0, 0, 5, 0, 0, 5, 1, 5, 2, 4, 1, 1, 5, 1, 2, 0, 4, 3, 4, 0, 3, 4, 2, 5, 1, 5, 5, 0, 3, 0, 2, 2, 2, 2, 5, 2, 5, 5, 5, 2, 4, 0, 2, 4, 0, 4, 0, 3, 4, 2, 4, 1, 0, 3, 4, 4, 3, 1, 5, 5, 0, 5, 3, 2, 4, 3, 5, 1, 3, 5, 0, 5, 1, 0, 1, 0, 4, 3, 1, 3, 2, 1, 1, 4, 0, 1, 2, 1, 4, 4, 5, 1, 1, 3, 1, 2, 1, 0, 1, 2, 2, 3, 0, 0, 1, 0, 4, 2, 1, 2, 3, 1, 0, 1, 2, 4, 4, 5, 5, 0, 2, 2, 0, 2, 0, 2, 0, 3, 1, 3, 1, 0, 3, 1, 1, 2, 0, 5, 5, 4, 1, 1, 5, 2, 0, 2, 3, 4, 4, 5, 1, 3, 2, 2, 0, 3, 5, 0, 5, 3, 3, 0, 3, 3, 4, 0, 5, 5, 1, 0, 4, 5, 1, 3, 5, 4, 2, 1, 3, 1, 5, 1, 4, 5, 5, 1, 5, 5, 3, 4, 3, 3, 0, 4, 0, 1, 5, 0, 3, 4, 2, 5, 1, 2, 4, 4, 2, 1, 5, 4, 5, 4, 2, 4, 1, 4, 1, 5, 2, 5, 3, 3, 3, 5, 2, 1, 3, 2, 3, 2, 2, 1, 1, 4, 5, 0, 2, 0, 2, 5, 5, 2, 0, 2, 1, 4, 3, 1, 5, 1, 2, 5, 0, 3, 1, 4, 0, 4, 5, 0, 4, 4, 1, 5, 5, 3, 5, 3, 4, 1, 5, 3, 3, 0, 1, 4, 0, 2, 1, 3, 0, 5, 0, 3, 5, 1, 1, 0, 2, 0, 2, 5, 1, 1, 0, 1, 4, 3, 3, 5, 4, 5, 1, 0, 2, 0, 5, 5, 5, 0, 4, 0, 4, 2, 5, 0, 2, 4, 2, 1, 0, 4, 2, 0, 3, 1, 5, 3, 0, 4, 0, 5, 4, 2, 3, 0, 0, 2, 2, 5, 5, 2, 3, 1, 2, 3, 1, 5, 1, 3, 5, 2, 1, 4, 1, 1, 5, 2, 3, 1, 4, 4, 2, 2, 1, 4, 3, 0, 3, 5, 3, 2, 2, 3, 0, 0, 5, 0, 0, 2, 2, 4, 3, 0, 3, 2, 2, 2, 4, 2, 3, 3, 5, 5, 1, 2, 2, 5, 2, 1, 1, 4, 5, 4, 2, 2, 0, 1, 4, 3, 5, 1, 1, 4, 4, 4, 1, 3, 0, 3, 4, 3, 5, 0, 0, 0, 1, 5, 5, 0, 2, 3, 4, 2, 3, 2, 1, 0, 5, 1, 2, 0, 2, 2, 2, 4, 4, 0, 2, 1, 0, 3, 1, 1, 4, 0, 2, 0, 3, 5, 2, 3, 1, 3, 0, 4, 2, 0, 0, 4, 2, 1, 0, 1, 4, 3, 4, 5, 4, 5, 1, 2, 5, 2, 5, 3, 0, 3, 1, 2, 4, 0, 3, 5, 0, 4, 5, 1, 5, 5, 3, 3, 1, 5, 4, 1, 3, 0, 2, 2, 1, 1, 1, 5, 2, 0, 5, 1, 4, 2, 5, 5, 2, 3, 2, 3, 2, 5, 5, 4, 5, 4, 2, 1, 4, 3, 3, 5, 0, 2, 2, 1, 0, 3, 2, 2, 5, 0, 3, 1, 3, 5, 5, 4, 3, 2, 5, 3, 5, 2, 2, 4, 4, 0, 2, 5, 0, 1, 4, 3, 1, 0, 0, 4, 0, 5, 5, 0, 2, 2, 0, 0, 3, 2, 3, 4, 3, 3, 1, 3, 1, 4, 3, 2, 0, 4, 2, 0, 3, 3, 4, 5, 0, 0, 4, 4, 1, 1, 5, 4, 3, 4, 3, 4, 2, 0, 2, 4, 1, 0, 0, 0, 5, 4, 3, 3, 0, 5, 0, 1, 4, 4, 3, 2, 2, 1, 0, 5, 4, 5, 0, 3, 0, 2, 0, 1, 5, 0, 3, 5, 3, 2, 2, 1, 2, 4, 2, 5, 0, 0, 5, 5, 3, 5, 5, 1, 4, 0, 2, 5, 1, 4, 0, 4, 1, 0, 5, 3, 2, 5, 2, 5, 5, 0, 3, 0, 0, 4, 0, 5, 0, 5, 1, 3, 3, 4, 2, 2, 5, 4, 0, 0, 0, 4, 2, 3, 1, 0, 0, 5, 5, 5, 4, 4, 5, 5, 1, 0, 1, 5, 1, 4, 2, 4, 2, 5, 4, 5, 2, 5, 2, 2, 0, 4, 0, 3, 1, 1, 3, 1, 2, 5, 5, 4, 5, 3, 1, 3, 0, 5, 0, 0, 1, 2, 0, 5, 2, 1, 0, 0, 0, 1, 5, 4, 4, 3, 1, 2, 3, 0, 3, 2, 2, 3, 4, 1, 2, 5, 1, 0, 1, 2, 1, 4, 5, 1, 5, 4, 4, 2, 1, 3, 1, 2, 4, 4, 1, 0, 1, 2, 1, 4, 4, 3, 3, 3, 3, 2, 4, 2, 0, 5, 3, 1, 3, 2, 5, 4, 0, 0, 3, 5, 0, 3, 3, 1, 2, 5, 3, 1, 1, 2, 3, 4, 3, 4, 5, 3, 1, 5, 4, 4, 3, 4, 3, 3, 1, 3, 4, 3, 0, 3, 0, 1, 2, 4, 4, 3, 2, 4, 3, 3, 1, 3, 0, 2, 2, 1, 2, 2, 0, 4, 1, 5, 2, 4, 3, 3, 1, 3, 0, 0, 4, 3, 1, 0, 1, 4, 0, 1, 1, 2, 2, 4, 1, 4, 0, 4, 1, 5, 0, 4, 3, 4, 5, 5, 0, 3, 5, 5, 3, 1, 1, 3, 3, 5, 2, 5, 0, 4, 3, 5, 3, 2, 1, 4, 3, 0, 5, 0, 2, 5, 5, 5, 5, 5, 5, 4, 0, 0, 0, 0, 4, 0, 0, 5, 4, 5, 1, 5, 5, 0, 5, 1, 4, 5, 1, 0, 0, 3, 3, 3, 3, 1, 4, 4, 4, 2, 3, 2, 0, 2, 3, 5, 1, 4, 4, 2, 2, 3, 4, 5, 1, 3, 1, 5, 0, 2, 1, 3, 2, 5, 4, 0, 0, 4, 4, 0, 2, 5, 1, 4, 1, 0, 4, 0, 3, 0, 3, 0, 5, 3, 3, 2, 3, 0, 3, 5, 4, 1, 0, 0, 5, 0, 0, 0, 3, 0, 5, 5, 3, 3, 4, 2, 1, 0, 4, 2, 2, 1, 4, 5, 3, 5, 4, 1, 5, 3, 0, 1, 0, 0, 3, 0, 3, 4, 4, 2, 4, 2, 3, 1, 2, 4, 5, 2, 3, 0, 2, 1, 2, 0, 3, 0, 4, 5, 0, 2, 4, 1, 4, 1, 1, 2, 5, 5, 2, 3, 3, 5, 2, 5, 5, 0, 3, 3, 0, 5, 2, 5, 1, 3, 4, 1, 4, 0, 5, 2, 1, 1, 0, 4, 2, 0, 2, 1, 4, 5, 5, 3, 4, 2, 3, 3, 2, 0, 2, 5, 4, 4, 4, 3, 5, 2, 1, 0, 3, 0, 0, 1, 3, 1, 4, 3, 1, 4, 3, 1, 0, 4, 0, 2, 4, 4, 3, 3, 1, 4, 2, 2, 3, 3, 2, 4, 0, 4, 2, 3, 0, 5, 2, 2, 2, 0, 4, 2, 3, 4, 1, 0, 0, 0, 3, 3, 2, 0, 2, 2, 5, 3, 1, 0, 5, 2, 2, 5, 3, 3, 1, 4, 4, 4, 0, 2, 1, 3, 3, 2, 4, 1, 2, 0, 2, 2, 3, 5, 5, 5, 2, 4, 1, 1, 0, 4, 4, 2, 4, 2, 1, 2, 1, 5, 0, 1, 5, 4, 3, 3, 0, 5, 1, 4, 1, 0, 2, 5, 5, 5, 4, 2, 0, 3, 4, 0, 0, 5, 3, 2, 2, 3, 5, 0, 4, 0, 3, 0, 0, 2, 3, 5, 1, 4, 2, 5, 5, 5, 1, 5, 1, 4, 0, 3, 0, 2, 5, 5, 3, 1, 5, 1, 0, 3, 3, 5, 0, 3, 3, 1, 4, 0, 3, 0, 0, 2, 0, 5, 2, 2, 5, 5, 1, 1, 1, 0, 1, 2, 2, 3, 3, 3, 1, 4, 4, 1, 2, 5, 1, 0, 3, 5, 5, 5, 4, 5, 4, 5, 5, 4, 3, 0, 3, 3, 5, 5, 3, 5, 2, 2, 5, 3, 5, 4, 4, 2, 4, 1, 2, 0, 1, 4, 3, 4, 1, 2, 4, 5, 3, 4, 1, 0, 4, 5, 5, 1, 1, 1, 3, 4, 0, 1, 3, 4, 5, 0, 2, 0, 1, 4, 2, 4, 5, 3, 1, 0, 0, 0, 4, 2, 3, 3, 4, 5, 0, 2, 0, 2, 4, 2, 2, 1, 5, 0, 2, 0, 2, 3, 0, 5, 1, 1, 1, 4, 2, 3, 4, 0, 3, 4, 1, 3, 1, 5, 4, 3, 4, 5, 4, 3, 0, 0, 4, 3, 3, 5, 0, 4, 1, 3, 2, 4, 1, 3, 2, 2, 4, 1, 5, 3, 0, 5, 3, 4, 3, 0, 2, 1, 5, 0, 3, 0, 3, 1, 0, 5, 3, 3, 2, 3, 0, 1, 3, 4, 2, 0, 4, 4, 0, 0, 5, 2, 0, 2, 4, 1, 0, 5, 3, 5, 3, 0, 4, 1, 1, 4, 2, 1, 1, 0, 1, 1, 2, 1, 2, 0, 1, 5, 2, 5, 0, 3, 2, 5, 2, 1, 5, 0, 0, 1, 2, 4, 0, 1, 0, 2, 4, 5, 3, 4, 5, 5, 3, 1, 0, 4, 0, 1, 1, 3, 2, 2, 1, 2, 2, 0, 2, 0, 1, 1, 5, 0, 5, 0, 5, 2, 1, 0, 4, 4, 4, 1, 0, 5, 2, 5, 0, 1, 4, 2, 4, 2, 1, 4, 2, 2, 5, 2, 2, 1, 4, 5, 3, 0, 4, 0, 2, 3, 3, 2, 1, 1, 4, 2, 0, 3, 3, 2, 5, 4, 3, 0, 3, 5, 0, 1, 5, 5, 5, 4, 5, 4, 3, 2, 2, 3, 1, 2, 3, 1, 1, 4, 1, 1, 2, 2, 4, 5, 0, 1, 1, 2, 1, 3, 5, 5, 2, 5, 1, 2, 4, 5, 2, 3, 5, 0, 5, 5, 5, 0, 2, 3, 5, 4, 4, 2, 1, 5, 4, 4, 5, 0, 1, 5, 2, 3, 2, 4, 5, 5, 0, 5, 1, 1, 4, 0, 1, 1, 3, 0, 5, 0, 4, 4, 5, 2, 4, 5, 5, 4, 3, 2, 2, 4, 0, 3, 3, 5, 1, 1, 4, 5, 5, 4, 4, 5, 3, 3, 3, 5, 4, 3, 0, 4, 3, 3, 1, 5, 1, 5, 4, 4, 5, 1, 2, 0, 4, 0, 5, 2, 1, 3, 2, 4, 3, 5, 4, 1, 0, 1, 3, 3, 0, 3, 0, 0, 3, 1, 0, 5, 4, 2, 4, 3, 3, 3, 3, 3, 3, 2, 0, 1, 0, 2, 2, 3, 3, 2, 3, 0, 4, 1, 3, 0, 1, 2, 3, 4, 2, 3, 4, 3, 1, 0, 5, 2, 4, 2, 5, 1, 5, 1, 2, 0, 1, 4, 2, 4, 0, 1, 3, 3, 3, 4, 0, 4, 0, 5, 1, 5, 3, 1, 3, 3, 5, 3, 2, 1, 3, 1, 1, 0, 2, 3, 5, 4, 5, 0, 1, 2, 5, 3, 5, 4, 2, 0, 0, 1, 2, 4, 5, 0, 0, 3, 0, 5, 4, 1, 2, 1, 4, 3, 4, 2, 3, 3, 1, 5, 4, 5, 0, 5, 1, 1, 1, 3, 5, 5, 4, 2, 4, 1, 3, 3, 0, 1, 3, 2, 1, 1, 5, 3, 0, 5, 3, 0, 5, 2, 5, 1, 2, 1, 2, 1, 4, 2, 3, 1, 2, 1, 5, 3, 2, 5, 1, 5, 0, 1, 2, 0, 5, 4, 0, 2, 3, 0, 4, 3, 0, 1, 3, 1, 5, 2, 3, 2, 0, 0, 1, 5, 0, 3, 2, 4, 5, 1, 5, 3, 2, 1, 0, 5, 3, 4, 0, 1, 0, 2, 1, 4, 5, 0, 2, 0, 0, 3, 3, 4, 5, 4, 0, 4, 2, 3, 5, 5, 4, 3, 2, 3, 1, 4, 1, 2, 5, 1, 5, 4, 5, 3, 0, 1, 5, 4, 0, 3, 2, 1, 5, 3, 5, 0, 1, 5, 0, 0, 5, 2, 0, 0, 4, 4, 2, 4, 3, 2, 3, 1, 1, 5, 3, 4, 0, 5, 0, 5, 3, 2, 1, 1, 5, 5, 3, 5, 3, 1, 3, 5, 2, 5, 4, 5, 0, 0, 1, 3, 1, 3, 5, 2, 3, 2, 1, 1, 5, 2, 1, 4, 2, 5, 2, 3, 0, 2, 1, 0, 4, 3, 4, 4, 5, 1, 2, 0, 3, 4, 4, 2, 0, 3, 1, 2, 4, 1, 0, 0, 5, 3, 3, 1, 1, 0, 2, 0, 3, 4, 5, 2, 2, 1, 0, 2, 1, 1, 4, 2, 1, 2, 0, 1, 2, 2, 5, 0, 4, 3, 3, 1, 0, 3, 4, 0, 3, 4, 0, 2, 0, 2, 0, 4, 5, 5, 5, 2, 2, 3, 5, 3, 3, 5, 1, 2, 4, 1, 5, 3, 5, 5, 4, 5, 0, 1, 5, 4, 5, 4, 0, 1, 2, 3, 4, 5, 5, 1, 0, 3, 0, 2, 3, 5, 4, 4, 5, 2, 2, 4, 0, 5, 1, 1, 1, 1, 3, 4, 2, 4, 2, 0, 5, 1, 2, 5, 5, 4, 0, 2, 2, 3, 2, 4, 5, 4, 0, 3, 5, 4, 1, 2, 4, 1, 3, 2, 3, 3, 3, 4, 1, 2, 4, 0, 5, 0, 1, 5, 1, 5, 4, 5, 1, 3, 0, 2, 3, 1, 0, 1, 5, 1, 0, 3, 5, 5, 2, 2, 3, 1, 2, 1, 2, 2, 0, 4, 0, 1, 1, 1, 0, 4, 0, 3, 2, 1, 0, 1, 2, 4, 1, 2, 2, 5, 5, 0, 1, 3, 3, 5, 4, 5, 2, 1, 3, 4, 1, 0, 5, 2, 1, 5, 0, 3, 4, 1, 4, 4, 5, 5, 1, 5, 2, 3, 4, 1, 5, 2, 5, 3, 1, 1, 1, 5, 1, 5, 4, 3, 3, 2, 2, 4, 3, 2, 3, 2, 5, 2, 2, 0, 1, 0, 2, 2, 4, 4, 0, 4, 1, 0, 4, 5, 4, 1, 4, 5, 5, 3, 0, 0, 4, 2, 4, 3, 0, 2, 1, 2, 2, 0, 2, 3, 0, 2, 1, 3, 5, 4, 3, 0, 5, 0, 0, 0, 3, 3, 5, 2, 2, 3, 3, 5, 5, 0, 3, 0, 5, 3, 3, 2, 2, 1, 1, 0, 1, 4, 4, 1, 1, 4, 4, 0, 1, 5, 0, 5, 4, 4, 5, 0, 3, 0, 2, 5, 2, 2, 1, 3, 3, 3, 0, 5, 4, 0, 1, 2, 5, 2, 5, 2, 2, 5, 5, 1, 3, 2, 4, 0, 5, 4, 5, 3, 5, 3, 1, 4, 5, 3, 5, 0, 4, 3, 5, 2, 3, 2, 3, 5, 5, 4, 2, 3, 1, 3, 3, 4, 2, 3, 5, 5, 2, 2, 2, 0, 0, 2, 1, 0, 2, 5, 2, 5, 1, 2, 3, 3, 3, 3, 5, 5, 2, 5, 1, 5, 5, 2, 0, 3, 5, 0, 2, 2, 3, 3, 0, 3, 3, 2, 3, 2, 5, 4, 1, 1, 5, 1, 5, 2, 1, 1, 2, 0, 1, 0, 3, 4, 1, 4, 4, 2, 1, 3, 2, 0, 3, 2, 3, 0, 5, 4, 3, 2, 5, 0, 5, 5, 5, 3, 0, 0, 5, 2, 1, 0, 5, 4, 2, 4, 2, 2, 4, 0, 0, 5, 4, 3, 4, 2, 0, 0, 2, 5, 0, 0, 1, 4, 5, 4, 5, 4, 4, 2, 4, 5, 3, 3, 0, 4, 5, 1, 2, 1, 2, 5, 0, 3, 5, 1, 3, 0, 0, 0, 4, 5, 1, 0, 0, 1, 3, 4, 1, 3, 0, 4, 2, 1, 3, 2, 2, 2, 0, 3, 1, 5, 4, 3, 0, 2, 0, 5, 3, 4, 4, 3, 2, 5, 3, 4, 4, 3, 5, 2, 2, 2, 4, 5, 3, 4, 0, 1, 1, 3, 2, 4, 1, 0, 4, 2, 2, 5, 0, 5, 0, 4, 0, 2, 5, 5, 4, 5, 4, 4, 2, 5, 5, 3, 2, 3, 2, 0, 3, 5, 1, 2, 5, 1, 2, 2, 2, 5, 0, 1, 1, 1, 3, 2, 4, 2, 2, 5, 1, 5, 3, 0, 4, 0, 0, 1, 5, 2, 1, 3, 2, 0, 0, 2, 4, 0, 1, 3, 5, 5, 2, 4, 1, 1, 0, 4, 0, 3, 3, 5, 0, 2, 5, 1, 4, 3, 2, 0, 4, 4, 4, 0, 3, 5, 4, 0, 1, 5, 2, 5, 5, 3, 1, 2, 3, 4, 3, 2, 3, 4, 1, 2, 5, 4, 2, 1, 2, 0, 1, 0, 4, 2, 0, 2, 1, 3, 1, 2, 5, 1, 3, 2, 5, 3, 3, 1, 3, 4, 4, 4, 2, 3, 2, 1, 0, 1, 1, 3, 1, 5, 4, 2, 2, 3, 5, 3, 2, 0, 0, 3, 5, 1, 5, 2, 4, 3, 3, 4, 3, 1, 3, 0, 3, 0, 1, 0, 5, 1, 2, 5, 3, 2, 1, 3, 1, 4, 3, 4, 4, 5, 2, 5, 1, 1, 1, 3, 4, 1, 4, 1, 0, 0, 2, 3, 4, 3, 4, 2, 4, 0, 5, 0, 4, 5, 3, 4, 5, 5, 1, 2, 1, 5, 4, 0, 5, 1, 2, 4, 1, 4, 2, 1, 2, 2, 4, 3, 0, 5, 0, 4, 4, 5, 2, 4, 0, 2, 2, 3, 3, 1, 3, 0, 5, 1, 0, 2, 1, 5, 1, 5, 0, 3, 2, 1, 3, 5, 0, 3, 5, 5, 4, 4, 4, 4, 4, 1, 4, 4, 4, 2, 2, 5, 5, 1, 5, 1, 0, 4, 0, 5, 5, 0, 1, 0, 4, 2, 0, 5, 2, 0, 2, 1, 5, 2, 0, 4, 1, 1, 2, 0, 0, 1, 1, 2, 3, 4, 1, 0, 2, 1, 2, 0, 1, 5, 3, 4, 3, 4, 0, 4, 2, 5, 0, 0, 0, 4, 3, 2, 3, 5, 1, 5, 1, 3, 4, 5, 3, 1, 1, 3, 3, 2, 0, 0, 4, 1, 3, 1, 2, 4, 0, 2, 5, 0, 4, 1, 0, 1, 0, 1, 3, 4, 0, 1, 1, 0, 1, 4, 0, 5, 1, 5, 5, 4, 4, 4, 0, 3, 1, 4, 2, 1, 4, 3, 3, 5, 0, 5, 5, 0, 4, 2, 0, 1, 3, 2, 5, 4, 3, 2, 0, 3, 4, 0, 5, 5, 1, 0, 5, 4, 5, 4, 4, 4, 5, 0, 4, 5, 3, 0, 1, 5, 3, 4, 0, 0, 2, 5, 0, 5, 0, 2, 4, 4, 2, 2, 1, 0, 2, 1, 0, 3, 0, 2, 2, 1, 1, 1, 1, 1, 5, 2, 0, 3, 1, 5, 3, 2, 3, 3, 4, 5, 0, 1, 3, 3, 2, 5, 3, 3, 3, 0, 2, 3, 3, 3, 5, 3, 2, 3, 2, 0, 4, 5, 3, 5, 3, 0, 2, 0, 1, 1, 1, 5, 1, 2, 3, 1, 2, 2, 1, 4, 3, 2, 4, 2, 5, 3, 3, 1, 0, 4, 1, 1, 1, 4, 4, 5, 4, 2, 5, 5, 2, 1, 5, 4, 1, 5, 0, 1, 4, 0, 3, 4, 5, 2, 5, 3, 0, 5, 4, 5, 2, 5, 3, 0, 3, 5, 3, 4, 5, 5, 3, 3, 5, 5, 3, 1, 1, 5, 2, 2, 1, 0, 2, 3, 1, 0, 0, 3, 1, 1, 1, 4, 0, 2, 4, 0, 2, 0, 2, 4, 5, 2, 3, 5, 5, 2, 0, 1, 3, 2, 4, 1, 3, 0, 1, 3, 4, 0, 2, 2, 4, 1, 0, 2, 5, 1, 2, 5, 4, 4, 2, 1, 2, 3, 5, 5, 3, 3, 4, 1, 5, 0, 4, 2, 5, 1, 3, 4, 1, 4, 0, 1, 0, 5, 5, 4, 2, 4, 1, 2, 4, 3, 1, 0, 0, 2, 4, 3, 3, 0, 1, 4, 0, 5, 3, 5, 0, 3, 3, 2, 4, 1, 1, 1, 4, 5, 1, 1, 1, 1, 2, 4, 1, 3, 5, 3, 4, 4, 0, 3, 0, 5, 1, 0, 2, 4, 5, 0, 0, 1, 0, 0, 3, 0, 0, 3, 2, 2, 4, 0, 2, 1, 0, 0, 5, 3, 1, 2, 5, 1, 0, 3, 3, 4, 3, 4, 4, 2, 3, 4, 4, 1, 1, 3, 4, 0, 3, 0, 3, 4, 3, 3, 2, 0, 0, 4, 2, 2, 3, 0, 2, 2, 5, 5, 2, 4, 0, 5, 2, 5, 3, 5, 1, 0, 1, 4, 4, 4, 5, 3, 0, 4, 2, 4, 1, 0, 5, 1, 4, 0, 2, 0, 0, 1, 5, 3, 4, 5, 2, 5, 0, 4, 3, 1, 5, 4, 5, 5, 0, 4, 5, 2, 5, 4, 3, 2, 4, 1, 2, 3, 0, 0, 5, 5, 5, 1, 0, 5, 2, 3, 2, 5, 5, 3, 0, 2, 3, 1, 0, 1, 0, 2, 2, 1, 3, 3, 4, 4, 1, 4, 3, 5, 2, 4, 1, 5, 2, 5, 5, 0, 0, 3, 2, 0, 3, 0, 3, 3, 4, 3, 0, 1, 3, 2, 4, 2, 2, 4, 3, 2, 4, 4, 3, 4, 5, 3, 2, 2, 1, 5, 2, 0, 3, 4, 1, 0, 4, 0, 0, 2, 3, 0, 2, 2, 1, 0, 3, 3, 2, 2, 5, 5, 1, 0, 4, 4, 1, 1, 0, 5, 1, 3, 5, 0, 5, 2, 5, 1, 3, 2, 0, 2, 4, 5, 5, 2, 4, 4, 2, 0, 3, 4, 3, 1, 1, 2, 1, 0, 1, 2, 5, 4, 1, 4, 5, 0, 5, 0, 5, 3, 0, 5, 5, 4, 3, 1, 1, 5, 0, 5, 2, 4, 4, 2, 4, 3, 3, 0, 4, 4, 1, 2, 0, 1, 1, 3, 2, 3, 0, 2, 2, 1, 3, 2, 0, 5, 5, 3, 3, 4, 4, 1, 5, 3, 5, 4, 4, 3, 0, 4, 3, 2, 5, 4, 1, 2, 3, 5, 1, 3, 5, 3, 3, 1, 1, 4, 5, 0, 3, 2, 4, 4, 4, 2, 5, 1, 2, 5, 0, 3, 5, 4, 3, 5, 2, 0, 0, 4, 1, 3, 1, 2, 0, 2, 2, 4, 5, 2, 0, 4, 1, 0, 4, 1, 3, 1, 5, 4, 4, 1, 1, 0, 2, 4, 2, 5, 3, 5, 1, 0, 0, 1, 5, 3, 5, 0, 3, 3, 2, 3, 2, 1, 0, 3, 2, 5, 5, 1, 0, 3, 5, 0, 3, 5, 4, 5, 4, 5, 2, 1, 1, 0, 3, 0, 1, 0, 1, 2, 2, 1, 2, 1, 4, 3, 5, 5, 0, 3, 3, 0, 1, 5, 2, 3, 0, 4, 0, 5, 1, 1, 0, 1, 1, 0, 1, 2, 0, 4, 5, 3, 4, 0, 0, 4, 0, 1, 0, 3, 0, 4, 2, 1, 5, 5, 5, 5, 5, 4, 0, 0, 0, 2, 4, 5, 4, 0, 3, 3, 5, 1, 4, 3, 0, 4, 1, 4, 2, 1, 2, 0, 4, 5, 3, 5, 2, 0, 1, 3, 3, 2, 3, 1, 4, 3, 4, 5, 1, 2, 4, 4, 2, 0, 5, 0, 5, 0, 4, 5, 0, 5, 2, 2, 3, 4, 1, 3, 4, 3, 5, 4, 5, 2, 1, 3, 1, 3, 4, 2, 4, 4, 0, 1, 3, 0, 5, 3, 2, 2, 3, 0, 0, 2, 3, 5, 1, 4, 1, 3, 4, 3, 0, 3, 1, 0, 3, 2, 5, 0, 4, 4, 1, 2, 2, 0, 4, 2, 0, 5, 2, 5, 0, 0, 5, 4, 4, 5, 0, 0, 4, 2, 0, 5, 1, 0, 1, 0, 0, 3, 4, 4, 5, 5, 4, 1, 1, 2, 1, 5, 3, 2, 0, 5, 4, 2, 3, 1, 1, 3, 2, 3, 1, 2, 3, 3, 2, 1, 3, 1, 5, 2, 5, 4, 5, 5, 3, 2, 5, 4, 3, 4, 5, 5, 3, 2, 4, 4, 2, 1, 2, 5, 4, 4, 1, 0, 1, 0, 5, 2, 2, 2, 4, 4, 0, 3, 4, 3, 0, 4, 1, 1, 0, 4, 3, 0, 0, 3, 5, 3, 3, 4, 3, 1, 4, 1, 3, 3, 2, 2, 5, 3, 5, 1, 0, 2, 1, 2, 4, 1, 5, 3, 5, 4, 2, 2, 2, 3, 4, 3, 5, 2, 1, 4, 4, 2, 3, 1, 4, 3, 4, 5, 1, 3, 3, 3, 3, 2, 0, 2, 5, 3, 1, 5, 2, 4, 0, 2, 0, 5, 2, 0, 0, 0, 1, 2, 1, 2, 3, 3, 3, 5, 2, 1, 4, 5, 3, 5, 1, 4, 3, 2, 5, 5, 1, 1, 5, 1, 1, 2, 1, 4, 2, 3, 2, 5, 2, 1, 4, 3, 4, 1, 0, 5, 1, 3, 0, 0, 2, 1, 1, 0, 2, 5, 4, 3, 1, 5, 2, 2, 3, 3, 0, 2, 1, 4, 5, 1, 2, 2, 2, 2, 2, 2, 4, 4, 1, 1, 3, 5, 2, 5, 1, 3, 3, 0, 0, 5, 0, 1, 0, 2, 2, 5, 2, 1, 1, 0, 2, 4, 0, 4, 3, 3, 4, 3, 2, 4, 1, 2, 3, 1, 0, 5, 1, 5, 1, 4, 2, 2, 2, 0, 3, 1, 0, 0, 0, 0, 2, 0, 0, 2, 0, 3, 3, 4, 2, 0, 4, 4, 4, 0, 1, 1, 1, 0, 5, 5, 1, 2, 2, 3, 3, 2, 4, 4, 3, 3, 2, 2, 4, 4, 5, 4, 5, 3, 5, 1, 5, 3, 0, 4, 4, 0, 2, 2, 0, 0, 0, 1, 3, 3, 1, 4, 3, 1, 1, 0, 4, 4, 3, 0, 0, 1, 3, 1, 0, 1, 1, 3, 0, 1, 4, 1, 1, 2, 1, 1, 1, 5, 5, 5, 3, 2, 3, 4, 1, 5, 0, 4, 4, 2, 4, 4, 3, 5, 3, 1, 2, 4, 3, 1, 3, 3, 4, 4, 2, 3, 1, 4, 5, 5, 2, 0, 2, 0, 4, 4, 4, 4, 4, 2, 0, 3, 4, 3, 3, 1, 3, 5, 1, 0, 1, 1, 2, 2, 1, 3, 2, 0, 5, 3, 5, 3, 5, 3, 4, 2, 3, 1, 4, 1, 1, 2, 0, 3, 5, 1, 4, 5, 5, 0, 4, 1, 3, 4, 4, 0, 5, 3, 4, 2, 3, 0, 5, 5, 2, 2, 2, 3, 3, 4, 0, 1, 3, 4, 2, 4, 2, 3, 1, 1, 3, 5, 1, 2, 3, 0, 4, 0, 4, 5, 3, 2, 3, 3, 1, 4, 2, 3, 5, 3, 5, 4, 5, 0, 2, 3, 5, 5, 3, 5, 2, 2, 1, 5, 2, 4, 4, 5, 1, 0, 1, 0, 2, 1, 4, 1, 3, 0, 2, 5, 0, 0, 0, 3, 0, 0, 3, 5, 4, 0, 0, 3, 2, 3, 0, 0, 2, 4, 1, 5, 5, 3, 5, 1, 3, 1, 1, 2, 0, 1, 3, 4, 1, 2, 3, 4, 0, 2, 2, 4, 3, 5, 5, 5, 0, 4, 3, 3, 5, 4, 3, 4, 2, 1, 3, 2, 1, 3, 2, 2, 0, 4, 5, 3, 2, 1, 0, 5, 2, 2, 2, 4, 0, 2, 0, 3, 1, 4, 3, 5, 4, 2, 5, 2, 2, 2, 2, 3, 2, 5, 3, 5, 0, 2, 1, 5, 0, 3, 0, 2, 3, 1, 0, 3, 1, 4, 1, 3, 5, 5, 4, 1, 2, 0, 1, 4, 3, 5, 5, 0, 5, 3, 5, 0, 2, 5, 5, 0, 3, 1, 3, 2, 5, 5, 4, 4, 3, 4, 2, 4, 0, 2, 0, 1, 2, 0, 1, 1, 5, 1, 1, 5, 4, 0, 0, 1, 2, 0, 0, 5, 3, 2, 5, 3, 3, 0, 3, 4, 3, 1, 2, 0, 2, 4, 5, 4, 4, 2, 4, 1, 2, 4, 0, 4, 4, 2, 4, 5, 4, 3, 0, 1, 5, 4, 4, 2, 1, 4, 4, 5, 2, 3, 5, 2, 0, 1, 2, 0, 2, 5, 3, 2, 3, 0, 2, 3, 1, 1, 4, 0, 5, 0, 4, 5, 5, 5, 5, 0, 5, 0, 0, 2, 2, 1, 4, 3, 0, 0, 0, 3, 2, 5, 3, 0, 2, 5, 5, 4, 3, 0, 1, 0, 3, 3, 5, 0, 5, 0, 3, 2, 5, 2, 0, 3, 2, 2, 1, 3, 1, 4, 2, 4, 1, 2, 3, 0, 3, 5, 2, 2, 0, 0, 2, 5, 0, 5, 4, 0, 5, 2, 3, 4, 4, 1, 4, 2, 1, 4, 1, 0, 1, 4, 0, 4, 2, 0, 3, 3, 5, 0, 2, 2, 2, 0, 5, 3, 4, 5, 4, 0, 2, 5, 1, 0, 2, 5, 5, 0, 5, 1, 3, 0, 1, 0, 2, 0, 3, 0, 1, 1, 2, 4, 0, 4, 5, 0, 0, 4, 4, 2, 3, 1, 0, 3, 0, 5, 3, 3, 4, 0, 3, 2, 5, 3, 3, 4, 0, 2, 2, 0, 5, 0, 3, 3, 2, 0, 1, 4, 0, 1, 4, 4, 5, 1, 4, 2, 0, 5, 3, 5, 4, 2, 2, 2, 5, 1, 4, 5, 5, 3, 2, 5, 4, 1, 3, 0, 1, 2, 0, 2, 2, 4, 2, 3, 4, 0, 2, 2, 4, 3, 5, 0, 1, 5, 0, 3, 4, 2, 0, 5, 1, 5, 5, 1, 0, 5, 2, 0, 2, 4, 2, 2, 0, 4, 5, 4, 0, 3, 3, 0, 5, 0, 0, 5, 3, 2, 0, 1, 4, 2, 4, 3, 4, 2, 2, 3, 5, 1, 5, 0, 2, 2, 1, 3, 3, 3, 4, 0, 0, 2, 5, 5, 0, 1, 5, 3, 4, 0, 4, 1, 0, 2, 4, 3, 5, 4, 0, 4, 5, 0, 1, 1, 4, 5, 0, 5, 1, 0, 4, 1, 4, 3, 1, 2, 3, 2, 3, 0, 4, 2, 3, 1, 1, 3, 2, 0, 1, 5, 3, 3, 2, 4, 4, 3, 2, 1, 1, 2, 1, 4, 5, 3, 3, 3, 5, 0, 5, 2, 4, 2, 3, 1, 0, 2, 5, 1, 3, 4, 0, 2, 3, 2, 4, 1, 0, 4, 0, 1, 5, 0, 5, 3, 0, 2, 5, 5, 4, 4, 2, 3, 4, 5, 0, 4, 0, 5, 3, 2, 4, 4, 3, 3, 5, 1, 1, 5, 5, 4, 5, 1, 1, 2, 1, 1, 4, 2, 2, 2, 4, 5, 4, 5, 5, 4, 0, 4, 3, 4, 5, 3, 2, 4, 3, 0, 4, 1, 3, 3, 2, 5, 2, 2, 5, 2, 3, 5, 0, 1, 5, 0, 3, 4, 5, 1, 3, 2, 5, 1, 3, 5, 1, 4, 4, 4, 4, 0, 2, 5, 3, 5, 1, 5, 1, 5, 3, 5, 2, 3, 3, 1, 1, 2, 2, 2, 3, 1, 2, 4, 2, 1, 2, 3, 5, 3, 5, 3, 0, 3, 3, 4, 2, 0, 4, 4, 0, 2, 4, 3, 5, 3, 3, 4, 3, 5, 5, 0, 5, 3, 5, 0, 4, 5, 4, 0, 0, 3, 0, 1, 3, 5, 1, 3, 4, 2, 1, 5, 3, 5, 0, 1, 1, 1, 4, 4, 3, 2, 1, 0, 1, 2, 0, 5, 5, 5, 0, 2, 5, 1, 3, 0, 3, 5, 3, 1, 3, 2, 2, 1, 2, 0, 1, 4, 0, 5, 0, 0, 5, 3, 1, 0, 3, 0, 2, 5, 5, 4, 1, 2, 4, 1, 2, 5, 3, 1, 0, 3, 0, 1, 3, 3, 1, 4, 3, 3, 1, 5, 2, 4, 4, 5, 1, 5, 2, 2, 0, 0, 0, 3, 4, 4, 0, 0, 0, 5, 0, 0, 4, 3, 1, 2, 2, 3, 0, 0, 0, 5, 4, 5, 3, 5, 3, 2, 0, 1, 3, 4, 2, 2, 3, 2, 0, 4, 2, 4, 3, 2, 0, 1, 2, 1, 1, 1, 4, 2, 0, 4, 4, 3, 3, 1, 4, 1, 0, 5, 3, 4, 3, 2, 2, 4, 0, 5, 4, 1, 1, 0, 2, 2, 5, 3, 1, 0, 4, 5, 2, 2, 2, 1, 1, 5, 3, 5, 4, 1, 0, 2, 3, 4, 1, 2, 5, 0, 1, 0, 2, 0, 0, 5, 3, 1, 2, 4, 2, 1, 5, 3, 5, 0, 4, 1, 1, 1, 2, 1, 4, 3, 3, 5, 5, 1, 5, 4, 2, 5, 3, 1, 5, 3, 5, 3, 0, 4, 0, 2, 0, 5, 0, 5, 0, 3, 1, 4, 0, 0, 3, 5, 4, 5, 0, 1, 5, 1, 4, 3, 1, 5, 1, 1, 3, 1, 4, 0, 4, 0, 4, 2, 4, 0, 5, 1, 2, 4, 5, 5, 2, 2, 3, 5, 0, 5, 0, 3, 1, 4, 1, 2, 4, 2, 5, 1, 5, 3, 3, 1, 0, 4, 3, 0, 0, 4, 2, 5, 2, 4, 5, 5, 2, 4, 4, 0, 1, 3, 2, 1, 2, 4, 2, 5, 3, 2, 2, 1, 4, 4, 4, 2, 1, 2, 0, 2, 3, 1, 4, 3, 0, 0, 4, 4, 0, 4, 5, 3, 3, 5, 3, 0, 2, 1, 5, 2, 4, 5, 4, 3, 3, 0, 2, 3, 4, 5, 5, 3, 4, 0, 4, 3, 1, 2, 0, 3, 4, 1, 0, 3, 0, 0, 2, 3, 1, 2, 5, 1, 1, 0, 4, 0, 0, 3, 2, 0, 0, 4, 0, 3, 3, 0, 2, 5, 0, 2, 4, 2, 3, 3, 5, 2, 5, 5, 1, 3, 2, 5, 3, 1, 4, 3, 4, 5, 3, 0, 5, 5, 5, 5, 0, 0, 3, 4, 3, 5, 5, 3, 4, 3, 2, 5, 5, 5, 4, 0, 4, 5, 5, 0, 3, 1, 1, 1, 3, 4, 1, 5, 1, 5, 3, 3, 3, 1, 0, 1, 3, 1, 1, 2, 2, 4, 5, 0, 5, 5, 5, 3, 3, 5, 3, 1, 1, 5, 5, 1, 1, 1, 4, 5, 4, 4, 3, 0, 2, 1, 0, 1, 0, 0, 5, 0, 2, 5, 5, 4, 4, 3, 3, 2, 2, 5, 2, 0, 2, 0, 2, 3, 5, 3, 2, 3, 5, 1, 4, 3, 0, 3, 2, 0, 2, 0, 4, 4, 2, 1, 2, 0, 5, 5, 4, 5, 0, 4, 4, 5, 3, 0, 5, 4, 1, 3, 0, 0, 4, 0, 1, 1, 3, 2, 4, 2, 5, 1, 4, 4, 1, 0, 2, 5, 2, 1, 5, 4, 3, 0, 5, 2, 4, 2, 2, 3, 5, 0, 3, 1, 0, 5, 0, 4, 4, 2, 0, 0, 2, 5, 5, 3, 3, 5, 3, 2, 5, 5, 1, 0, 5, 2, 3, 0, 4, 2, 0, 0, 1, 4, 1, 1, 0, 2, 2, 4, 3, 3, 2, 1, 2, 1, 5, 2, 2, 4, 1, 0, 4, 2, 5, 2, 4, 2, 5, 4, 1, 5, 2, 2, 4, 1, 2, 4, 5, 3, 5, 2, 5, 2, 3, 4, 3, 5, 4, 3, 0, 5, 0, 4, 5, 2, 4, 4, 0, 1, 1, 5, 5, 5, 0, 1, 0, 5, 3, 3, 2, 1, 1, 3, 4, 4, 2, 1, 5, 1, 1, 3, 5, 3, 4, 2, 1, 0, 1, 4, 3, 0, 4, 4, 1, 2, 0, 3, 2, 5, 1, 3, 1, 4, 5, 2, 4, 1, 0, 4, 3, 2, 2, 2, 1, 4, 2, 1, 5, 3, 5, 5, 3, 0, 3, 4, 2, 2, 0, 3, 3, 4, 3, 3, 2, 5, 5, 0, 1, 5, 3, 3, 5, 1, 3, 5, 5, 5, 2, 5, 2, 0, 3, 5, 5, 2, 0, 3, 1, 5, 3, 4, 0, 2, 2, 4, 4, 3, 0, 1, 0, 5, 1, 3, 0, 5, 5, 2, 3, 2, 4, 1, 1, 2, 2, 5, 4, 1, 4, 5, 3, 2, 4, 1, 2, 0, 1, 2, 1, 0, 5, 3, 1, 3, 1, 3, 1, 2, 4, 4, 5, 3, 5, 1, 0, 3, 2, 0, 3, 3, 1, 3, 2, 4, 4, 1, 1, 2, 2, 1, 0, 5, 4, 4, 3, 0, 0, 3, 1, 3, 4, 3, 5, 4, 1, 0, 1, 3, 0, 4, 3, 3, 1, 1, 5, 1, 0, 4, 5, 4, 2, 0, 4, 5, 3, 3, 1, 4, 3, 0, 3, 5, 0, 2, 0, 3, 2, 1, 0, 1, 0, 3, 0, 0, 2, 0, 5, 5, 0, 3, 4, 3, 5, 4, 3, 5, 3, 5, 4, 5, 5, 3, 1, 2, 5, 3, 5, 5, 1, 4, 1, 1, 3, 2, 4, 5, 0, 3, 0, 5, 3, 3, 2, 5, 1, 4, 5, 5, 4, 0, 3, 5, 0, 0, 4, 0, 3, 4, 0, 1, 5, 2, 2, 5, 5, 2, 3, 3, 5, 2, 2, 4, 3, 4, 4, 3, 4, 3, 5, 1, 0, 5, 3, 5, 2, 3, 1, 4, 0, 1, 3, 3, 4, 5, 5, 2, 3, 1, 5, 5, 1, 2, 0, 2, 3, 4, 4, 0, 1, 1, 3, 2, 4, 2, 5, 4, 2, 0, 1, 1, 4, 4, 4, 0, 3, 4, 3, 0, 2, 3, 2, 0, 1, 0, 5, 5, 4, 5, 3, 4, 4, 0, 5, 2, 4, 3, 4, 5, 4, 3, 4, 2, 3, 2, 5, 3, 3, 5, 1, 4, 2, 3, 0, 1, 2, 0, 3, 5, 1, 3, 0, 1, 5, 2, 2, 1, 0, 1, 0, 4, 4, 5, 1, 2, 5, 2, 1, 4, 4, 5, 0, 3, 3, 5, 1, 4, 3, 0, 3, 3, 2, 3, 2, 1, 3, 0, 0, 5, 1, 5, 3, 0, 4, 5, 3, 4, 4, 5, 4, 3, 4, 2, 1, 0, 2, 5, 2, 2, 5, 3, 2, 5, 4, 2, 1, 1, 3, 1, 2, 3, 4, 0, 5, 4, 5, 2, 1, 1, 4, 5, 4, 2, 0, 2, 4, 2, 3, 0, 2, 0, 0, 4, 0, 3, 3, 1, 1, 5, 5, 1, 2, 0, 1, 5, 2, 4, 3, 3, 5, 4, 3, 5, 3, 4, 3, 0, 0, 2, 4, 4, 2, 1, 0, 3, 3, 2, 3, 2, 5, 4, 3, 5, 4, 1, 3, 4, 4, 4, 3, 4, 0, 4, 2, 2, 1, 3, 2, 0, 0, 4, 0, 2, 5, 5, 3, 4, 0, 3, 5, 3, 3, 1, 2, 1, 2, 4, 1, 5, 4, 3, 5, 1, 3, 3, 0, 4, 5, 2, 4, 2, 4, 4, 0, 4, 0, 0, 2, 0, 2, 1, 5, 1, 3, 3, 1, 5, 3, 1, 0, 3, 1, 2, 3, 0, 0, 1, 5, 5, 5, 3, 4, 3, 3, 0, 0, 0, 4, 0, 3, 5, 5, 3, 4, 5, 1, 2, 3, 3, 2, 5, 3, 2, 4, 3, 5, 2, 4, 4, 3, 0, 3, 3, 4, 4, 2, 0, 3, 1, 4, 2, 4, 0, 5, 0, 3, 4, 2, 2, 2, 5, 2, 4, 5, 3, 5, 1, 3, 1, 0, 3, 4, 0, 4, 5, 5, 3, 1, 3, 0, 0, 0, 1, 1, 4, 4, 2, 2, 1, 1, 5, 3, 3, 2, 2, 4, 5, 3, 5, 2, 4, 1, 3, 2, 0, 1, 4, 1, 5, 0, 0, 2, 3, 5, 4, 4, 2, 4, 1, 5, 2, 2, 1, 2, 1, 3, 4, 1, 4, 5, 0, 5, 0, 2, 0, 4, 5, 3, 3, 2, 0, 2, 0, 2, 2, 4, 5, 4, 2, 5, 5, 3, 3, 0, 3, 3, 1, 1, 4, 4, 0, 1, 0, 5, 2, 0, 3, 3, 5, 5, 5, 4, 1, 3, 4, 5, 2, 2, 3, 1, 2, 2, 1, 4, 3, 2, 0, 5, 3, 3, 2, 2, 5, 3, 2, 4, 0, 3, 5, 1, 4, 5, 3, 4, 2, 5, 1, 4, 4, 0, 1, 1, 1, 0, 1, 2, 3, 0, 3, 4, 0, 3, 3, 1, 2, 5, 3, 5, 2, 5, 0, 0, 2, 2, 1, 2, 3, 3, 1, 2, 1, 3, 0, 0, 3, 0, 0, 2, 2, 3, 5, 2, 1, 3, 1, 2, 5, 4, 0, 3, 2, 2, 5, 0, 5, 3, 2, 3, 0, 1, 0, 5, 3, 5, 2, 2, 3, 3, 4, 3, 2, 2, 1, 5, 0, 3, 0, 2, 2, 5, 3, 1, 5, 4, 0, 1, 3, 5, 2, 2, 3, 0, 1, 5, 2, 1, 0, 2, 3, 2, 4, 4, 1, 4, 0, 2, 4, 4, 0, 5, 4, 2, 4, 2, 4, 4, 4, 5, 5, 1, 2, 2, 2, 5, 4, 3, 0, 2, 1, 3, 0, 4, 2, 5, 5, 5, 4, 2, 0, 1, 4, 0, 1, 0, 2, 5, 3, 3, 1, 3, 4, 0, 4, 2, 2, 3, 3, 5, 2, 0, 5, 2, 1, 2, 2, 1, 1, 5, 2, 3, 1, 5, 0, 2, 1, 1, 0, 3, 2, 2, 1, 4, 5, 4, 3, 3, 2, 3, 0, 3, 3, 1, 1, 3, 5, 2, 2, 2, 5, 3, 0, 1, 2, 5, 2, 0, 4, 2, 2, 0, 2, 1, 5, 3, 1, 3, 2, 1, 4, 2, 1, 3, 0, 2, 0, 0, 5, 3, 4, 1, 4, 1, 2, 3, 4, 1, 2, 3, 3, 1, 1, 0, 1, 1, 0, 1, 2, 3, 5, 0, 2, 4, 4, 0, 3, 3, 2, 4, 5, 0, 0, 5, 0, 0, 1, 2, 5, 1, 3, 1, 5, 2, 3, 5, 1, 0, 4, 2, 1, 2, 1, 2, 5, 0, 1, 0, 2, 4, 5, 5, 3, 2, 4, 4, 3, 0, 5, 3, 0, 1, 2, 1, 5, 2, 4, 4, 0, 5, 3, 2, 4, 0, 1, 5, 0, 1, 3, 0, 4, 5, 3, 2, 2, 3, 5, 1, 0, 4, 4, 1, 3, 4, 2, 2, 4, 0, 4, 2, 3, 4, 1, 1, 4, 4, 3, 3, 3, 0, 1, 0, 2, 4, 0, 5, 3, 3, 1, 1, 3, 5, 5, 5, 1, 4, 1, 5, 2, 0, 5, 2, 0, 5, 0, 4, 3, 0, 2, 5, 2, 1, 0, 0, 1, 5, 5, 5, 0, 0, 1, 1, 0, 0, 1, 4, 0, 4, 5, 5, 2, 4, 5, 2, 3, 5, 2, 4, 3, 3, 1, 0, 0, 1, 1, 0, 5, 1, 0, 0, 0, 0, 1, 0, 1, 0, 5, 4, 3, 5, 3, 0, 4, 1, 3, 5, 0, 0, 5, 0, 4, 4, 4, 5, 2, 2, 3, 3, 3, 2, 4, 5, 2, 5, 2, 1, 1, 5, 3, 0, 5, 2, 5, 4, 0, 4, 0, 2, 0, 5, 4, 1, 5, 3, 2, 3, 3, 3, 5, 0, 2, 2, 3, 3, 4, 4, 5, 2, 2, 4, 0, 0, 0, 1, 1, 3, 5, 2, 5, 1, 2, 2, 4, 3, 1, 2, 3, 2, 5, 3, 4, 5, 5, 5, 0, 4, 3, 2, 3, 0, 2, 0, 2, 1, 5, 5, 2, 3, 2, 4, 4, 5, 1, 0, 4, 2, 1, 5, 2, 1, 1, 5, 5, 1, 3, 3, 0, 5, 4, 3, 3, 4, 2, 0, 1, 5, 5, 5, 2, 1, 3, 0, 5, 3, 4, 1, 1, 1, 5, 0, 4, 1, 1, 5, 3, 5, 0, 4, 2, 1, 4, 0, 3, 2, 5, 1, 5, 4, 3, 0, 0, 3, 3, 5, 2, 0, 3, 5, 4, 3, 2, 5, 1, 0, 0, 0, 0, 4, 5, 5, 0, 4, 0, 4, 2, 1, 0, 0, 2, 5, 2, 1, 4, 2, 3, 3, 4, 1, 3, 3, 4, 0, 5, 1, 4, 0, 0, 5, 4, 5, 0, 1, 3, 1, 0, 3, 0, 5, 5, 0, 2, 1, 5, 0, 5, 2, 3, 3, 1, 4, 1, 4, 1, 2, 3, 4, 3, 3, 4, 0, 0, 2, 0, 5, 2, 2, 5, 5, 5, 4, 4, 2, 2, 2, 5, 4, 1, 5, 1, 2, 3, 2, 2, 4, 0, 2, 0, 5, 5, 1, 0, 2, 4, 3, 1, 1, 5, 0, 2, 4, 2, 2, 0, 3, 2, 0, 4, 3, 4, 3, 5, 2, 0, 4, 4, 2, 0, 4, 4, 2, 0, 3, 2, 5, 3, 1, 0, 1, 4, 4, 2, 5, 4, 2, 1, 0, 4, 3, 0, 2, 4, 1, 3, 1, 2, 0, 2, 5, 1, 5, 4, 1, 4, 4, 5, 3, 0, 1, 0, 1, 3, 4, 0, 1, 1, 1, 1, 1, 2, 0, 0, 2, 3, 5, 5, 3, 5, 5, 4, 2, 5, 2, 0, 0, 4, 3, 0, 3, 2, 2, 4, 4, 3, 0, 2, 0, 4, 0, 5, 5, 1, 3, 3, 5, 4, 2, 1, 4, 3, 2, 4, 4, 1, 4, 2, 1, 4, 4, 5, 3, 2, 3, 2, 2, 5, 1, 4, 4, 2, 3, 3, 4, 4, 0, 2, 4, 0, 4, 0, 5, 5, 0, 2, 2, 1, 3, 1, 4, 4, 2, 2, 3, 4, 3, 0, 1, 3, 3, 4, 3, 2, 3, 0, 1, 5, 5, 2, 0, 5, 5, 4, 0, 5, 2, 4, 4, 1, 5, 0, 2, 2, 3, 0, 2, 5, 5, 0, 5, 0, 0, 4, 0, 4, 0, 0, 5, 1, 1, 5, 4, 5, 1, 0, 0, 0, 0, 2, 5, 0, 5, 1, 1, 2, 4, 2, 2, 5, 1, 3, 5, 1, 0, 1, 5, 1, 4, 4, 4, 3, 2, 3, 0, 2, 0, 5, 0, 2, 3, 1, 5, 2, 3, 1, 3, 1, 4, 0, 1, 0, 3, 5, 3, 1, 4, 1, 1, 1, 0, 0, 2, 3, 5, 3, 3, 1, 5, 0, 2, 5, 3, 2, 5, 5, 3, 2, 5, 0, 3, 4, 2, 4, 3, 4, 2, 3, 3, 3, 3, 3, 5, 0, 1, 2, 0, 0, 2, 5, 0, 3, 3, 2, 5, 0, 5, 0, 3, 2, 5, 0, 5, 1, 3, 3, 4, 0, 3, 4, 2, 3, 5, 3, 1, 0, 4, 4, 3, 1, 0, 4, 3, 3, 1, 3, 4, 4, 3, 4, 2, 2, 3, 1, 1, 4, 2, 5, 3, 2, 2, 1, 0, 5, 2, 1, 3, 0, 2, 4, 4, 4, 5, 4, 5, 4, 4, 1, 0, 3, 0, 1, 4, 2, 1, 2, 0, 0, 2, 3, 4, 0, 5, 1, 3, 1, 2, 4, 1, 5, 3, 5, 2, 0, 1, 0, 5, 1, 4, 2, 0, 4, 5, 2, 1, 1, 3, 5, 2, 5, 2, 1, 0, 2, 0, 2, 0, 4, 2, 3, 3, 4, 1, 2, 3, 1, 1, 4, 2, 5, 3, 4, 2, 5, 1, 5, 1, 0, 5, 0, 4, 4, 3, 1, 1, 4, 0, 5, 4, 0, 1, 2, 0, 4, 2, 0, 2, 2, 1, 2, 1, 5, 2, 5, 1, 5, 4, 4, 1, 2, 2, 3, 5, 5, 3, 3, 3, 5, 1, 4, 2, 1, 4, 2, 5, 3, 5, 1, 4, 3, 0, 1, 2, 1, 4, 3, 0, 0, 5, 1, 0, 0, 3, 3, 4, 1, 3, 4, 2, 4, 2, 0, 0, 3, 3, 3, 1, 1, 2, 5, 2, 3, 2, 1, 2, 3, 1, 5, 2, 4, 5, 5, 2, 1, 0, 3, 0, 1, 0, 3, 2, 1, 1, 1, 2, 5, 3, 2, 5, 3, 4, 3, 5, 5, 1, 0, 3, 0, 3, 4, 4, 4, 5, 0, 4, 4, 2, 3, 2, 0, 1, 0, 5, 5, 5, 2, 3, 5, 0, 4, 1, 4, 1, 3, 1, 2, 4, 3, 0, 2, 0, 5, 3, 3, 3, 4, 1, 1, 2, 2, 0, 2, 4, 4, 3, 3, 3, 5, 5, 3, 2, 1, 4, 4, 1, 0, 2, 2, 4, 5, 5, 5, 2, 1, 0, 3, 0, 0, 1, 0, 1, 2, 3, 0, 3, 5, 4, 0, 4, 2, 1, 1, 4, 0, 3, 0, 5, 4, 2, 3, 4, 4, 1, 2, 1, 5, 4, 0, 1, 0, 1, 3, 0, 4, 1, 3, 3, 0, 2, 1, 5, 1, 5, 1, 2, 4, 3, 3, 0, 1, 4, 1, 4, 1, 3, 2, 5, 4, 3, 5, 3, 2, 3, 2, 2, 3, 4, 1, 4, 4, 0, 4, 3, 2, 5, 5, 5, 4, 2, 3, 5, 5, 4, 2, 3, 1, 0, 2, 4, 2, 1, 2, 2, 1, 2, 5, 4, 0, 0, 5, 5, 0, 1, 3, 1, 4, 2, 5, 3, 5, 0, 4, 1, 2, 4, 1, 2, 2, 0, 0, 3, 2, 4, 4, 4, 0, 1, 1, 4, 5, 2, 4, 0, 2, 5, 0, 5, 1, 0, 0, 0, 3, 2, 4, 5, 1, 4, 5, 2, 0, 1, 5, 5, 1, 3, 4, 2, 4, 0, 2, 3, 5, 5, 4, 0, 3, 5, 0, 4, 2, 3, 4, 4, 0, 1, 1, 1, 1, 0, 2, 2, 4, 3, 0, 2, 0, 1, 0, 0, 4, 3, 5, 4, 1, 3, 3, 4, 3, 3, 5, 5, 1, 3, 4, 1, 3, 0, 0, 4, 2, 1, 0, 0, 5, 2, 2, 3, 2, 5, 2, 1, 3, 3, 0, 5, 1, 2, 3, 3, 4, 4, 5, 2, 2, 2, 2, 0, 4, 0, 2, 4, 2, 4, 3, 3, 1, 1, 3, 1, 3, 5, 5, 4, 5, 4, 1, 3, 4, 3, 1, 3, 5, 5, 2, 3, 2, 4, 2, 0, 3, 5, 5, 1, 4, 4, 4, 2, 3, 3, 5, 3, 4, 5, 2, 1, 4, 3, 4, 1, 5, 0, 4, 3, 5, 0, 3, 0, 5, 4, 2, 0, 0, 2, 2, 0, 2, 3, 5, 5, 4, 5, 2, 4, 2, 2, 2, 0, 3, 0, 0, 1, 0, 0, 4, 4, 1, 3, 3, 2, 5, 0, 2, 4, 3, 1, 0, 0, 0, 1, 1, 4, 0, 2, 0, 2, 4, 2, 1, 5, 3, 4, 1, 0, 1, 2, 0, 3, 4, 4, 4, 0, 4, 2, 4, 2, 2, 2, 0, 0, 2, 5, 5, 3, 2, 0, 0, 3, 1, 4, 2, 2, 3, 2, 0, 2, 3, 0, 2, 0, 2, 4, 5, 1, 3, 4, 3, 1, 2, 3, 0, 0, 3, 2, 4, 4, 4, 0, 0, 5, 0, 4, 3, 3, 2, 2, 2, 1, 1, 5, 1, 5, 1, 4, 0, 3, 1, 2, 3, 5, 4, 5, 4, 1, 0, 0, 2, 0, 0, 0, 0, 4, 1, 0, 4, 0, 2, 5, 2, 5, 0, 4, 1, 3, 4, 2, 5, 1, 5, 5, 5, 1, 2, 5, 4, 2, 5, 0, 0, 5, 3, 3, 1, 3, 1, 0, 1, 4, 3, 3, 1, 1, 3, 5, 5, 1, 4, 1, 4, 1, 1, 3, 4, 4, 0, 2, 2, 2, 1, 2, 1, 2, 2, 4, 2, 2, 3, 1, 0, 2, 2, 2, 5, 3, 5, 0, 3, 5, 3, 0, 3, 2, 5, 5, 3, 1, 5, 0, 1, 2, 1, 4, 3, 1, 2, 5, 1, 0, 1, 2, 4, 5, 2, 0, 4, 5, 1, 3, 5, 2, 2, 1, 5, 5, 0, 1, 0, 2, 2, 5, 1, 5, 1, 3, 0, 3, 5, 1, 3, 3, 3, 5, 4, 4, 5, 0, 0, 3, 4, 2, 3, 4, 2, 0, 4, 1, 0, 1, 4, 3, 2, 0, 2, 5, 5, 3, 3, 0, 2, 5, 0, 1, 2, 5, 2, 1, 4, 0, 0, 4, 3, 3, 5, 0, 4, 4, 0, 0, 4, 5, 0, 5, 3, 3, 3, 2, 0, 1, 5, 5, 5, 3, 2, 1, 3, 2, 3, 4, 0, 1, 4, 5, 1, 2, 3, 3, 1, 0, 0, 5, 3, 0, 3, 4, 5, 0, 4, 3, 1, 5, 2, 1, 1, 1, 1, 3, 5, 4, 4, 1, 1, 3, 1, 1, 0, 0, 0, 0, 4, 1, 0, 2, 0, 1, 0, 1, 1, 3, 4, 0, 1, 4, 4, 1, 1, 0, 3, 5, 4, 1, 4, 2, 4, 1, 0, 0, 0, 1, 0, 5, 1, 0, 5, 5, 1, 4, 4, 5, 0, 2, 3, 1, 4, 3, 0, 4, 0, 3, 4, 3, 3, 1, 3, 1, 1, 5, 5, 0, 5, 3, 3, 0, 4, 0, 2, 2, 1, 0, 0, 4, 0, 0, 5, 5, 2, 4, 3, 0, 5, 0, 1, 3, 1, 4, 1, 4, 0, 1, 3, 1, 1, 2, 0, 3, 0, 5, 4, 2, 0, 1, 3, 4, 4, 0, 3, 4, 0, 5, 3, 3, 2, 0, 0, 5, 0, 3, 4, 1, 5, 3, 1, 5, 5, 0, 4, 5, 5, 3, 0, 0, 2, 2, 3, 3, 2, 3, 2, 1, 2, 0, 1, 5, 3, 2, 0, 2, 2, 5, 5, 0, 5, 5, 0, 1, 2, 1, 5, 5, 4, 4, 3, 3, 1, 1, 5, 2, 0, 4, 4, 1, 2, 5, 0, 0, 0, 5, 0, 0, 0, 5, 2, 5, 0, 3, 3, 2, 3, 5, 3, 5, 5, 4, 5, 2, 4, 3, 2, 0, 2, 2, 3, 0, 1, 0, 4, 1, 2, 1, 5, 2, 0, 2, 3, 0, 4, 2, 1, 1, 1, 5, 5, 0, 5, 3, 4, 4, 1, 2, 4, 3, 3, 5, 2, 1, 2, 1, 5, 5, 0, 3, 5, 1, 2, 4, 2, 3, 3, 4, 0, 3, 1, 1, 2, 3, 5, 4, 4, 4, 5, 5, 4, 2, 1, 5, 2, 4, 2, 4, 2, 1, 4, 5, 4, 5, 1, 4, 1, 4, 3, 2, 2, 5, 3, 1, 4, 2, 3, 1, 0, 0, 4, 2, 2, 0, 3, 3, 3, 0, 0, 3, 5, 1, 0, 1, 0, 1, 1, 2, 5, 4, 1, 4, 3, 2, 0, 4, 3, 3, 2, 5, 2, 2, 5, 0, 1, 5, 3, 4, 1, 1, 5, 2, 0, 3, 2, 2, 2, 4, 1, 2, 5, 0, 4, 2, 5, 3, 2, 2, 0, 2, 2, 3, 5, 4, 0, 2, 1, 2, 5, 3, 5, 5, 2, 5, 4, 4, 5, 3, 4, 3, 2, 2, 5, 2, 4, 3, 0, 4, 1, 4, 0, 5, 2, 1, 1, 4, 1, 2, 0, 3, 2, 5, 0, 3, 3, 5, 3, 4, 5, 1, 3, 1, 4, 2, 4, 3, 2, 5, 4, 1, 2, 2, 4, 3, 0, 4, 2, 3, 3, 1, 0, 2, 3, 0, 4, 5, 0, 0, 0, 5, 0, 4, 2, 1, 5, 2, 5, 0, 1, 0, 3, 2, 5, 4, 3, 1, 2, 2, 2, 1, 1, 4, 0, 5, 0, 0, 4, 1, 1, 2, 3, 3, 0, 2, 5, 0, 1, 3, 3, 1, 0, 5, 1, 1, 1, 2, 3, 1, 3, 3, 5, 4, 3, 3, 5, 3, 3, 2, 0, 0, 1, 4, 5, 1, 5, 3, 2, 1, 1, 2, 5, 3, 3, 5, 1, 1, 1, 2, 3, 3, 0, 0, 3, 1, 4, 4, 2, 4, 4, 2, 1, 4, 1, 1, 2, 4, 3, 0, 0, 2, 5, 3, 1, 1, 1, 3, 0, 0, 3, 2, 3, 5, 4, 2, 4, 1, 3, 5, 2, 3, 5, 4, 4, 1, 5, 0, 4, 3, 0, 0, 2, 5, 0, 1, 0, 0, 5, 1, 0, 1, 0, 4, 4, 0, 3, 3, 5, 2, 2, 5, 0, 3, 1, 3, 3, 2, 2, 1, 3, 2, 4, 0, 3, 4, 3, 1, 5, 1, 3, 2, 5, 3, 4, 2, 4, 0, 1, 1, 5, 4, 4, 5, 3, 0, 5, 1, 0, 3, 4, 1, 5, 2, 1, 5, 0, 2, 3, 2, 5, 4, 0, 1, 3, 2, 4, 3, 4, 1, 2, 2, 4, 4, 1, 1, 1, 2, 4, 0, 2, 3, 4, 2, 0, 1, 5, 2, 2, 3, 5, 5, 0, 5, 0, 3, 2, 5, 3, 4, 0, 4, 0, 4, 3, 5, 4, 5, 2, 2, 2, 1, 4, 4, 2, 1, 1, 4, 4, 4, 1, 0, 5, 3, 1, 3, 1, 1, 0, 2, 1, 2, 1, 4, 2, 3, 4, 0, 2, 1, 5, 4, 5, 5, 0, 3, 3, 3, 3, 3, 3, 4, 3, 0, 2, 2, 0, 4, 2, 4, 1, 5, 3, 3, 4, 5, 3, 5, 2, 4, 3, 0, 4, 4, 2, 3, 5, 1, 0, 3, 0, 3, 5, 5, 1, 5, 0, 3, 1, 2, 3, 5, 1, 4, 5, 0, 1, 5, 2, 5, 1, 3, 1, 0, 5, 5, 4, 2, 5, 5, 5, 4, 5, 0, 2, 1, 2, 2, 3, 4, 5, 3, 1, 4, 3, 1, 2, 5, 4, 0, 5, 4, 3, 1, 1, 5, 3, 3, 3, 4, 5, 1, 2, 0, 2, 4, 4, 3, 2, 5, 2, 5, 2, 0, 0, 4, 2, 5, 3, 3, 0, 1, 3, 3, 2, 0, 0, 3, 5, 4, 0, 0, 0, 5, 2, 0, 4, 2, 2, 1, 5, 0, 1, 3, 0, 1, 4, 5, 0, 1, 1, 5, 3, 1, 4, 2, 2, 3, 1, 5, 0, 4, 5, 2, 3, 1, 5, 1, 3, 4, 5, 1, 0, 2, 3, 5, 2, 0, 1, 3, 0, 2, 1, 4, 5, 3, 5, 3, 4, 1, 1, 1, 3, 4, 2, 4, 1, 3, 4, 3, 1, 2, 0, 5, 5, 1, 4, 3, 4, 2, 5, 0, 1, 4, 0, 3, 4, 4, 0, 5, 5, 1, 2, 2, 1, 0, 3, 0, 0, 3, 0, 0, 2, 0, 3, 1, 5, 2, 1, 2, 3, 3, 2, 2, 2, 3, 2, 0, 2, 5, 5, 4, 2, 3, 2, 4, 1, 3, 5, 4, 5, 3, 1, 3, 3, 4, 1, 3, 1, 4, 5, 1, 1, 0, 1, 5, 3, 0, 3, 4, 4, 1, 2, 2, 0, 1, 5, 4, 5, 1, 2, 1, 4, 5, 2, 0, 1, 5, 5, 1, 4, 0, 3, 4, 2, 3, 2, 2, 3, 4, 3, 1, 5, 5, 3, 1, 3, 5, 1, 5, 2, 2, 1, 4, 5, 1, 5, 4, 2, 3, 3, 3, 0, 2, 5, 0, 0, 2, 2, 4, 5, 4, 0, 0, 2, 4, 0, 4, 3, 0, 2, 4, 4, 4, 5, 5, 0, 2, 1, 1, 5, 1, 2, 3, 4, 1, 4, 5, 0, 4, 4, 3, 1, 3, 5, 1, 2, 4, 1, 0, 4, 2, 1, 3, 1, 0, 0, 5, 0, 1, 2, 5, 4, 1, 3, 4, 2, 2, 0, 3, 4, 2, 5, 4, 4, 0, 0, 1, 0, 2, 3, 4, 2, 3, 2, 5, 4, 1, 3, 5, 3, 5, 5, 0, 3, 3, 5, 1, 4, 1, 3, 5, 4, 4, 4, 0, 1, 2, 3, 5, 2, 1, 4, 0, 0, 4, 4, 1, 2, 0, 5, 1, 4, 4, 3, 5, 1, 4, 5, 1, 4, 0, 2, 3, 4, 4, 4, 1, 4, 0, 0, 1, 5, 1, 1, 4, 5, 3, 2, 1, 5, 3, 3, 2, 2, 3, 0, 4, 4, 5, 4, 0, 4, 1, 2, 1, 2, 1, 4, 4, 2, 0, 0, 1, 1, 4, 3, 2, 5, 2, 3, 3, 2, 0, 5, 0, 2, 3, 1, 4, 4, 1, 2, 2, 0, 5, 5, 3, 2, 0, 1, 0, 1, 2, 2, 1, 1, 5, 1, 1, 5, 1, 1, 1, 3, 4, 1, 2, 0, 3, 3, 3, 1, 2, 0, 0, 0, 2, 4, 1, 0, 0, 1, 2, 0, 1, 3, 4, 4, 5, 0, 3, 3, 2, 2, 1, 5, 3, 4, 5, 4, 4, 0, 3, 3, 5, 0, 2, 3, 0, 3, 0, 1, 1, 2, 0, 2, 0, 1, 5, 2, 2, 0, 4, 2, 3, 1, 2, 3, 0, 5, 5, 2, 0, 3, 4, 3, 5, 0, 1, 2, 1, 0, 2, 0, 3, 4, 0, 5, 2, 1, 0, 3, 4, 5, 2, 0, 1, 3, 0, 0, 0, 1, 1, 3, 4, 1, 5, 5, 5, 2, 2, 3, 4, 0, 0, 2, 4, 4, 3, 5, 2, 5, 5, 3, 1, 0, 3, 4, 5, 5, 1, 2, 0, 3, 3, 2, 4, 3, 4, 1, 1, 1, 0, 5, 5, 3, 5, 3, 2, 2, 1, 5, 4, 4, 3, 3, 5, 2, 3, 5, 1, 4, 1, 2, 2, 1, 0, 3, 1, 1, 4, 4, 2, 5, 2, 1, 2, 5, 3, 5, 2, 5, 2, 5, 0, 4, 4, 1, 4, 2, 1, 4, 3, 3, 2, 1, 3, 3, 5, 0, 4, 4, 0, 5, 0, 3, 5, 1, 5, 3, 1, 0, 4, 1, 4, 2, 0, 0, 4, 5, 0, 4, 1, 2, 5, 4, 2, 4, 3, 4, 2, 2, 4, 2, 2, 5, 1, 3, 3, 1, 5, 1, 4, 2, 1, 4, 3, 0, 2, 2, 5, 2, 2, 3, 4, 3, 1, 3, 0, 2, 1, 3, 0, 0, 3, 0, 5, 5, 2, 1, 5, 1, 3, 2, 3, 5, 3, 4, 0, 3, 3, 5, 5, 3, 0, 2, 5, 2, 0, 2, 5, 1, 1, 5, 2, 3, 3, 3, 1, 2, 3, 4, 3, 0, 3, 5, 3, 1, 4, 2, 1, 3, 4, 0, 1, 4, 1, 3, 4, 1, 0, 2, 3, 0, 1, 4, 4, 4, 4, 2, 2, 0, 0, 5, 5, 2, 5, 3, 2, 2, 1, 4, 0, 3, 3, 3, 1, 1, 5, 2, 2, 5, 2, 0, 3, 1, 3, 0, 4, 2, 4, 5, 2, 0, 5, 4, 1, 3, 1, 0, 3, 1, 2, 4, 2, 0, 3, 2, 1, 0, 4, 2, 0, 0, 4, 0, 3, 1, 5, 2, 0, 5, 2, 4, 3, 3, 2, 0, 2, 1, 0, 0, 3, 3, 0, 2, 5, 0, 4, 0, 0, 5, 5, 0, 1, 0, 4, 5, 4, 4, 3, 2, 5, 0, 3, 0, 5, 1, 5, 1, 5, 1, 0, 1, 1, 3, 4, 5, 0, 4, 4, 5, 2, 2, 5, 1, 2, 2, 1, 3, 0, 0, 0, 0, 2, 5, 1, 2, 1, 1, 3, 3, 5, 4, 5, 1, 0, 3, 1, 5, 3, 1, 0, 5, 1, 3, 2, 1, 2, 3, 5, 4, 0, 2, 4, 3, 4, 2, 1, 2, 3, 5, 0, 2, 2, 2, 0, 3, 0, 1, 1, 2, 5, 5, 3, 1, 4, 2, 0, 4, 3, 2, 2, 4, 5, 2, 3, 2, 0, 1, 4, 4, 5, 2, 1, 5, 5, 4, 3, 0, 3, 0, 2, 2, 2, 4, 3, 5, 4, 3, 0, 0, 1, 4, 4, 4, 2, 5, 3, 2, 3, 3, 5, 1, 4, 4, 0, 3, 2, 0, 1, 5, 3, 5, 3, 2, 2, 4, 3, 1, 3, 0, 3, 5, 3, 0, 4, 0, 2, 2, 3, 3, 5, 0, 5, 4, 0, 4, 1, 3, 2, 3, 3, 5, 3, 1, 4, 5, 2, 0, 4, 2, 5, 4, 0, 5, 3, 4, 2, 3, 4, 1, 4, 0, 4, 1, 1, 1, 4, 1, 0, 4, 3, 1, 3, 4, 5, 5, 5, 1, 3, 0, 0, 0, 5, 2, 5, 3, 5, 1, 2, 1, 2, 0, 1, 2, 5, 4, 5, 1, 3, 5, 0, 0, 0, 3, 0, 3, 5, 2, 0, 0, 4, 5, 4, 5, 4, 1, 2, 3, 5, 5, 2, 3, 2, 5, 5, 2, 0, 5, 5, 1, 4, 3, 4, 1, 5, 1, 4, 2, 4, 2, 1, 3, 0, 2, 3, 3, 5, 1, 3, 4, 3, 5, 1, 5, 5, 0, 3, 2, 5, 1, 1, 2, 4, 3, 0, 1, 5, 4, 5, 4, 0, 1, 3, 4, 5, 0, 3, 2, 5, 4, 1, 4, 4, 3, 4, 1, 5, 5, 2, 2, 3, 2, 1, 1, 3, 4, 5, 0, 0, 3, 3, 1, 5, 0, 5, 4, 4, 0, 4, 0, 5, 0, 3, 2, 2, 4, 2, 0, 4, 1, 1, 2, 4, 0, 1, 2, 1, 1, 4, 4, 0, 0, 4, 5, 2, 1, 4, 5, 4, 4, 4, 3, 3, 4, 0, 2, 4, 1, 3, 4, 2, 1, 0, 0, 5, 4, 2, 5, 1, 4, 1, 0, 5, 5, 1, 3, 0, 5, 3, 2, 0, 4, 3, 1, 5, 1, 2, 3, 2, 5, 1, 4, 5, 5, 5, 0, 3, 0, 2, 0, 4, 3, 5, 3, 2, 0, 5, 5, 2, 0, 1, 5, 5, 1, 3, 1, 1, 3, 3, 1, 0, 2, 3, 5, 1, 5, 4, 2, 1, 3, 2, 0, 4, 2, 0, 4, 4, 1, 2, 2, 5, 1, 3, 0, 5, 2, 4, 0, 3, 5, 4, 3, 1, 5, 5, 0, 2, 5, 4, 5, 1, 3, 1, 2, 1, 5, 3, 5, 4, 3, 4, 0, 2, 3, 0, 5, 4, 1, 4, 5, 5, 0, 3, 3, 1, 3, 0, 1, 4, 3, 2, 5, 2, 1, 5, 4, 5, 0, 3, 1, 0, 1, 4, 2, 0, 3, 1, 2, 0, 2, 0, 5, 0, 0, 5, 3, 4, 3, 1, 3, 1, 1, 4, 2, 1, 1, 1, 5, 1, 5, 2, 1, 5, 5, 0, 0, 5, 0, 0, 5, 3, 2, 0, 0, 1, 0, 5, 3, 0, 2, 5, 4, 2, 4, 1, 2, 4, 2, 5, 4, 0, 1, 5, 1, 2, 3, 0, 4, 3, 2, 5, 2, 1, 5, 2, 0, 5, 3, 4, 1, 0, 5, 5, 3, 2, 3, 0, 2, 1, 2, 3, 1, 1, 1, 1, 0, 1, 4, 1, 5, 3, 3, 3, 2, 3, 0, 3, 0, 1, 0, 2, 4, 1, 2, 1, 1, 2, 4, 2, 1, 5, 4, 1, 1, 1, 3, 3, 1, 3, 4, 5, 3, 3, 1, 3, 2, 1, 5, 3, 4, 4, 4, 4, 2, 2, 3, 3, 3, 1, 5, 4, 3, 0, 1, 4, 3, 5, 1, 4, 1, 4, 1, 5, 5, 2, 2, 3, 2, 4, 1, 0, 2, 3, 1, 3, 2, 3, 3, 1, 3, 1, 3, 1, 2, 3, 1, 3, 3, 1, 5, 5, 0, 2, 2, 3, 2, 2, 2, 0, 3, 0, 5, 5, 1, 5, 1, 1, 5, 4, 1, 5, 1, 3, 2, 2, 5, 2, 1, 2, 3, 5, 0, 0, 3, 2, 0, 0, 4, 2, 2, 3, 0, 2, 0, 4, 1, 3, 3, 1, 0, 4, 5, 0, 1, 2, 0, 5, 2, 2, 4, 1, 3, 0, 0, 1, 3, 4, 4, 5, 3, 2, 0, 5, 5, 1, 5, 4, 5, 3, 1, 0, 4, 2, 1, 1, 1, 1, 5, 2, 1, 3, 5, 3, 3, 3, 0, 4, 4, 2, 4, 4, 1, 3, 5, 1, 4, 5, 3, 5, 3, 2, 3, 1, 3, 2, 3, 4, 3, 3, 4, 5, 3, 1, 4, 0, 5, 0, 0, 2, 0, 2, 4, 5, 5, 5, 3, 1, 1, 2, 1, 2, 4, 5, 0, 0, 2, 3, 4, 5, 1, 1, 3, 2, 0, 5, 4, 3, 2, 1, 5, 0, 1, 2, 4, 3, 3, 5, 2, 2, 1, 5, 0, 5, 0, 3, 0, 0, 3, 5, 3, 1, 1, 1, 5, 1, 1, 5, 5, 4, 4, 3, 3, 3, 0, 4, 0, 2, 4, 2, 5, 2, 0, 0, 0, 5, 3, 1, 0, 4, 1, 5, 2, 0, 0, 4, 3, 4, 3, 1, 3, 1, 1, 5, 2, 3, 1, 5, 1, 5, 0, 5, 2, 0, 4, 4, 3, 3, 5, 1, 0, 1, 1, 4, 1, 4, 2, 4, 3, 1, 0, 4, 2, 2, 0, 2, 5, 1, 5, 5, 0, 3, 2, 5, 5, 4, 0, 1, 3, 4, 5, 4, 2, 1, 4, 2, 3, 4, 5, 4, 5, 3, 0, 2, 0, 2, 2, 5, 3, 2, 1, 5, 0, 5, 2, 4, 1, 1, 5, 1, 4, 3, 4, 4, 1, 3, 2, 2, 3, 5, 1, 0, 2, 4, 3, 4, 1, 5, 0, 4, 1, 4, 0, 3, 4, 0, 2, 3, 3, 1, 2, 2, 5, 4, 4, 1, 4, 0, 0, 4, 3, 3, 0, 0, 1, 1, 0, 4, 1, 1, 2, 1, 1, 4, 2, 4, 4, 3, 5, 2, 5, 1, 5, 1, 1, 0, 2, 0, 4, 3, 1, 0, 4, 5, 1, 4, 3, 3, 2, 3, 2, 0, 5, 2, 4, 5, 0, 2, 5, 5, 1, 1, 2, 4, 3, 4, 2, 1, 3, 2, 0, 3, 4, 3, 3, 3, 4, 0, 5, 4, 0, 1, 2, 4, 5, 0, 1, 0, 2, 2, 2, 0, 2, 3, 0, 2, 5, 1, 5, 0, 0, 3, 1, 3, 4, 0, 2, 4, 5, 1, 5, 0, 1, 1, 2, 5, 2, 4, 4, 3, 1, 2, 4, 3, 5, 1, 4, 4, 4, 3, 1, 5, 3, 5, 2, 1, 2, 1, 0, 1, 2, 4, 0, 1, 1, 3, 2, 3, 3, 0, 4, 4, 2, 2, 1, 5, 4, 3, 0, 0, 4, 0, 5, 3, 2, 5, 3, 4, 4, 0, 4, 3, 5, 1, 5, 2, 0, 4, 4, 4, 0, 0, 3, 4, 4, 1, 3, 1, 2, 5, 4, 0, 1, 1, 1, 0, 2, 5, 0, 5, 2, 0, 3, 0, 3, 0, 4, 0, 2, 0, 0, 1, 2, 3, 1, 4, 4, 1, 5, 3, 5, 2, 4, 1, 5, 1, 0, 5, 3, 1, 3, 3, 3, 3, 5, 2, 2, 2, 1, 2, 1, 1, 2, 0, 0, 0, 5, 5, 3, 2, 1, 3, 2, 1, 3, 4, 3, 1, 5, 4, 3, 1, 4, 2, 5, 0, 4, 3, 3, 3, 3, 1, 4, 1, 2, 4, 4, 1, 0, 1, 3, 0, 4, 5, 4, 1, 5, 2, 5, 4, 5, 2, 5, 2, 2, 2, 4, 4, 1, 4, 4, 2, 5, 2, 1, 0, 5, 0, 0, 5, 2, 3, 1, 0, 4, 1, 5, 2, 2, 0, 0, 0, 2, 1, 4, 2, 3, 5, 5, 1, 4, 0, 4, 1, 3, 1, 3, 5, 3, 0, 2, 2, 1, 0, 2, 2, 4, 2, 1, 1, 0, 1, 1, 5, 4, 2, 5, 1, 3, 4, 0, 3, 1, 4, 2, 0, 5, 1, 0, 3, 2, 0, 4, 1, 4, 2, 4, 0, 3, 3, 0, 2, 4, 0, 1, 4, 2, 3, 4, 0, 0, 5, 0, 5, 1, 0, 5, 3, 3, 4, 1, 1, 4, 1, 2, 2, 1, 0, 0, 3, 3, 0, 0, 4, 4, 0, 3, 5, 2, 1, 2, 0, 3, 1, 0, 2, 4, 2, 4, 0, 3, 3, 0, 4, 1, 1, 2, 2, 4, 0, 3, 5, 3, 5, 0, 4, 3, 0, 0, 4, 3, 2, 3, 0, 5, 0, 1, 0, 2, 4, 4, 2, 3, 1, 3, 1, 3, 2, 0, 0, 4, 5, 1, 4, 1, 3, 4, 3, 0, 3, 5, 4, 1, 4, 3, 5, 1, 2, 5, 2, 1, 3, 0, 3, 2, 4, 4, 3, 0, 1, 5, 5, 5, 4, 3, 5, 1, 2, 3, 1, 4, 4, 2, 0, 5, 1, 2, 5, 4, 1, 1, 4, 0, 4, 3, 2, 5, 1, 1, 0, 1, 2, 4, 0, 1, 2, 4, 5, 5, 1, 2, 2, 4, 0, 1, 4, 2, 1, 4, 0, 3, 1, 4, 0, 5, 3, 0, 4, 1, 4, 5, 4, 3, 1, 0, 1, 2, 1, 1, 2, 3, 3, 3, 1, 5, 3, 1, 1, 3, 2, 3, 0, 5, 2, 1, 2, 4, 4, 2, 4, 4, 5, 5, 0, 0, 1, 3, 0, 0, 5, 4, 2, 5, 4, 0, 0, 3, 2, 1, 1, 5, 4, 2, 1, 5, 4, 0, 0, 3, 5, 0, 4, 2, 2, 4, 0, 2, 5, 4, 2, 1, 0, 5, 0, 4, 3, 0, 1, 3, 0, 1, 2, 3, 5, 2, 2, 0, 1, 1, 1, 2, 2, 5, 1, 3, 4, 3, 2, 0, 4, 2, 3, 3, 2, 3, 2, 3, 3, 3, 4, 5, 3, 4, 1, 2, 4, 5, 3, 3, 2, 5, 1, 2, 3, 2, 1, 2, 3, 1, 5, 4, 2, 3, 0, 2, 2, 4, 2, 1, 4, 5, 0, 3, 4, 2, 2, 2, 2, 5, 1, 4, 2, 0, 4, 1, 1, 5, 3, 2, 1, 5, 2, 1, 2, 5, 3, 1, 0, 3, 5, 0, 3, 4, 4, 3, 1, 5, 5, 2, 3, 1, 1, 0, 5, 5, 1, 4, 3, 1, 5, 0, 3, 5, 2, 4, 3, 5, 5, 4, 3, 4, 4, 3, 4, 2, 3, 4, 3, 3, 2, 5, 4, 4, 2, 0, 0, 5, 1, 4, 4, 3, 1, 1, 2, 3, 1, 3, 4, 2, 2, 3, 1, 1, 5, 3, 4, 4, 0, 0, 2, 5, 5, 3, 1, 5, 3, 3, 3, 1, 2, 3, 4, 5, 1, 0, 3, 0, 1, 1, 4, 1, 4, 1, 1, 2, 4, 2, 1, 3, 0, 2, 5, 5, 5, 5, 1, 1, 4, 2, 0, 2, 0, 2, 0, 3, 5, 5, 2, 2, 4, 5, 1, 4, 0, 4, 3, 3, 5, 4, 5, 4, 3, 2, 0, 5, 0, 4, 4, 0, 4, 2, 4, 5, 4, 4, 0, 1, 2, 2, 2, 5, 0, 5, 2, 0, 3, 0, 1, 5, 1, 2, 1, 5, 0, 5, 0, 5, 1, 1, 0, 0, 5, 0, 2, 0, 1, 1, 4, 2, 0, 1, 2, 4, 4, 5, 1, 3, 5, 3, 1, 4, 3, 0, 2, 5, 4, 1, 5, 5, 1, 1, 4, 3, 5, 0, 3, 3, 0, 1, 0, 3, 0, 3, 4, 1, 1, 0, 3, 2, 1, 3, 1, 4, 4, 5, 1, 2, 2, 0, 3, 3, 0, 4, 2, 1, 5, 4, 3, 5, 4, 0, 3, 4, 0, 4, 0, 5, 3, 2, 4, 1, 3, 2, 0, 1, 5, 5, 2, 0, 1, 4, 5, 2, 0, 2, 1, 1, 0, 5, 0, 3, 3, 2, 5, 3, 2, 1, 3, 4, 0, 0, 1, 0, 5, 4, 2, 0, 2, 5, 5, 0, 4, 5, 0, 1, 4, 3, 4, 4, 3, 4, 3, 3, 0, 2, 1, 5, 5, 0, 2, 5, 3, 5, 5, 4, 2, 1, 2, 0, 2, 5, 0, 5, 2, 4, 5, 2, 5, 0, 2, 1, 5, 5, 0, 0, 1, 2, 3, 3, 4, 2, 4, 1, 0, 5, 1, 2, 5, 5, 0, 3, 5, 4, 1, 4, 2, 5, 1, 1, 3, 5, 0, 2, 2, 1, 3, 2, 3, 0, 2, 5, 1, 5, 1, 0, 1, 0, 0, 1, 5, 4, 2, 0, 0, 5, 0, 1, 0, 4, 4, 5, 5, 3, 3, 4, 3, 0, 3, 0, 4, 3, 2, 0, 5, 4, 5, 4, 5, 5, 1, 2, 5, 1, 4, 5, 1, 0, 5, 4, 0, 4, 4, 5, 2, 4, 4, 2, 3, 5, 3, 5, 1, 1, 1, 2, 0, 0, 3, 2, 1, 5, 0, 2, 2, 0, 3, 3, 2, 0, 0, 4, 0, 3, 3, 3, 4, 0, 0, 4, 0, 3, 0, 4, 4, 3, 3, 4, 2, 1, 2, 1, 0, 4, 1, 1, 2, 2, 1, 2, 0, 5, 5, 3, 3, 3, 2, 0, 5, 1, 3, 4, 5, 3, 0, 4, 5, 1, 4, 5, 1, 2, 1, 5, 0, 2, 0, 4, 3, 1, 0, 4, 3, 2, 4, 4, 3, 2, 0, 4, 3, 1, 1, 4, 1, 2, 5, 4, 1, 4, 0, 2, 4, 4, 0, 3, 1, 5, 2, 2, 5, 1, 4, 4, 1, 1, 0, 1, 1, 0, 1, 4, 3, 3, 1, 0, 1, 3, 1, 5, 2, 5, 3, 0, 3, 2, 3, 2, 1, 0, 1, 2, 3, 3, 2, 5, 5, 3, 1, 2, 3, 0, 4, 0, 0, 2, 3, 5, 0, 0, 0, 5, 1, 4, 3, 3, 4, 4, 5, 4, 3, 4, 1, 4, 5, 3, 0, 0, 5, 5, 2, 5, 2, 3, 5, 5, 4, 5, 3, 0, 3, 5, 3, 4, 4, 0, 4, 4, 1, 4, 3, 5, 2, 2, 0, 3, 1, 2, 1, 2, 3, 4, 2, 0, 2, 2, 0, 1, 1, 2, 1, 0, 2, 1, 1, 2, 0, 4, 1, 2, 0, 3, 5, 2, 1, 5, 4, 0, 1, 1, 2, 0, 1, 4, 3, 5, 1, 1, 1, 2, 1, 1, 2, 5, 1, 2, 0, 0, 5, 1, 5, 3, 4, 0, 4, 4, 0, 4, 3, 4, 2, 2, 2, 0, 5, 3, 4, 4, 5, 0, 5, 5, 5, 0, 0, 0, 2, 0, 2, 4, 4, 0, 0, 2, 1, 4, 2, 3, 1, 4, 4, 5, 4, 1, 3, 4, 4, 3, 4, 5, 2, 1, 3, 0, 1, 4, 4, 2, 3, 3, 4, 0, 3, 3, 3, 5, 0, 4, 2, 1, 4, 2, 3, 3, 0, 3, 1, 5, 0, 2, 2, 1, 3, 4, 1, 0, 1, 3, 0, 4, 2, 5, 5, 0, 2, 2, 4, 1, 4, 0, 0, 4, 3, 5, 0, 4, 3, 0, 1, 5, 3, 5, 1, 2, 3, 5, 0, 5, 3, 3, 3, 4, 1, 5, 2, 2, 1, 4, 5, 1, 4, 5, 0, 4, 3, 5, 1, 3, 0, 0, 3, 3, 0, 0, 4, 1, 4, 5, 4, 0, 1, 3, 5, 2, 0, 2, 1, 0, 1, 2, 4, 2, 0, 2, 1, 4, 0, 2, 5, 2, 1, 5, 0, 2, 3, 3, 3, 0, 0, 5, 4, 2, 4, 2, 3, 3, 2, 5, 5, 4, 2, 3, 4, 2, 1, 4, 5, 5, 3, 5, 3, 1, 4, 0, 0, 4, 4, 4, 3, 1, 0, 5, 0, 1, 5, 2, 5, 3, 4, 3, 2, 1, 5, 4, 1, 2, 2, 2, 2, 4, 2, 0, 1, 3, 0, 0, 0, 1, 1, 0, 3, 0, 4, 1, 3, 1, 3, 1, 5, 3, 2, 2, 4, 3, 0, 0, 0, 1, 4, 5, 5, 5, 4, 1, 1, 3, 2, 3, 2, 2, 2, 3, 2, 3, 1, 0, 1, 0, 4, 5, 5, 1, 1, 5, 0, 4, 5, 2, 5, 3, 0, 1, 4, 1, 1, 1, 2, 0, 3, 1, 1, 5, 2, 0, 3, 5, 2, 0, 0, 2, 5, 5, 0, 4, 0, 3, 1, 2, 2, 2, 1, 2, 4, 1, 4, 2, 0, 1, 2, 4, 2, 4, 3, 0, 1, 1, 5, 1, 5, 2, 0, 4, 1, 1, 0, 1, 1, 0, 5, 0, 5, 0, 0, 0, 2, 5, 4, 4, 2, 4, 0, 5, 3, 1, 5, 3, 3, 5, 4, 0, 1, 2, 5, 4, 4, 5, 4, 3, 3, 5, 0, 5, 5, 2, 1, 3, 3, 4, 3, 2, 0, 2, 5, 2, 5, 1, 2, 5, 2, 0, 5, 1, 3, 5, 0, 2, 5, 1, 3, 3, 5, 5, 0, 0, 0, 1, 3, 2, 5, 1, 2, 4, 0, 3, 2, 5, 1, 1, 5, 0, 0, 4, 3, 2, 1, 3, 5, 0, 3, 5, 4, 3, 3, 5, 3, 1, 2, 4, 2, 1, 4, 4, 1, 0, 1, 0, 0, 2, 2, 1, 3, 4, 5, 5, 4, 5, 0, 1, 2, 5, 0, 4, 3, 0, 0, 4, 4, 4, 5, 3, 1, 3, 1, 3, 0, 2, 1, 4, 2, 4, 5, 2, 5, 0, 2, 1, 1, 4, 3, 1, 5, 3, 4, 2, 2, 4, 5, 2, 5, 4, 5, 5, 0, 5, 1, 1, 5, 3, 4, 0, 3, 2, 4, 5, 5, 4, 5, 5, 1, 5, 5, 3, 0, 1, 3, 1, 2, 0, 1, 4, 4, 3, 1, 1, 0, 3, 4, 1, 2, 1, 3, 3, 2, 2, 3, 5, 2, 2, 4, 3, 5, 2, 3, 3, 1, 0, 0, 4, 1, 3, 0, 2, 5, 2, 3, 0, 4, 1, 2, 5, 5, 1, 1, 3, 1, 3, 0, 2, 1, 3, 2, 3, 4, 2, 0, 5, 1, 3, 4, 0, 5, 5, 4, 1, 1, 3, 0, 2, 3, 1, 0, 3, 1, 0, 5, 4, 5, 4, 3, 2, 3, 3, 2, 5, 0, 2, 5, 0, 1, 4, 3, 5, 2, 1, 2, 5, 1, 0, 2, 2, 0, 4, 1, 4, 2, 3, 3, 3, 5, 3, 5, 1, 5, 5, 5, 0, 3, 4, 5, 3, 4, 2, 4, 1, 5, 0, 2, 5, 5, 3, 1, 2, 3, 5, 2, 1, 5, 0, 2, 0, 2, 5, 1, 4, 5, 1, 1, 2, 4, 1, 3, 1, 3, 0, 0, 2, 5, 1, 1, 1, 3, 1, 5, 5, 0, 5, 2, 4, 1, 4, 5, 2, 4, 4, 5, 2, 4, 2, 0, 0, 1, 5, 2, 3, 3, 1, 3, 0, 2, 2, 3, 3, 0, 1, 1, 0, 5, 4, 4, 3, 3, 2, 0, 3, 1, 0, 2, 0, 0, 2, 5, 0, 0, 4, 5, 0, 0, 4, 1, 2, 4, 2, 5, 3, 3, 2, 3, 1, 4, 3, 1, 4, 3, 5, 0, 4, 3, 4, 3, 4, 3, 3, 2, 3, 1, 0, 4, 5, 4, 3, 0, 1, 0, 3, 1, 1, 4, 2, 4, 2, 4, 4, 1, 1, 5, 2, 1, 3, 5, 5, 3, 2, 5, 0, 1, 3, 0, 3, 5, 3, 2, 0, 1, 5, 5, 2, 2, 4, 1, 1, 3, 2, 2, 5, 0, 2, 1, 2, 2, 5, 1, 1, 2, 0, 1, 4, 3, 3, 5, 2, 2, 2, 2, 2, 4, 2, 4, 3, 1, 2, 4, 1, 1, 4, 1, 5, 5, 5, 2, 5, 0, 3, 1, 0, 4, 3, 5, 5, 0, 1, 4, 1, 0, 0, 4, 1, 2, 5, 0, 5, 3, 0, 0, 1, 2, 2, 3, 3, 1, 4, 1, 2, 1, 4, 5, 1, 1, 2, 2, 2, 0, 5, 2, 4, 2, 1, 0, 1, 2, 5, 0, 1, 5, 2, 5, 2, 4, 0, 1, 0, 1, 4, 5, 2, 5, 2, 3, 3, 4, 3, 0, 0, 1, 2, 5, 1, 0, 3, 3, 5, 5, 5, 3, 4, 0, 3, 0, 0, 0, 1, 4, 4, 4, 3, 3, 0, 5, 4, 5, 2, 2, 2, 3, 1, 0, 0, 2, 3, 4, 4, 0, 2, 0, 2, 0, 5, 5, 4, 0, 3, 5, 5, 2, 3, 2, 1, 1, 3, 5, 2, 4, 0, 5, 5, 1, 2, 0, 1, 5, 5, 2, 4, 1, 2, 3, 3, 1, 5, 4, 4, 2, 0, 5, 5, 5, 5, 5, 2, 0, 5, 5, 0, 5, 4, 0, 4, 2, 0, 4, 1, 2, 1, 5, 2, 0, 3, 4, 1, 0, 2, 1, 3, 0, 4, 1, 1, 1, 2, 1, 1, 2, 5, 5, 1, 5, 4, 2, 1, 5, 5, 5, 3, 1, 3, 1, 2, 5, 5, 0, 2, 0, 5, 1, 3, 1, 0, 5, 2, 5, 5, 0, 4, 2, 0, 0, 3, 3, 0, 3, 4, 4, 3, 5, 5, 2, 3, 4, 0, 0, 2, 3, 0, 3, 0, 1, 4, 2, 3, 2, 0, 1, 4, 3, 3, 5, 0, 2, 4, 5, 5, 3, 1, 5, 5, 2, 4, 3, 0, 2, 4, 2, 2, 3, 4, 0, 1, 2, 2, 4, 4, 1, 1, 3, 0, 3, 3, 3, 4, 2, 3, 1, 4, 4, 4, 1, 2, 1, 0, 1, 4, 5, 0, 0, 5, 4, 3, 1, 4, 1, 3, 5, 1, 4, 5, 5, 2, 4, 3, 2, 4, 2, 4, 1, 4, 3, 5, 1, 5, 2, 5, 3, 0, 2, 5, 0, 4, 0, 4, 3, 2, 5, 2, 3, 2, 3, 4, 4, 2, 0, 1, 1, 2, 5, 0, 2, 2, 0, 2, 5, 0, 2, 2, 3, 2, 0, 2, 4, 2, 0, 0, 1, 2, 5, 1, 4, 1, 5, 0, 5, 4, 3, 2, 4, 2, 4, 4, 4, 3, 3, 0, 2, 5, 2, 1, 1, 0, 3, 3, 3, 1, 1, 4, 2, 3, 4, 5, 3, 3, 3, 1, 0, 4, 0, 3, 3, 0, 4, 2, 0, 2, 2, 0, 3, 0, 1, 3, 3, 0, 1, 5, 1, 4, 3, 3, 2, 4, 1, 3, 5, 1, 1, 1, 5, 0, 5, 2, 1, 5, 0, 4, 2, 1, 5, 3, 3, 0, 4, 0, 5, 1, 5, 0, 2, 4, 1, 5, 0, 2, 1, 4, 3, 3, 2, 3, 4, 5, 5, 2, 5, 4, 5, 0, 2, 1, 4, 3, 2, 1, 0, 0, 5, 2, 5, 4, 1, 1, 4, 0, 4, 2, 4, 0, 1, 0, 2, 5, 1, 1, 1, 3, 2, 1, 5, 0, 3, 5, 3, 5, 1, 4, 3, 2, 5, 5, 4, 0, 1, 5, 2, 3, 3, 1, 2, 5, 3, 4, 0, 4, 2, 3, 0, 0, 2, 0, 3, 3, 3, 2, 2, 5, 3, 4, 4, 3, 0, 0, 3, 1, 2, 1, 2, 0, 2, 4, 3, 1, 1, 2, 5, 2, 0, 0, 0, 3, 2, 2, 3, 0, 2, 3, 0, 3, 5, 3, 0, 2, 4, 0, 1, 2, 3, 3, 0, 2, 2, 4, 3, 0, 2, 2, 4, 0, 5, 4, 5, 5, 1, 2, 3, 5, 3, 4, 5, 3, 1, 1, 4, 0, 1, 4, 0, 2, 5, 2, 5, 0, 4, 3, 0, 4, 2, 1, 4, 0, 5, 3, 5, 5, 4, 2, 5, 1, 3, 1, 3, 2, 3, 2, 0, 2, 1, 4, 2, 5, 4, 1, 3, 5, 4, 3, 1, 3, 4, 0, 1, 1, 5, 1, 0, 5, 1, 0, 2, 3, 0, 4, 5, 2, 2, 4, 3, 3, 2, 4, 5, 5, 2, 3, 1, 4, 3, 4, 1, 4, 3, 5, 1, 3, 1, 0, 2, 5, 0, 2, 3, 0, 1, 2, 5, 0, 0, 1, 1, 1, 1, 0, 1, 4, 5, 0, 0, 3, 2, 1, 5, 0, 1, 0, 3, 5, 2, 1, 0, 5, 2, 5, 5, 5, 0, 4, 3, 5, 5, 3, 5, 5, 0, 1, 5, 5, 4, 2, 4, 5, 4, 4, 5, 2, 3, 4, 0, 1, 4, 0, 4, 2, 0, 3, 3, 3, 3, 2, 0, 4, 0, 4, 0, 4, 2, 2, 5, 0, 3, 5, 2, 2, 2, 4, 2, 1, 3, 3, 3, 0, 1, 3, 3, 2, 0, 3, 0, 1, 3, 3, 0, 0, 3, 3, 1, 3, 4, 3, 0, 2, 0, 0, 3, 0, 3, 2, 1, 4, 2, 2, 2, 0, 0, 0, 5, 2, 0, 2, 1, 0, 0, 2, 5, 1, 5, 0, 3, 0, 2, 1, 0, 3, 1, 0, 5, 4, 5, 4, 0, 1, 1, 0, 5, 3, 5, 5, 4, 2, 5, 0, 5, 4, 2, 2, 2, 5, 0, 2, 3, 1, 2, 1, 4, 0, 4, 5, 5, 4, 3, 0, 0, 5, 5, 2, 2, 2, 1, 3, 4, 1, 3, 5, 0, 5, 5, 2, 0, 1, 2, 3, 2, 1, 1, 4, 5, 0, 2, 2, 2, 3, 2, 2, 0, 4, 1, 3, 5, 5, 3, 3, 1, 0, 5, 2, 5, 4, 0, 0, 0, 1, 0, 3, 3, 1, 2, 1, 2, 2, 1, 3, 2, 1, 5, 2, 3, 0, 3, 1, 2, 0, 5, 4, 5, 1, 0, 5, 3, 0, 2, 4, 0, 0, 0, 5, 4, 0, 2, 0, 0, 3, 3, 5, 0, 2, 4, 0, 5, 1, 0, 1, 2, 1, 2, 5, 3, 2, 0, 5, 3, 1, 5, 0, 0, 3, 3, 4, 4, 4, 5, 3, 0, 2, 3, 5, 0, 3, 2, 2, 3, 0, 1, 3, 1, 3, 5, 2, 2, 4, 2, 2, 5, 1, 2, 4, 2, 4, 2, 0, 3, 3, 3, 5, 4, 1, 4, 4, 2, 1, 0, 3, 4, 2, 0, 3, 2, 1, 4, 0, 0, 0, 5, 3, 5, 4, 5, 4, 0, 5, 1, 0, 3, 0, 2, 4, 0, 3, 5, 1, 3, 2, 5, 4, 4, 0, 1, 0, 5, 3, 0, 5, 4, 3, 0, 3, 0, 4, 3, 3, 0, 1, 4, 5, 3, 2, 2, 4, 1, 4, 3, 4, 3, 3, 2, 1, 2, 4, 4, 0, 2, 5, 3, 1, 4, 1, 3, 5, 3, 3, 3, 5, 1, 2, 4, 1, 5, 2, 0, 2, 1, 1, 1, 4, 0, 2, 1, 1, 3, 2, 1, 1, 0, 1, 3, 2, 1, 5, 1, 4, 2, 5, 0, 4, 5, 3, 3, 1, 3, 2, 5, 0, 2, 1, 5, 5, 4, 2, 5, 1, 1, 4, 5, 1, 1, 2, 3, 2, 0, 3, 1, 5, 0, 1, 0, 4, 3, 1, 1, 2, 2, 5, 5, 4, 2, 1, 3, 0, 3, 0, 0, 2, 0, 5, 3, 3, 2, 3, 2, 3, 2, 3, 4, 1, 4, 2, 2, 4, 4, 3, 3, 3, 5, 5, 1, 3, 0, 0, 4, 2, 4, 2, 0, 3, 0, 2, 4, 0, 0, 2, 4, 1, 5, 1, 0, 5, 0, 5, 3, 2, 2, 3, 0, 5, 2, 3, 4, 2, 4, 2, 0, 4, 2, 1, 5, 3, 0, 5, 4, 3, 4, 3, 5, 2, 1, 1, 3, 5, 1, 1, 2, 4, 4, 0, 5, 4, 2, 0, 4, 3, 5, 5, 5, 4, 5, 2, 5, 4, 0, 0, 1, 1, 1, 4, 2, 2, 4, 1, 5, 4, 4, 3, 2, 3, 2, 5, 4, 4, 1, 5, 0, 2, 0, 3, 1, 3, 5, 2, 3, 1, 4, 4, 3, 4, 5, 1, 5, 1, 1, 4, 1, 4, 5, 3, 4, 5, 0, 0, 2, 1, 2, 5, 1, 3, 0, 0, 2, 5, 5, 4, 4, 5, 5, 5, 3, 4, 2, 1, 4, 2, 2, 0, 3, 1, 5, 1, 1, 1, 2, 0, 1, 2, 1, 4, 4, 2, 1, 1, 5, 5, 5, 4, 4, 5, 4, 4, 4, 5, 4, 3, 4, 1, 2, 3, 2, 0, 1, 3, 0, 1, 4, 5, 2, 1, 2, 5, 3, 0, 1, 1, 3, 1, 5, 1, 3, 5, 2, 2, 4, 0, 4, 5, 3, 2, 2, 2, 3, 5, 2, 3, 5, 5, 4, 4, 2, 0, 5, 5, 0, 3, 0, 4, 3, 1, 2, 0, 0, 4, 2, 0, 5, 4, 0, 3, 4, 2, 2, 0, 1, 4, 0, 1, 2, 2, 2, 0, 2, 0, 5, 0, 5, 1, 2, 1, 3, 5, 5, 1, 1, 0, 0, 5, 5, 2, 4, 4, 4, 5, 5, 5, 3, 5, 2, 0, 3, 5, 4, 2, 1, 2, 2, 5, 5, 2, 4, 0, 2, 2, 4, 2, 2, 2, 1, 5, 4, 5, 1, 2, 0, 3, 1, 0, 5, 5, 4, 1, 4, 2, 3, 3, 1, 4, 0, 4, 0, 3, 1, 1, 2, 3, 5, 0, 4, 1, 3, 5, 1, 1, 0, 2, 3, 3, 4, 0, 1, 0, 2, 3, 2, 4, 4, 1, 4, 0, 3, 5, 3, 5, 2, 4, 3, 2, 0, 3, 4, 2, 4, 1, 0, 1, 1, 2, 3, 2, 4, 5, 0, 1, 5, 3, 2, 5, 4, 1, 0, 1, 1, 0, 3, 1, 4, 5, 1, 3, 2, 3, 2, 3, 4, 5, 5, 0, 4, 3, 1, 4, 3, 5, 3, 1, 4, 2, 2, 3, 5, 1, 2, 0, 0, 3, 4, 5, 5, 1, 4, 4, 4, 4, 3, 3, 1, 2, 2, 0, 0, 3, 0, 5, 2, 4, 1, 3, 3, 5, 3, 4, 2, 3, 5, 0, 4, 3, 2, 1, 3, 0, 0, 0, 2, 4, 4, 3, 5, 4, 3, 2, 1, 4, 2, 5, 4, 0, 0, 5, 3, 1, 1, 3, 1, 1, 2, 2, 0, 5, 2, 1, 3, 5, 0, 5, 4, 2, 1, 2, 3, 5, 5, 3, 4, 5, 1, 0, 1, 5, 3, 3, 3, 3, 1, 2, 3, 5, 2, 4, 1, 4, 4, 5, 1, 0, 4, 2, 2, 1, 1, 1, 1, 4, 4, 3, 5, 0, 4, 2, 3, 3, 5, 3, 4, 0, 4, 0, 1, 2, 2, 5, 1, 3, 3, 2, 2, 3, 4, 1, 4, 4, 4, 2, 5, 5, 3, 3, 0, 1, 4, 5, 4, 4, 5, 4, 3, 2, 0, 5, 5, 3, 1, 2, 2, 5, 0, 2, 5, 0, 4, 1, 0, 4, 2, 4, 0, 4, 5, 3, 1, 0, 4, 5, 5, 4, 0, 3, 4, 0, 3, 1, 5, 0, 1, 3, 4, 0, 0, 2, 2, 3, 5, 2, 2, 1, 4, 1, 1, 5, 2, 3, 1, 3, 1, 0, 4, 2, 1, 4, 4, 1, 4, 4, 3, 2, 3, 3, 0, 0, 1, 5, 4, 1, 2, 1, 4, 1, 2, 3, 2, 1, 5, 0, 4, 0, 1, 1, 5, 2, 0, 0, 0, 5, 3, 2, 5, 4, 1, 0, 5, 5, 2, 3, 2, 5, 4, 4, 5, 0, 0, 2, 5, 0, 4, 0, 2, 0, 3, 0, 1, 0, 1, 1, 1, 0, 4, 2, 1, 5, 0, 5, 5, 1, 4, 4, 5, 3, 3, 5, 3, 2, 5, 0, 1, 0, 5, 3, 2, 2, 2, 1, 3, 3, 3, 1, 1, 5, 1, 5, 0, 4, 3, 1, 0, 4, 0, 3, 3, 3, 2, 4, 5, 2, 5, 5, 4, 4, 3, 5, 4, 3, 2, 4, 2, 5, 5, 3, 1, 0, 4, 0, 4, 5, 3, 0, 5, 3, 3, 2, 4, 2, 2, 2, 2, 3, 2, 4, 0, 2, 0, 3, 1, 4, 0, 0, 4, 2, 0, 0, 0, 0, 1, 1, 4, 2, 1, 5, 0, 5, 4, 1, 2, 4, 1, 4, 4, 4, 0, 4, 0, 0, 0, 1, 0, 4, 3, 1, 5, 1, 1, 4, 1, 4, 4, 2, 5, 3, 2, 2, 1, 3, 1, 4, 1, 2, 4, 3, 4, 3, 5, 4, 4, 0, 1, 1, 2, 0, 2, 4, 2, 4, 1, 3, 0, 0, 4, 0, 4, 0, 4, 2, 1, 3, 3, 3, 1, 4, 0, 3, 4, 4, 1, 4, 3, 1, 1, 2, 0, 1, 2, 0, 3, 5, 0, 0, 5, 0, 2, 4, 1, 3, 0, 5, 4, 0, 2, 1, 1, 0, 2, 3, 3, 4, 2, 3, 0, 2, 4, 2, 0, 2, 1, 4, 0, 0, 1, 0, 3, 1, 2, 0, 2, 3, 0, 1, 1, 2, 4, 1, 0, 2, 4, 1, 5, 0, 4, 1, 0, 4, 4, 1, 3, 2, 2, 3, 2, 3, 4, 3, 0, 1, 0, 4, 5, 5, 2, 4, 5, 2, 0, 5, 3, 2, 1, 5, 0, 3, 5, 5, 3, 1, 0, 4, 4, 3, 4, 2, 5, 1, 3, 1, 1, 3, 0, 3, 3, 5, 4, 0, 1, 4, 2, 5, 5, 5, 5, 5, 0, 0, 5, 0, 1, 0, 4, 5, 3, 3, 4, 0, 2, 4, 0, 3, 5, 1, 5, 0, 2, 5, 0, 1, 5, 0, 4, 2, 0, 0, 3, 3, 5, 2, 0, 3, 1, 5, 0, 0, 0, 3, 5, 5, 5, 4, 3, 2, 3, 3, 3, 4, 1, 1, 4, 2, 0, 1, 0, 1, 5, 5, 1, 0, 0, 0, 1, 0, 2, 5, 4, 1, 3, 0, 1, 5, 2, 5, 4, 5, 2, 5, 5, 5, 2, 4, 4, 1, 4, 0, 2, 3, 4, 4, 5, 0, 5, 2, 4, 1, 4, 1, 2, 3, 5, 0, 5, 5, 4, 3, 2, 1, 5, 4, 0, 2, 5, 2, 3, 0, 0, 4, 1, 4, 4, 4, 4, 0, 1, 4, 1, 4, 3, 4, 3, 0, 2, 3, 1, 3, 4, 0, 3, 1, 5, 4, 4, 4, 0, 1, 4, 3, 1, 5, 1, 1, 1, 2, 2, 3, 4, 1, 0, 1, 1, 5, 2, 4, 0, 3, 5, 2, 0, 3, 4, 0, 3, 3, 1, 4, 0, 0, 2, 0, 1, 4, 5, 1, 5, 2, 1, 3, 0, 3, 4, 0, 1, 4, 5, 3, 1, 2, 5, 4, 0, 3, 4, 2, 2, 5, 5, 5, 1, 5, 2, 0, 2, 2, 3, 3, 2, 1, 2, 5, 4, 2, 1, 3, 5, 2, 5, 1, 4, 2, 4, 3, 5, 5, 2, 5, 0, 4, 2, 5, 0, 1, 4, 1, 3, 5, 4, 0, 0, 0, 0, 0, 4, 5, 0, 3, 3, 1, 1, 4, 2, 4, 4, 2, 0, 3, 2, 4, 3, 5, 1, 4, 1, 2, 5, 5, 1, 4, 5, 3, 4, 4, 2, 1, 0, 4, 5, 3, 3, 5, 5, 0, 0, 0, 2, 0, 2, 1, 1, 0, 2, 0, 3, 4, 4, 2, 4, 1, 0, 3, 4, 2, 0, 1, 0, 3, 5, 5, 5, 4, 3, 1, 2, 1, 1, 0, 2, 4, 4, 4, 3, 5, 0, 0, 4, 5, 4, 5, 2, 2, 0, 0, 4, 1, 5, 2, 5, 0, 1, 1, 1, 5, 0, 2, 2, 3, 1, 5, 2, 3, 1, 5, 3, 3, 4, 5, 4, 0, 0, 1, 2, 0, 3, 2, 3, 1, 5, 0, 1, 3, 2, 4, 4, 1, 1, 0, 5, 0, 0, 2, 3, 5, 4, 0, 0, 3, 4, 5, 2, 3, 1, 3, 3, 3, 2, 5, 4, 2, 2, 0, 0, 3, 0, 5, 3, 2, 5, 5, 3, 0, 3, 5, 3, 2, 3, 5, 3, 1, 2, 0, 3, 5, 5, 0, 4, 3, 4, 5, 1, 1, 0, 4, 1, 2, 2, 3, 0, 5, 3, 0, 0, 2, 2, 2, 5, 5, 4, 2, 4, 0, 1, 1, 0, 5, 4, 0, 0, 1, 2, 1, 1, 5, 3, 2, 2, 3, 5, 1, 2, 0, 0, 3, 2, 1, 3, 3, 3, 5, 1, 5, 3, 5, 4, 4, 2, 1, 2, 2, 1, 3, 3, 5, 4, 2, 1, 5, 3, 4, 0, 4, 4, 3, 2, 5, 0, 0, 2, 2, 5, 0, 1, 2, 5, 3, 0, 3, 5, 0, 4, 4, 1, 0, 0, 5, 1, 4, 0, 3, 0, 4, 4, 4, 2, 0, 2, 4, 4, 0, 0, 4, 4, 4, 1, 0, 4, 0, 1, 0, 3, 0, 2, 4, 1, 1, 0, 2, 4, 3, 0, 5, 4, 4, 4, 1, 2, 1, 4, 3, 4, 5, 3, 3, 0, 2, 0, 1, 2, 4, 4, 5, 0, 2, 1, 2, 1, 1, 5, 2, 4, 3, 4, 4, 3, 3, 0, 1, 2, 4, 0, 5, 5, 3, 4, 1, 2, 4, 0, 1, 5, 0, 1, 3, 3, 4, 1, 1, 3, 2, 4, 4, 4, 2, 4, 0, 3, 1, 2, 0, 5, 3, 3, 0, 4, 5, 2, 1, 1, 4, 4, 1, 5, 3, 4, 3, 1, 1, 1, 4, 2, 5, 4, 0, 1, 1, 0, 1, 5, 1, 4, 0, 3, 1, 4, 5, 3, 4, 4, 2, 5, 1, 3, 4, 3, 2, 3, 3, 3, 0, 5, 1, 2, 4, 3, 5, 3, 5, 3, 4, 4, 5, 4, 5, 3, 4, 5, 4, 3, 1, 0, 0, 0, 2, 3, 2, 5, 3, 2, 0, 4, 5, 4, 1, 0, 4, 3, 4, 3, 0, 2, 3, 3, 2, 4, 0, 3, 2, 2, 2, 3, 5, 1, 0, 5, 4, 1, 1, 4, 4, 1, 2, 3, 3, 2, 2, 4, 3, 5, 4, 1, 0, 3, 3, 4, 1, 0, 1, 2, 1, 0, 2, 5, 2, 2, 3, 0, 2, 4, 3, 0, 5, 5, 3, 0, 0, 0, 0, 1, 1, 4, 0, 1, 2, 0, 3, 0, 1, 0, 0, 1, 2, 1, 3, 1, 1, 0, 5, 4, 4, 5, 4, 2, 1, 2, 1, 1, 5, 0, 3, 2, 4, 5, 3, 1, 4, 2, 0, 1, 5, 1, 3, 4, 4, 5, 0, 2, 5, 2, 4, 4, 5, 2, 4, 1, 0, 4, 5, 5, 0, 1, 5, 5, 2, 0, 0, 5, 0, 3, 0, 4, 4, 5, 2, 3, 4, 0, 2, 4, 2, 1, 3, 3, 2, 5, 0, 4, 5, 0, 1, 2, 3, 5, 3, 5, 5, 1, 1, 3, 0, 1, 0, 3, 1, 0, 2, 4, 4, 5, 1, 3, 3, 4, 0, 1, 3, 3, 2, 2, 4, 5, 5, 2, 0, 0, 0, 5, 1, 1, 4, 2, 1, 3, 3, 2, 3, 1, 3, 0, 2, 5, 4, 4, 1, 2, 1, 4, 3, 2, 1, 5, 0, 2, 4, 0, 1, 1, 5, 2, 3, 4, 1, 1, 4, 5, 4, 4, 2, 4, 0, 5, 2, 2, 0, 4, 0, 0, 1, 0, 0, 3, 5, 3, 5, 5, 0, 0, 5, 2, 3, 1, 5, 3, 4, 4, 5, 1, 1, 3, 0, 5, 3, 5, 2, 1, 5, 0, 4, 0, 2, 1, 5, 3, 0, 2, 2, 4, 3, 3, 4, 2, 5, 2, 1, 5, 1, 3, 2, 2, 3, 4, 0, 2, 1, 1, 4, 4, 5, 5, 3, 5, 5, 4, 4, 1, 3, 2, 0, 2, 5, 5, 5, 1, 2, 0, 0, 3, 2, 5, 0, 5, 3, 5, 4, 0, 3, 5, 4, 2, 1, 2, 2, 5, 3, 1, 4, 1, 0, 3, 4, 0, 5, 5, 2, 1, 5, 2, 5, 5, 4, 1, 5, 3, 3, 4, 3, 2, 2, 0, 1, 3, 0, 1, 0, 4, 3, 0, 4, 4, 5, 3, 5, 4, 4, 3, 0, 1, 1, 3, 3, 3, 4, 0, 0, 3, 0, 3, 5, 1, 5, 2, 5, 4, 5, 3, 1, 1, 5, 2, 2, 1, 0, 2, 3, 2, 5, 3, 2, 3, 2, 5, 1, 5, 1, 3, 5, 1, 0, 4, 2, 0, 4, 5, 3, 1, 0, 1, 3, 2, 1, 1, 0, 5, 0, 2, 1, 0, 2, 3, 2, 3, 4, 0, 2, 5, 1, 3, 0, 2, 0, 3, 2, 3, 2, 5, 4, 2, 3, 5, 3, 3, 5, 4, 0, 2, 3, 0, 5, 5, 3, 5, 2, 1, 5, 2, 3, 2, 2, 2, 5, 1, 0, 1, 3, 2, 0, 4, 2, 5, 5, 5, 1, 3, 1, 3, 5, 4, 3, 1, 0, 0, 1, 3, 2, 4, 4, 0, 2, 4, 5, 5, 3, 4, 3, 3, 5, 3, 2, 3, 5, 4, 5, 2, 0, 2, 0, 5, 2, 2, 5, 5, 2, 4, 1, 0, 4, 4, 1, 0, 2, 4, 0, 3, 5, 2, 3, 3, 3, 2, 2, 1, 0, 5, 1, 2, 4, 3, 3, 5, 3, 3, 1, 5, 4, 3, 2, 1, 0, 0, 2, 5, 3, 1, 1, 0, 4, 2, 3, 0, 1, 5, 2, 0, 3, 1, 5, 3, 5, 0, 5, 3, 2, 4, 4, 1, 2, 1, 2, 5, 3, 0, 1, 1, 5, 2, 0, 5, 1, 1, 5, 5, 4, 1, 0, 3, 4, 5, 2, 0, 0, 1, 5, 1, 4, 4, 5, 0, 4, 3, 2, 0, 0, 0, 5, 0, 3, 0, 2, 3, 1, 0, 0, 0, 1, 1, 5, 0, 4, 5, 4, 3, 1, 1, 4, 5, 1, 4, 0, 1, 3, 4, 5, 3, 4, 3, 1, 2, 1, 1, 4, 1, 5, 4, 2, 0, 3, 4, 4, 5, 0, 2, 4, 4, 5, 3, 0, 1, 1, 1, 2, 4, 2, 3, 0, 2, 1, 2, 3, 0, 1, 1, 5, 0, 4, 3, 3, 5, 5, 3, 2, 5, 2, 3, 3, 2, 0, 3, 3, 3, 0, 4, 3, 3, 3, 4, 5, 4, 1, 2, 3, 1, 0, 1, 3, 1, 5, 1, 2, 3, 5, 1, 1, 5, 2, 4, 1, 5, 4, 3, 3, 4, 0, 3, 4, 3, 3, 0, 2, 2, 1, 5, 3, 2, 0, 0, 5, 3, 3, 2, 2, 5, 5, 2, 0, 5, 4, 5, 1, 4, 2, 3, 4, 5, 1, 2, 3, 1, 3, 5, 4, 1, 4, 3, 3, 0, 0, 0, 0, 4, 1, 1, 5, 5, 3, 1, 2, 4, 3, 4, 5, 4, 2, 5, 5, 3, 1, 4, 3, 5, 0, 4, 4, 4, 1, 5, 0, 4, 5, 2, 1, 2, 2, 0, 1, 5, 0, 1, 0, 1, 3, 3, 5, 2, 1, 5, 1, 1, 3, 3, 0, 4, 0, 0, 5, 5, 3, 3, 3, 1, 1, 1, 4, 0, 1, 5, 1, 2, 0, 3, 3, 0, 0, 5, 4, 1, 4, 1, 4, 1, 0, 4, 0, 0, 0, 0, 3, 2, 5, 2, 5, 3, 3, 5, 3, 3, 1, 1, 2, 5, 1, 4, 4, 5, 3, 2, 5, 0, 1, 1, 0, 4, 1, 2, 5, 5, 2, 1, 4, 1, 3, 4, 2, 0, 4, 0, 3, 3, 1, 3, 0, 1, 2, 4, 4, 5, 0, 1, 5, 4, 0, 2, 5, 5, 3, 2, 5, 1, 5, 1, 3, 2, 0, 5, 5, 4, 3, 2, 5, 2, 4, 4, 0, 1, 4, 2, 5, 0, 2, 0, 5, 3, 3, 0, 4, 1, 2, 3, 5, 5, 0, 4, 2, 1, 1, 3, 0, 1, 2, 3, 3, 0, 5, 3, 4, 3, 4, 2, 0, 1, 4, 2, 2, 3, 0, 1, 5, 4, 2, 1, 1, 4, 1, 3, 3, 3, 0, 0, 5, 4, 2, 2, 4, 5, 5, 0, 5, 5, 2, 1, 4, 5, 4, 3, 5, 5, 4, 2, 0, 3, 2, 1, 4, 2, 3, 2, 4, 3, 5, 3, 2, 0, 3, 0, 5, 1, 0, 5, 5, 5, 4, 0, 1, 4, 3, 3, 4, 5, 5, 5, 4, 1, 1, 5, 2, 3, 2, 1, 0, 3, 3, 4, 1, 3, 0, 2, 4, 4, 2, 0, 1, 5, 1, 2, 5, 1, 0, 1, 0, 5, 4, 3, 4, 5, 2, 0, 2, 4, 2, 5, 3, 5, 4, 1, 2, 3, 5, 5, 0, 5, 0, 5, 1, 0, 2, 2, 2, 4, 0, 3, 3, 0, 2, 0, 5, 0, 0, 3, 2, 2, 4, 5, 1, 1, 1, 2, 0, 5, 3, 5, 4, 0, 2, 0, 1, 1, 1, 4, 2, 5, 3, 5, 2, 1, 4, 1, 5, 5, 4, 1, 5, 4, 4, 0, 2, 4, 0, 0, 5, 1, 5, 2, 4, 2, 0, 5, 1, 5, 3, 1, 1, 4, 4, 0, 4, 1, 0, 4, 0, 5, 1, 2, 5, 3, 5, 4, 5, 4, 3, 5, 3, 5, 4, 5, 5, 4, 2, 2, 1, 1, 3, 1, 2, 2, 5, 1, 5, 2, 1, 1, 2, 3, 1, 4, 5, 1, 2, 3, 2, 5, 3, 1, 3, 5, 1, 1, 4, 2, 3, 1, 5, 1, 4, 4, 4, 2, 5, 3, 3, 5, 4, 0, 4, 2, 0, 0, 1, 5, 2, 3, 4, 2, 5, 0, 5, 4, 5, 4, 0, 0, 3, 1, 2, 2, 1, 2, 4, 2, 1, 5, 5, 4, 5, 2, 4, 0, 3, 3, 3, 0, 4, 1, 1, 0, 5, 4, 0, 4, 4, 1, 3, 4, 1, 0, 0, 2, 5, 2, 0, 3, 3, 3, 5, 0, 5, 4, 2, 1, 0, 5, 5, 4, 3, 4, 5, 0, 2, 4, 2, 0, 5, 3, 4, 3, 1, 4, 2, 5, 1, 4, 4, 3, 4, 3, 2, 0, 5, 3, 4, 4, 5, 0, 1, 4, 1, 0, 0, 0, 0, 2, 0, 4, 5, 0, 0, 1, 3, 3, 4, 3, 5, 4, 1, 0, 3, 3, 2, 5, 1, 3, 0, 5, 5, 5, 5, 4, 1, 5, 2, 2, 5, 5, 1, 2, 0, 5, 5, 5, 1, 1, 1, 5, 5, 2, 1, 0, 4, 5, 1, 5, 1, 3, 0, 5, 5, 5, 3, 3, 4, 2, 2, 4, 0, 5, 5, 1, 3, 4, 4, 2, 3, 5, 3, 3, 4, 4, 3, 5, 2, 2, 3, 0, 1, 4, 1, 4, 2, 5, 4, 0, 3, 1, 5, 4, 5, 0, 0, 2, 1, 3, 1, 1, 5, 1, 3, 5, 1, 5, 2, 5, 3, 1, 2, 1, 2, 2, 3, 0, 1, 1, 2, 1, 4, 4, 1, 4, 3, 0, 0, 4, 0, 2, 2, 4, 3, 5, 2, 2, 4, 3, 5, 0, 2, 1, 1, 1, 1, 3, 4, 0, 0, 4, 0, 1, 1, 1, 2, 2, 1, 1, 4, 2, 4, 5, 1, 4, 3, 4, 0, 4, 5, 5, 1, 2, 0, 3, 0, 4, 0, 4, 4, 3, 2, 0, 4, 1, 5, 3, 5, 5, 1, 0, 2, 3, 1, 5, 3, 2, 3, 3, 5, 0, 3, 0, 3, 1, 2, 3, 4, 2, 2, 2, 3, 4, 4, 4, 4, 5, 1, 4, 5, 0, 0, 5, 0, 2, 5, 1, 5, 1, 2, 1, 0, 4, 1, 4, 0, 1, 0, 1, 2, 0, 5, 3, 5, 1, 0, 3, 2, 0, 3, 0, 5, 4, 1, 0, 2, 1, 3, 0, 5, 4, 1, 5, 2, 5, 4, 2, 0, 1, 0, 1, 1, 2, 1, 3, 4, 2, 1, 2, 5, 5, 3, 5, 4, 4, 5, 1, 0, 2, 5, 4, 3, 3, 2, 5, 5, 4, 2, 1, 4, 5, 1, 2, 1, 2, 3, 4, 4, 1, 4, 3, 4, 2, 0, 3, 3, 4, 1, 3, 2, 3, 4, 4, 5, 2, 2, 1, 0, 3, 5, 4, 0, 0, 1, 3, 1, 0, 4, 3, 5, 3, 0, 4, 5, 4, 5, 5, 2, 1, 0, 2, 2, 1, 3, 4, 2, 1, 0, 0, 0, 2, 5, 2, 4, 2, 2, 5, 3, 3, 0, 0, 1, 2, 2, 3, 1, 2, 5, 2, 3, 1, 1, 3, 2, 5, 2, 5, 3, 5, 0, 4, 1, 1, 0, 1, 2, 0, 0, 5, 0, 3, 3, 3, 4, 3, 0, 4, 4, 0, 0, 5, 5, 1, 5, 1, 4, 2, 2, 4, 1, 4, 4, 5, 5, 2, 5, 3, 3, 2, 0, 5, 5, 0, 2, 5, 5, 5, 2, 0, 2, 0, 0, 4, 1, 4, 5, 1, 4, 3, 0, 0, 4, 3, 4, 4, 0, 2, 0, 1, 4, 5, 2, 0, 5, 3, 3, 0, 1, 3, 1, 0, 5, 5, 5, 1, 3, 5, 5, 5, 2, 2, 2, 4, 4, 4, 2, 2, 5, 4, 3, 5, 2, 1, 2, 1, 4, 1, 2, 3, 2, 4, 1, 3, 2, 1, 2, 5, 2, 2, 5, 0, 4, 3, 3, 3, 0, 4, 5, 0, 0, 2, 3, 3, 1, 0, 1, 4, 2, 1, 2, 0, 2, 4, 3, 4, 5, 3, 2, 4, 1, 4, 3, 5, 3, 5, 3, 2, 3, 1, 1, 2, 2, 5, 3, 1, 3, 0, 5, 1, 4, 1, 5, 1, 0, 2, 1, 0, 2, 1, 5, 1, 3, 3, 2, 2, 0, 5, 1, 5, 5, 3, 3, 2, 1, 0, 1, 2, 2, 2, 1, 3, 2, 5, 1, 2, 1, 3, 3, 5, 4, 2, 0, 3, 3, 3, 2, 2, 5, 1, 4, 5, 0, 4, 3, 0, 5, 1, 3, 5, 3, 1, 4, 3, 5, 2, 0, 3, 4, 3, 4, 1, 1, 4, 3, 1, 3, 5, 0, 5, 0, 3, 2, 2, 4, 3, 4, 3, 4, 2, 3, 1, 0, 3, 3, 2, 1, 3, 0, 4, 0, 4, 0, 4, 5, 1, 5, 3, 0, 3, 1, 5, 0, 0, 4, 4, 3, 3, 1, 5, 4, 2, 2, 0, 5, 2, 1, 4, 4, 4, 0, 3, 4, 5, 0, 1, 1, 4, 1, 2, 4, 3, 3, 0, 1, 3, 5, 0, 2, 1, 5, 5, 5, 2, 2, 4, 0, 1, 4, 3, 2, 4, 3, 0, 0, 1, 4, 5, 3, 1, 2, 1, 1, 3, 5, 2, 3, 0, 5, 4, 0, 3, 0, 3, 4, 2, 0, 2, 4, 5, 3, 2, 4, 5, 1, 0, 1, 1, 2, 3, 2, 5, 2, 4, 4, 5, 2, 1, 1, 3, 1, 1, 0, 1, 2, 2, 1, 5, 0, 2, 4, 3, 4, 0, 4, 1, 4, 0, 4, 5, 4, 1, 1, 4, 5, 4, 0, 3, 5, 5, 5, 1, 4, 2, 4, 4, 5, 4, 1, 0, 2, 1, 5, 2, 0, 0, 0, 2, 0, 4, 1, 5, 2, 1, 2, 5, 2, 3, 2, 3, 0, 1, 2, 3, 2, 4, 0, 2, 1, 1, 1, 2, 5, 0, 2, 0, 0, 4, 1, 2, 2, 3, 1, 3, 0, 4, 1, 4, 1, 2, 1, 3, 1, 5, 3, 0, 0, 3, 3, 3, 5, 2, 5, 4, 1, 0, 2, 2, 5, 2, 5, 2, 5, 5, 3, 3, 5, 1, 0, 0, 1, 1, 4, 5, 2, 4, 4, 5, 4, 3, 4, 2, 0, 4, 0, 2, 5, 1, 0, 2, 4, 4, 2, 4, 2, 3, 0, 5, 0, 4, 4, 4, 5, 4, 3, 0, 1, 5, 3, 0, 1, 2, 4, 1, 0, 4, 5, 0, 5, 3, 1, 1, 0, 4, 4, 3, 3, 2, 1, 2, 4, 4, 1, 1, 5, 4, 5, 2, 1, 5, 3, 2, 0, 4, 2, 4, 4, 3, 0, 3, 2, 3, 2, 5, 1, 1, 3, 3, 0, 1, 1, 4, 5, 0, 0, 4, 4, 4, 3, 0, 2, 3, 5, 5, 4, 4, 5, 5, 4, 3, 2, 1, 0, 5, 3, 0, 2, 3, 5, 3, 1, 3, 0, 1, 2, 1, 2, 2, 0, 4, 5, 3, 3, 5, 5, 4, 5, 3, 3, 1, 3, 2, 5, 2, 1, 4, 5, 1, 2, 5, 2, 4, 5, 2, 4, 4, 3, 1, 2, 0, 0, 0, 4, 3, 3, 1, 1, 2, 3, 3, 4, 5, 1, 3, 3, 4, 4, 2, 3, 2, 3, 4, 3, 1, 2, 4, 5, 4, 3, 5, 0, 3, 1, 5, 0, 1, 1, 4, 4, 3, 0, 5, 1, 3, 3, 3, 3, 0, 1, 5, 0, 1, 0, 2, 4, 4, 3, 3, 1, 4, 1, 0, 1, 4, 3, 5, 3, 0, 1, 0, 5, 3, 2, 4, 4, 5, 3, 3, 0, 5, 5, 4, 0, 5, 0, 1, 2, 5, 1, 5, 4, 3, 4, 0, 2, 5, 2, 2, 5, 3, 0, 1, 5, 0, 2, 5, 3, 4, 1, 2, 3, 2, 0, 1, 3, 0, 0, 3, 2, 4, 1, 3, 4, 2, 0, 4, 1, 0, 3, 4, 0, 4, 2, 3, 5, 3, 5, 1, 2, 1, 5, 2, 1, 5, 4, 4, 3, 2, 5, 2, 0, 2, 2, 5, 0, 4, 4, 0, 5, 2, 3, 2, 1, 3, 0, 4, 0, 4, 2, 5, 2, 0, 0, 1, 4, 0, 5, 5, 5, 0, 4, 4, 4, 2, 2, 3, 0, 0, 5, 0, 0, 1, 4, 5, 5, 4, 1, 1, 5, 5, 1, 0, 1, 4, 1, 3, 2, 0, 2, 0, 0, 2, 5, 0, 4, 2, 1, 0, 0, 4, 5, 2, 3, 3, 5, 0, 3, 2, 3, 3, 1, 2, 4, 3, 4, 0, 2, 1, 0, 0, 1, 2, 4, 3, 1, 5, 0, 0, 2, 0, 1, 1, 3, 1, 0, 5, 2, 2, 0, 0, 2, 0, 5, 2, 3, 3, 0, 2, 0, 1, 0, 4, 5, 1, 4, 3, 4, 1, 5, 2, 4, 4, 4, 3, 5, 3, 3, 4, 1, 3, 2, 4, 0, 1, 0, 1, 1, 1, 4, 5, 2, 5, 3, 5, 3, 0, 0, 4, 0, 4, 5, 3, 2, 2, 2, 4, 1, 3, 2, 5, 3, 1, 1, 3, 2, 0, 0, 4, 3, 2, 4, 0, 4, 1, 4, 3, 0, 4, 1, 4, 1, 1, 3, 4, 2, 2, 5, 0, 2, 4, 4, 5, 2, 4, 5, 2, 4, 1, 5, 4, 1, 3, 0, 4, 3, 3, 3, 2, 2, 2, 1, 2, 3, 5, 1, 5, 4, 3, 5, 4, 0, 1, 3, 0, 4, 3, 3, 5, 4, 4, 2, 0, 4, 1, 5, 0, 4, 2, 4, 4, 2, 2, 2, 1, 1, 4, 3, 3, 3, 4, 3, 4, 0, 3, 1, 3, 4, 1, 3, 2, 0, 5, 4, 4, 1, 0, 5, 3, 2, 4, 1, 5, 4, 2, 3, 0, 0, 2, 4, 3, 1, 4, 3, 0, 5, 2, 1, 5, 4, 5, 5, 3, 5, 0, 0, 2, 4, 0, 0, 4, 0, 3, 4, 1, 3, 2, 2, 4, 1, 0, 1, 2, 3, 3, 4, 4, 4, 1, 0, 4, 2, 3, 4, 2, 5, 4, 2, 4, 4, 5, 1, 1, 3, 1, 3, 0, 3, 3, 4, 2, 3, 4, 3, 4, 3, 0, 3, 1, 2, 1, 5, 1, 5, 5, 3, 2, 5, 0, 1, 4, 0, 2, 4, 4, 2, 0, 1, 3, 0, 0, 4, 0, 3, 2, 3, 4, 1, 3, 5, 5, 3, 2, 1, 2, 4, 3, 2, 2, 2, 1, 3, 2, 3, 4, 4, 2, 0, 1, 2, 0, 2, 5, 5, 0, 2, 1, 3, 0, 3, 4, 4, 3, 4, 5, 2, 3, 2, 0, 5, 1, 1, 5, 3, 0, 2, 3, 4, 5, 5, 3, 1, 0, 4, 1, 4, 5, 5, 1, 2, 3, 4, 5, 0, 5, 4, 2, 1, 5, 2, 1, 3, 3, 3, 2, 2, 5, 0, 0, 2, 3, 0, 1, 2, 1, 3, 1, 3, 4, 4, 0, 1, 0, 4, 1, 0, 2, 3, 5, 5, 0, 4, 4, 5, 5, 5, 5, 1, 5, 5, 5, 1, 4, 4, 0, 5, 5, 0, 2, 4, 2, 0, 0, 5, 0, 5, 0, 1, 2, 4, 3, 1, 2, 5, 3, 5, 0, 2, 4, 4, 4, 5, 5, 3, 2, 2, 4, 0, 5, 5, 5, 3, 1, 4, 5, 0, 3, 4, 0, 1, 5, 5, 1, 4, 3, 2, 3, 2, 0, 2, 5, 1, 4, 3, 0, 2, 3, 4, 3, 3, 0, 0, 2, 3, 5, 2, 1, 1, 2, 5, 0, 3, 4, 2, 3, 3, 2, 2, 5, 3, 1, 3, 5, 2, 3, 2, 1, 0, 1, 1, 2, 1, 0, 0, 2, 0, 4, 5, 2, 1, 1, 2, 4, 3, 2, 4, 5, 3, 4, 3, 0, 4, 0, 2, 2, 3, 3, 5, 2, 0, 4, 3, 1, 5, 0, 2, 1, 1, 3, 4, 1, 5, 3, 3, 5, 5, 1, 3, 3, 3, 5, 4, 2, 0, 0, 0, 4, 5, 0, 2, 1, 3, 1, 1, 1, 0, 0, 0, 4, 2, 3, 4, 5, 4, 5, 2, 1, 2, 3, 3, 1, 3, 0, 3, 5, 3, 1, 4, 4, 0, 1, 3, 0, 4, 4, 1, 1, 3, 2, 0, 2, 1, 3, 3, 3, 3, 5, 5, 3, 0, 4, 5, 4, 5, 5, 3, 5, 3, 0, 2, 2, 4, 0, 0, 5, 3, 4, 4, 2, 1, 5, 4, 1, 4, 1, 2, 5, 3, 2, 3, 4, 2, 2, 0, 0, 5, 4, 1, 3, 5, 3, 2, 1, 5, 1, 1, 4, 1, 1, 4, 2, 0, 2, 1, 0, 2, 3, 2, 0, 0, 2, 5, 4, 3, 4, 3, 3, 2, 1, 4, 3, 3, 3, 4, 3, 5, 1, 5, 2, 2, 1, 1, 1, 2, 4, 5, 3, 0, 5, 0, 1, 1, 2, 0, 2, 4, 4, 3, 1, 3, 2, 1, 0, 4, 0, 1, 4, 1, 0, 5, 5, 5, 4, 4, 5, 2, 2, 1, 2, 0, 1, 1, 2, 0, 4, 3, 1, 2, 3, 0, 2, 4, 2, 4, 0, 4, 3, 1, 0, 3, 1, 4, 0, 4, 1, 4, 4, 3, 3, 0, 1, 1, 4, 1, 5, 1, 0, 3, 4, 1, 1, 0, 4, 1, 2, 3, 2, 2, 1, 0, 4, 1, 3, 1, 0, 4, 2, 3, 3, 1, 1, 5, 2, 2, 3, 2, 4, 4, 4, 2, 2, 3, 0, 1, 1, 4, 3, 0, 5, 1, 1, 1, 4, 4, 0, 2, 0, 1, 0, 5, 1, 5, 5, 1, 0, 0, 5, 0, 0, 0, 3, 0, 4, 3, 2, 0, 1, 2, 0, 0, 5, 0, 0, 3, 3, 5, 4, 1, 2, 3, 1, 4, 3, 2, 0, 0, 3, 3, 1, 3, 2, 2, 2, 1, 0, 2, 4, 4, 5, 0, 4, 5, 4, 4, 2, 3, 3, 2, 4, 2, 4, 0, 3, 1, 3, 2, 3, 2, 2, 5, 3, 2, 0, 5, 4, 0, 4, 4, 2, 0, 4, 1, 3, 2, 4, 2, 4, 2, 0, 5, 5, 0, 1, 3, 5, 5, 0, 3, 1, 0, 0, 3, 3, 1, 0, 5, 2, 3, 0, 4, 5, 1, 2, 2, 4, 4, 5, 3, 1, 1, 5, 0, 5, 2, 5, 2, 5, 4, 5, 4, 0, 4, 5, 5, 3, 3, 5, 4, 0, 0, 5, 2, 1, 3, 0, 0, 1, 4, 0, 3, 1, 2, 2, 4, 2, 2, 4, 2, 5, 0, 4, 3, 4, 4, 3, 0, 2, 2, 3, 5, 1, 0, 1, 2, 0, 0, 1, 4, 4, 4, 2, 5, 5, 5, 4, 5, 5, 1, 4, 2, 0, 3, 1, 5, 2, 0, 1, 3, 4, 2, 2, 0, 4, 3, 5, 4, 0, 2, 2, 1, 0, 4, 1, 4, 4, 1, 5, 0, 3, 2, 4, 3, 3, 2, 5, 3, 5, 0, 1, 4, 5, 2, 2, 5, 5, 2, 2, 4, 4, 2, 5, 1, 4, 3, 0, 4, 5, 5, 2, 0, 4, 4, 4, 3, 2, 1, 1, 2, 0, 4, 2, 0, 0, 2, 4, 4, 2, 0, 2, 5, 0, 5, 4, 3, 5, 5, 5, 0, 1, 1, 2, 0, 0, 3, 1, 1, 4, 1, 4, 1, 1, 5, 5, 2, 4, 5, 1, 2, 3, 0, 2, 1, 2, 3, 3, 2, 5, 0, 3, 3, 0, 1, 4, 0, 0, 5, 0, 0, 0, 2, 4, 5, 0, 2, 2, 3, 5, 2, 3, 2, 0, 0, 0, 2, 0, 2, 4, 5, 2, 5, 2, 3, 3, 4, 1, 1, 5, 0, 5, 2, 1, 0, 5, 1, 4, 4, 3, 2, 4, 0, 4, 2, 3, 5, 2, 4, 5, 3, 5, 1, 3, 5, 2, 0, 3, 5, 5, 2, 5, 3, 1, 0, 5, 0, 1, 5, 3, 5, 5, 0, 5, 2, 1, 5, 3, 4, 0, 3, 4, 3, 1, 1, 4, 2, 4, 3, 3, 4, 0, 4, 2, 0, 0, 2, 4, 5, 1, 1, 0, 0, 4, 3, 4, 3, 3, 2, 2, 1, 0, 0, 1, 5, 1, 0, 2, 2, 4, 0, 5, 2, 0, 1, 0, 3, 3, 3, 1, 1, 3, 4, 0, 5, 1, 5, 0, 0, 1, 3, 3, 5, 3, 3, 5, 5, 4, 3, 3, 3, 3, 2, 1, 1, 0, 5, 1, 3, 0, 0, 2, 4, 2, 4, 1, 0, 0, 3, 1, 0, 1, 0, 0, 5, 0, 5, 4, 3, 2, 4, 5, 2, 0, 3, 3, 2, 2, 4, 1, 4, 1, 1, 3, 3, 1, 5, 1, 0, 1, 2, 4, 1, 1, 3, 5, 1, 0, 0, 3, 1, 1, 3, 4, 4, 4, 4, 0, 0, 0, 5, 5, 5, 3, 4, 1, 1, 5, 0, 3, 5, 0, 5, 4, 3, 2, 5, 3, 0, 4, 0, 1, 5, 3, 0, 2, 3, 1, 3, 1, 4, 4, 2, 0, 2, 0, 1, 4, 4, 5, 4, 2, 1, 5, 3, 0, 0, 5, 0, 4, 4, 5, 2, 5, 2, 2, 2, 1, 1, 3, 2, 3, 2, 2, 0, 4, 2, 3, 3, 1, 4, 5, 0, 3, 2, 0, 2, 3, 5, 2, 5, 2, 0, 0, 1, 4, 3, 2, 2, 5, 5, 1, 2, 3, 4, 4, 3, 2, 0, 3, 4, 3, 1, 1, 3, 4, 0, 1, 2, 3, 3, 4, 1, 1, 0, 5, 1, 0, 5, 2, 0, 1, 2, 5, 1, 2, 5, 5, 2, 3, 2, 5, 4, 2, 4, 3, 2, 1, 0, 5, 5, 4, 5, 2, 3, 2, 0, 3, 0, 1, 4, 3, 0, 3, 0, 0, 5, 0, 0, 0, 0, 1, 0, 3, 1, 3, 5, 5, 0, 2, 4, 0, 3, 1, 0, 5, 3, 1, 4, 0, 0, 2, 4, 5, 2, 4, 1, 1, 0, 2, 3, 1, 5, 3, 1, 1, 2, 1, 4, 1, 4, 5, 5, 2, 1, 5, 2, 4, 4, 0, 5, 1, 0, 4, 4, 4, 2, 4, 5, 4, 2, 0, 5, 0, 5, 2, 3, 2, 5, 2, 5, 2, 0, 2, 5, 0, 4, 1, 2, 2, 0, 3, 4, 3, 5, 2, 4, 2, 4, 5, 0, 4, 5, 0, 0, 4, 2, 1, 0, 5, 3, 0, 0, 3, 3, 3, 5, 4, 2, 0, 0, 1, 2, 1, 0, 1, 1, 5, 2, 2, 4, 5, 0, 3, 3, 1, 0, 4, 2, 1, 0, 2, 4, 2, 2, 5, 3, 1, 0, 2, 1, 2, 0, 0, 3, 3, 4, 1, 2, 5, 3, 3, 4, 1, 0, 2, 4, 4, 3, 1, 2, 4, 1, 1, 0, 5, 4, 2, 5, 3, 3, 0, 0, 3, 0, 0, 1, 4, 3, 2, 4, 2, 5, 0, 0, 1, 5, 4, 2, 5, 1, 2, 0, 0, 2, 1, 5, 5, 5, 3, 1, 5, 0, 4, 2, 3, 4, 4, 3, 0, 3, 5, 3, 1, 2, 1, 3, 1, 3, 5, 1, 2, 0, 1, 3, 1, 2, 2, 3, 5, 4, 0, 4, 0, 5, 3, 5, 4, 4, 1, 4, 1, 0, 5, 4, 1, 0, 2, 5, 5, 0, 4, 1, 1, 2, 4, 1, 5, 2, 5, 4, 5, 1, 0, 4, 4, 2, 4, 1, 4, 4, 2, 2, 5, 3, 5, 3, 3, 4, 5, 2, 1, 5, 4, 3, 5, 5, 4, 4, 3, 5, 3, 2, 4, 0, 4, 3, 3, 4, 5, 2, 3, 2, 5, 4, 0, 0, 3, 3, 2, 3, 1, 0, 2, 4, 3, 1, 2, 4, 2, 2, 2, 0, 4, 1, 5, 4, 3, 0, 1, 2, 1, 3, 4, 1, 2, 3, 5, 2, 1, 2, 3, 1, 1, 1, 1, 5, 3, 4, 1, 5, 0, 5, 1, 1, 3, 2, 3, 2, 4, 1, 5, 5, 3, 4, 3, 2, 1, 3, 1, 4, 5, 3, 5, 1, 5, 1, 0, 1, 1, 3, 3, 1, 2, 3, 4, 4, 2, 4, 0, 3, 4, 2, 4, 3, 5, 3, 4, 1, 3, 2, 1, 3, 4, 1, 4, 3, 0, 0, 1, 4, 4, 5, 0, 3, 5, 0, 0, 1, 4, 3, 1, 0, 4, 0, 4, 1, 3, 3, 4, 5, 0, 0, 2, 2, 3, 4, 1, 3, 1, 4, 5, 3, 1, 2, 2, 5, 0, 5, 4, 0, 2, 5, 5, 2, 5, 1, 1, 2, 4, 2, 0, 4, 0, 0, 5, 2, 2, 4, 5, 3, 3, 0, 1, 2, 4, 2, 3, 2, 0, 0, 1, 1, 3, 2, 1, 1, 5, 0, 0, 1, 1, 3, 0, 1, 3, 5, 5, 1, 0, 5, 3, 1, 0, 3, 1, 4, 2, 0, 0, 1, 5, 0, 4, 2, 3, 3, 5, 5, 3, 3, 2, 3, 1, 3, 0, 3, 2, 1, 2, 3, 3, 2, 2, 1, 0, 5, 5, 4, 4, 5, 1, 3, 2, 4, 5, 1, 4, 5, 3, 1, 0, 1, 1, 0, 0, 5, 5, 2, 2, 2, 1, 3, 4, 3, 5, 4, 3, 1, 3, 4, 2, 0, 0, 0, 3, 2, 3, 4, 1, 3, 1, 4, 5, 4, 3, 1, 3, 0, 0, 4, 5, 0, 3, 4, 3, 1, 3, 0, 3, 4, 0, 3, 1, 3, 5, 2, 1, 2, 0, 2, 1, 1, 5, 0, 5, 5, 3, 3, 0, 4, 4, 1, 3, 2, 0, 2, 4, 0, 2, 0, 2, 2, 1, 4, 1, 5, 3, 5, 2, 2, 0, 5, 2, 3, 1, 4, 2, 1, 2, 5, 2, 4, 5, 4, 2, 4, 0, 2, 1, 0, 2, 1, 0, 3, 2, 5, 0, 0, 4, 0, 5, 0, 3, 1, 0, 5, 1, 2, 1, 2, 0, 5, 5, 5, 1, 2, 0, 2, 2, 5, 5, 0, 5, 5, 1, 5, 2, 1, 1, 0, 2, 1, 2, 4, 2, 1, 5, 3, 2, 2, 1, 4, 1, 1, 2, 4, 3, 4, 2, 3, 2, 1, 2, 3, 2, 4, 2, 4, 4, 5, 5, 5, 3, 0, 1, 1, 3, 3, 4, 2, 5, 1, 0, 0, 0, 1, 3, 2, 0, 0, 0, 3, 3, 2, 4, 0, 5, 4, 1, 5, 3, 0, 5, 3, 3, 1, 2, 0, 3, 1, 3, 5, 2, 0, 2, 1, 0, 3, 3, 1, 1, 2, 4, 5, 1, 5, 4, 1, 4, 4, 1, 1, 3, 3, 1, 3, 4, 4, 3, 5, 4, 5, 2, 2, 1, 2, 3, 2, 5, 3, 2, 4, 1, 1, 0, 2, 4, 1, 1, 3, 2, 4, 0, 4, 0, 4, 3, 4, 3, 0, 1, 3, 2, 1, 1, 4, 2, 1, 1, 3, 5, 0, 3, 5, 2, 5, 4, 4, 0, 3, 2, 3, 5, 3, 0, 3, 5, 4, 1, 4, 1, 3, 1, 5, 3, 5, 2, 1, 0, 0, 2, 1, 3, 0, 2, 1, 0, 0, 4, 3, 4, 0, 2, 5, 3, 1, 5, 0, 3, 4, 1, 5, 3, 2, 4, 1, 5, 2, 1, 3, 4, 4, 0, 5, 1, 5, 2, 3, 5, 2, 0, 5, 5, 5, 5, 1, 5, 2, 4, 4, 5, 5, 5, 0, 3, 5, 5, 2, 1, 3, 5, 3, 4, 5, 1, 1, 3, 0, 1, 4, 0, 2, 0, 1, 1, 1, 1, 4, 1, 3, 0, 3, 4, 5, 3, 0, 3, 2, 2, 0, 0, 3, 1, 2, 4, 2, 0, 0, 0, 5, 1, 0, 3, 2, 5, 5, 5, 5, 2, 0, 4, 2, 3, 2, 4, 4, 4, 1, 5, 3, 1, 2, 5, 3, 4, 4, 1, 1, 4, 5, 1, 0, 1, 3, 4, 3, 5, 3, 5, 0, 3, 3, 5, 1, 3, 1, 2, 0, 3, 5, 4, 4, 5, 1, 3, 4, 4, 5, 5, 4, 1, 5, 5, 4, 4, 3, 4, 2, 0, 0, 4, 3, 1, 1, 3, 4, 4, 4, 2, 1, 2, 2, 5, 5, 4, 1, 3, 4, 3, 3, 1, 5, 1, 4, 0, 5, 1, 4, 2, 2, 3, 5, 0, 4, 3, 2, 1, 5, 4, 0, 1, 5, 5, 2, 5, 4, 3, 0, 3, 2, 1, 1, 0, 3, 5, 1, 0, 0, 3, 4, 5, 3, 3, 4, 0, 3, 3, 0, 2, 0, 5, 0, 0, 1, 0, 0, 3, 3, 5, 0, 5, 0, 5, 5, 0, 5, 0, 4, 1, 0, 4, 2, 2, 5, 1, 4, 2, 4, 2, 2, 0, 5, 3, 3, 5, 4, 5, 5, 5, 0, 1, 0, 4, 3, 3, 1, 3, 0, 2, 0, 2, 5, 0, 2, 3, 1, 4, 3, 0, 1, 4, 1, 4, 0, 0, 3, 5, 0, 3, 4, 0, 1, 4, 0, 5, 5, 3, 1, 3, 0, 3, 1, 4, 1, 4, 0, 2, 0, 4, 4, 1, 1, 4, 2, 5, 0, 4, 3, 2, 0, 0, 2, 0, 3, 3, 1, 5, 4, 2, 3, 4, 5, 2, 2, 4, 5, 1, 2, 3, 4, 2, 1, 4, 1, 2, 4, 1, 2, 5, 3, 0, 4, 0, 5, 2, 1, 2, 2, 3, 3, 2, 5, 2, 1, 3, 3, 3, 0, 1, 4, 4, 1, 0, 2, 2, 1, 1, 5, 1, 2, 3, 5, 4, 5, 3, 5, 3, 2, 4, 0, 4, 5, 2, 5, 0, 1, 1, 4, 1, 3, 3, 5, 2, 4, 2, 1, 2, 5, 2, 5, 5, 2, 3, 0, 4, 5, 2, 3, 3, 5, 5, 2, 5, 4, 1, 1, 3, 0, 4, 3, 0, 4, 1, 5, 5, 1, 5, 4, 3, 5, 1, 4, 4, 4, 4, 3, 3, 4, 1, 5, 1, 5, 2, 0, 1, 3, 5, 2, 5, 4, 0, 1, 2, 5, 1, 0, 0, 2, 5, 4, 4, 5, 0, 0, 4, 1, 2, 5, 5, 2, 5, 3, 5, 4, 3, 5, 3, 0, 4, 0, 5, 4, 3, 1, 2, 1, 1, 3, 0, 4, 0, 4, 5, 0, 0, 1, 1, 2, 3, 2, 4, 2, 5, 2, 5, 3, 2, 1, 1, 1, 0, 1, 5, 5, 3, 3, 5, 1, 4, 4, 2, 4, 2, 0, 3, 4, 4, 5, 4, 1, 3, 3, 2, 1, 3, 4, 4, 4, 3, 4, 4, 5, 4, 0, 3, 3, 5, 3, 2, 5, 5, 0, 4, 1, 1, 1, 4, 0, 5, 1, 2, 4, 4, 2, 5, 2, 5, 1, 1, 1, 3, 1, 1, 1, 3, 1, 3, 0, 2, 3, 5, 2, 4, 3, 3, 2, 2, 5, 4, 4, 2, 5, 2, 5, 5, 5, 3, 0, 5, 0, 4, 3, 4, 2, 1, 5, 2, 4, 5, 5, 2, 5, 4, 4, 3, 3, 5, 4, 5, 4, 1, 3, 1, 4, 5, 2, 2, 5, 0, 3, 2, 3, 1, 0, 1, 0, 5, 4, 0, 0, 3, 2, 1, 3, 0, 0, 0, 2, 3, 1, 4, 1, 0, 4, 5, 0, 4, 5, 3, 2, 2, 0, 0, 3, 3, 3, 4, 2, 4, 2, 2, 5, 5, 0, 2, 2, 3, 5, 3, 0, 4, 0, 0, 5, 1, 0, 5, 4, 3, 1, 3, 4, 5, 5, 0, 5, 3, 5, 4, 4, 2, 4, 3, 2, 3, 1, 1, 4, 1, 5, 2, 3, 4, 1, 3, 1, 3, 3, 1, 0, 2, 4, 2, 0, 5, 2, 4, 3, 3, 2, 0, 3, 2, 0, 5, 5, 1, 2, 3, 5, 2, 1, 3, 4, 2, 0, 5, 4, 2, 4, 2, 3, 5, 5, 0, 1, 4, 5, 4, 4, 2, 3, 3, 0, 5, 0, 2, 4, 2, 1, 3, 4, 2, 0, 4, 2, 0, 0, 0, 1, 3, 4, 5, 5, 0, 1, 4, 3, 0, 5, 0, 3, 1, 5, 4, 1, 0, 0, 3, 1, 3, 3, 1, 0, 5, 3, 3, 0, 4, 2, 5, 1, 3, 3, 0, 0, 4, 4, 0, 0, 3, 1, 1, 0, 1, 2, 0, 5, 4, 2, 3, 3, 3, 5, 5, 4, 4, 2, 4, 2, 1, 0, 1, 1, 5, 3, 2, 1, 1, 2, 3, 2, 3, 1, 2, 3, 3, 2, 0, 0, 5, 2, 5, 3, 2, 0, 5, 3, 4, 5, 2, 5, 4, 1, 1, 1, 3, 2, 0, 4, 2, 3, 1, 4, 1, 3, 0, 0, 1, 5, 1, 5, 2, 5, 1, 2, 0, 3, 1, 5, 2, 4, 5, 2, 2, 2, 0, 0, 4, 5, 5, 2, 1, 3, 3, 5, 0, 1, 2, 5, 0, 2, 4, 1, 1, 2, 2, 1, 5, 5, 1, 0, 0, 2, 1, 2, 3, 0, 1, 4, 4, 1, 2, 4, 2, 2, 3, 2, 1, 0, 3, 5, 1, 2, 2, 0, 1, 5, 1, 2, 1, 4, 5, 4, 4, 4, 0, 3, 1, 1, 2, 1, 4, 1, 1, 5, 0, 4, 1, 4, 4, 5, 5, 2, 0, 2, 1, 2, 2, 3, 2, 4, 2, 3, 0, 5, 0, 4, 0, 4, 1, 0, 2, 1, 2, 4, 5, 2, 2, 4, 2, 0, 1, 2, 1, 0, 2, 3, 4, 4, 2, 0, 1, 5, 3, 5, 0, 2, 2, 5, 5, 2, 5, 5, 1, 2, 3, 3, 0, 4, 1, 0, 5, 3, 5, 0, 2, 1, 2, 4, 5, 2, 5, 4, 2, 5, 0, 4, 1, 5, 5, 2, 2, 2, 5, 5, 5, 0, 1, 1, 5, 2, 2, 0, 1, 4, 4, 5, 1, 3, 1, 0, 0, 3, 0, 3, 2, 0, 3, 1, 4, 3, 3, 5, 5, 0, 4, 1, 1, 5, 2, 3, 2, 3, 1, 2, 0, 5, 2, 3, 0, 5, 0, 2, 4, 2, 1, 0, 4, 2, 1, 4, 5, 2, 0, 2, 5, 3, 4, 2, 5, 0, 0, 0, 3, 4, 0, 4, 5, 4, 4, 4, 4, 0, 5, 2, 3, 3, 5, 5, 1, 2, 5, 0, 3, 0, 2, 2, 0, 1, 2, 2, 4, 3, 2, 1, 5, 2, 5, 1, 1, 2, 1, 3, 4, 5, 3, 3, 2, 3, 1, 4, 3, 0, 4, 1, 0, 2, 5, 0, 0, 0, 0, 2, 5, 0, 5, 3, 0, 2, 0, 1, 0, 1, 3, 1, 0, 3, 4, 1, 0, 5, 1, 4, 5, 1, 3, 1, 4, 5, 2, 0, 1, 0, 1, 5, 0, 5, 5, 0, 2, 2, 5, 4, 0, 5, 0, 5, 1, 2, 4, 2, 1, 5, 1, 3, 1, 1, 5, 5, 2, 5, 3, 1, 2, 4, 4, 2, 1, 0, 4, 2, 1, 5, 0, 1, 5, 3, 1, 2, 2, 5, 3, 0, 2, 0, 5, 5, 0, 0, 2, 1, 4, 1, 4, 4, 0, 3, 1, 2, 2, 5, 0, 4, 1, 4, 2, 0, 1, 4, 3, 2, 5, 1, 5, 4, 3, 0, 4, 0, 5, 1, 5, 0, 3, 0, 0, 2, 0, 2, 0, 0, 0, 1, 3, 2, 1, 3, 0, 0, 3, 1, 5, 4, 3, 4, 5, 2, 0, 1, 5, 3, 5, 4, 4, 4, 3, 1, 4, 0, 4, 0, 1, 0, 5, 2, 0, 2, 5, 1, 4, 3, 2, 4, 1, 1, 4, 3, 1, 0, 3, 4, 3, 4, 3, 3, 1, 5, 0, 1, 1, 3, 4, 0, 3, 4, 3, 1, 1, 3, 0, 4, 0, 5, 4, 5, 3, 2, 0, 5, 2, 1, 1, 3, 4, 1, 0, 4, 0, 0, 4, 2, 0, 2, 0, 0, 4, 1, 2, 1, 4, 5, 5, 1, 1, 3, 2, 3, 2, 1, 3, 2, 5, 5, 1, 1, 5, 1, 2, 2, 1, 4, 4, 3, 2, 0, 1, 5, 5, 0, 4, 5, 2, 2, 3, 2, 5, 3, 0, 4, 0, 4, 3, 5, 3, 1, 1, 4, 4, 2, 3, 0, 3, 2, 1, 3, 3, 4, 5, 5, 3, 3, 0, 2, 1, 2, 2, 5, 3, 2, 0, 4, 2, 2, 1, 0, 1, 3, 1, 4, 1, 0, 1, 2, 1, 3, 4, 0, 0, 1, 5, 4, 4, 3, 5, 2, 1, 3, 1, 3, 2, 4, 1, 5, 5, 0, 2, 2, 5, 0, 5, 4, 2, 2, 0, 1, 4, 1, 3, 2, 2, 1, 0, 3, 2, 3, 0, 4, 5, 0, 5, 0, 3, 2, 5, 4, 4, 3, 4, 0, 3, 2, 3, 3, 5, 5, 4, 0, 4, 1, 0, 3, 3, 1, 0, 1, 3, 3, 1, 4, 5, 3, 5, 5, 4, 2, 0, 2, 3, 2, 2, 2, 1, 5, 4, 5, 1, 3, 5, 0, 4, 3, 2, 4, 1, 3, 0, 5, 1, 5, 0, 2, 2, 2, 2, 5, 1, 2, 0, 1, 1, 1, 5, 1, 1, 0, 1, 4, 5, 1, 5, 5, 3, 5, 0, 5, 5, 3, 4, 1, 1, 0, 2, 4, 5, 1, 2, 5, 4, 4, 2, 0, 5, 5, 2, 0, 4, 5, 2, 1, 5, 2, 1, 1, 3, 1, 0, 0, 5, 1, 4, 5, 4, 5, 1, 4, 4, 1, 1, 2, 2, 3, 2, 4, 3, 5, 1, 0, 1, 4, 2, 5, 4, 0, 3, 4, 5, 0, 1, 1, 4, 5, 2, 4, 4, 1, 3, 4, 2, 1, 3, 2, 2, 1, 1, 0, 3, 2, 1, 3, 3, 3, 0, 0, 5, 2, 5, 5, 2, 1, 1, 1, 3, 5, 1, 2, 3, 5, 4, 5, 5, 3, 3, 2, 3, 5, 0, 0, 0, 3, 3, 1, 3, 0, 2, 4, 0, 2, 0, 2, 5, 1, 3, 4, 0, 0, 1, 2, 0, 2, 1, 0, 4, 3, 2, 5, 5, 4, 1, 0, 5, 3, 3, 2, 5, 5, 2, 0, 2, 4, 3, 2, 2, 5, 2, 0, 4, 5, 3, 5, 3, 2, 2, 5, 3, 4, 2, 5, 1, 1, 2, 4, 2, 3, 5, 2, 0, 5, 1, 1, 4, 3, 0, 3, 1, 0, 4, 0, 2, 3, 0, 3, 5, 4, 1, 5, 0, 3, 2, 3, 1, 5, 4, 2, 0, 2, 1, 5, 3, 4, 4, 4, 5, 5, 0, 4, 1, 4, 0, 2, 0, 1, 0, 5, 4, 1, 1, 1, 1, 3, 5, 1, 0, 2, 1, 5, 3, 5, 4, 0, 0, 0, 3, 0, 4, 2, 4, 0, 1, 5, 3, 2, 4, 5, 1, 1, 2, 4, 4, 1, 2, 2, 5, 1, 1, 5, 1, 5, 1, 5, 1, 3, 0, 0, 0, 0, 2, 1, 0, 0, 5, 2, 5, 2, 4, 2, 3, 3, 3, 4, 5, 2, 1, 0, 2, 0, 1, 2, 3, 5, 5, 3, 1, 0, 0, 0, 5, 4, 2, 0, 2, 0, 1, 1, 4, 3, 2, 3, 5, 4, 5, 2, 3, 5, 0, 2, 0, 3, 0, 3, 1, 1, 5, 2, 3, 0, 3, 4, 3, 4, 4, 3, 4, 1, 5, 3, 5, 2, 1, 0, 5, 3, 0, 3, 1, 4, 4, 3, 2, 5, 5, 2, 5, 0, 3, 1, 3, 5, 0, 0, 5, 5, 1, 0, 5, 1, 0, 4, 2, 0, 2, 3, 1, 2, 5, 1, 1, 2, 4, 4, 2, 2, 1, 4, 1, 4, 5, 1, 5, 1, 2, 1, 0, 3, 4, 2, 0, 3, 5, 3, 4, 2, 0, 1, 3, 4, 4, 5, 4, 5, 0, 5, 5, 5, 5, 0, 1, 5, 2, 0, 0, 2, 5, 5, 4, 0, 0, 0, 0, 3, 4, 0, 0, 1, 5, 0, 3, 4, 4, 1, 2, 4, 0, 3, 0, 3, 2, 2, 1, 3, 3, 5, 5, 5, 4, 1, 5, 4, 5, 0, 3, 5, 4, 0, 2, 5, 0, 3, 1, 4, 0, 3, 3, 3, 0, 4, 0, 2, 1, 0, 2, 3, 4, 0, 4, 3, 2, 4, 2, 5, 2, 4, 5, 1, 4, 4, 3, 1, 2, 1, 3, 2, 2, 4, 5, 4, 1, 0, 3, 5, 0, 4, 3, 5, 3, 0, 1, 4, 4, 5, 5, 2, 2, 5, 3, 3, 3, 3, 1, 4, 1, 3, 3, 1, 1, 2, 5, 1, 4, 0, 4, 5, 3, 4, 0, 5, 4, 4, 5, 2, 3, 2, 0, 1, 2, 3, 2, 3, 4, 5, 0, 4, 4, 5, 1, 3, 0, 3, 2, 1, 4, 4, 5, 0, 4, 0, 0, 1, 2, 4, 2, 0, 3, 5, 4, 0, 5, 3, 4, 1, 2, 3, 3, 0, 5, 5, 4, 0, 1, 5, 2, 3, 3, 5, 5, 2, 5, 4, 4, 1, 2, 2, 4, 3, 5, 5, 0, 3, 0, 3, 4, 1, 3, 5, 5, 5, 3, 1, 4, 1, 3, 5, 5, 4, 4, 0, 4, 4, 2, 0, 0, 5, 0, 5, 0, 0, 0, 1, 4, 0, 3, 3, 3, 4, 4, 3, 4, 0, 3, 4, 5, 2, 5, 4, 3, 4, 1, 3, 3, 2, 4, 3, 5, 4, 1, 5, 1, 1, 3, 1, 2, 3, 3, 0, 0, 3, 1, 0, 0, 1, 1, 1, 5, 2, 5, 4, 2, 0, 3, 1, 1, 5, 4, 4, 3, 1, 3, 4, 5, 0, 0, 4, 4, 3, 5, 2, 0, 3, 1, 3, 0, 0, 4, 4, 2, 2, 3, 5, 1, 1, 5, 5, 5, 0, 5, 3, 1, 0, 5, 0, 4, 3, 3, 3, 1, 0, 1, 5, 0, 2, 2, 3, 5, 0, 1, 0, 4, 1, 3, 0, 0, 5, 2, 4, 5, 4, 1, 1, 3, 0, 5, 0, 3, 5, 2, 4, 4, 5, 5, 3, 1, 1, 5, 5, 1, 4, 1, 5, 0, 2, 4, 0, 2, 1, 3, 4, 5, 4, 4, 0, 2, 3, 2, 0, 5, 0, 0, 3, 4, 0, 2, 2, 2, 3, 0, 5, 2, 4, 1, 1, 1, 5, 5, 0, 5, 5, 1, 3, 4, 0, 3, 4, 3, 2, 1, 1, 5, 2, 2, 1, 0, 0, 1, 0, 4, 0, 3, 2, 1, 2, 0, 0, 4, 3, 0, 1, 5, 2, 4, 0, 1, 4, 1, 3, 2, 2, 1, 1, 0, 4, 0, 3, 1, 0, 1, 4, 0, 1, 3, 1, 3, 2, 1, 1, 3, 3, 1, 2, 0, 1, 4, 5, 5, 0, 3, 1, 4, 0, 5, 1, 0, 5, 0, 1, 5, 0, 1, 5, 1, 1, 1, 3, 4, 2, 4, 1, 5, 2, 1, 0, 1, 5, 4, 2, 3, 0, 4, 0, 1, 0, 3, 3, 0, 4, 4, 3, 1, 4, 4, 3, 0, 2, 5, 1, 0, 4, 0, 3, 1, 3, 0, 3, 0, 2, 1, 2, 5, 4, 5, 1, 0, 1, 3, 4, 1, 4, 5, 5, 3, 1, 1, 2, 2, 2, 0, 2, 2, 5, 4, 0, 1, 1, 1, 3, 4, 0, 2, 0, 2, 0, 4, 4, 1, 0, 5, 5, 3, 4, 1, 1, 2, 2, 0, 2, 4, 3, 5, 5, 0, 1, 4, 2, 2, 3, 1, 0, 1, 0, 1, 2, 0, 2, 0, 5, 2, 5, 5, 2, 3, 5, 5, 4, 4, 3, 5, 3, 5, 2, 5, 4, 3, 4, 5, 3, 2, 4, 5, 0, 1, 4, 4, 5, 2, 1, 1, 0, 2, 3, 3, 5, 1, 1, 3, 3, 0, 2, 0, 5, 5, 0, 3, 4, 2, 4, 1, 1, 4, 3, 3, 2, 4, 3, 2, 4, 2, 2, 1, 2, 2, 5, 5, 2, 5, 1, 1, 5, 4, 4, 5, 4, 4, 1, 1, 1, 5, 5, 2, 0, 3, 4, 0, 0, 5, 2, 4, 0, 5, 3, 0, 3, 5, 4, 5, 0, 0, 0, 4, 1, 2, 0, 1, 3, 4, 0, 5, 4, 4, 4, 2, 4, 3, 0, 2, 0, 3, 3, 5, 0, 5, 2, 2, 4, 0, 2, 2, 3, 4, 5, 5, 4, 3, 5, 3, 3, 4, 4, 1, 0, 1, 4, 1, 1, 1, 0, 1, 2, 4, 5, 1, 4, 4, 3, 0, 4, 4, 2, 5, 2, 5, 4, 4, 4, 3, 5, 5, 2, 1, 0, 2, 4, 5, 3, 1, 2, 3, 2, 1, 1, 0, 5, 5, 4, 0, 5, 0, 1, 4, 3, 3, 5, 3, 4, 4, 5, 2, 0, 4, 4, 1, 3, 1, 2, 1, 1, 3, 0, 1, 4, 4, 0, 1, 5, 2, 4, 1, 1, 0, 1, 5, 0, 1, 4, 0, 2, 1, 2, 3, 4, 1, 1, 3, 0, 4, 2, 2, 5, 0, 4, 3, 2, 2, 4, 2, 4, 1, 0, 5, 2, 5, 4, 2, 1, 1, 3, 5, 1, 3, 1, 1, 4, 2, 2, 4, 1, 2, 5, 3, 0, 4, 4, 0, 3, 3, 1, 1, 1, 1, 4, 1, 5, 2, 3, 2, 3, 5, 2, 4, 1, 5, 3, 2, 3, 5, 0, 1, 5, 2, 5, 1, 0, 1, 4, 0, 5, 3, 2, 0, 1, 4, 4, 4, 4, 0, 0, 5, 0, 1, 5, 1, 5, 3, 5, 1, 1, 1, 1, 4, 1, 0, 2, 5, 2, 2, 1, 0, 4, 4, 5, 5, 5, 5, 4, 3, 1, 4, 4, 1, 0, 3, 3, 1, 4, 1, 5, 5, 5, 5, 1, 3, 2, 4, 4, 5, 2, 4, 4, 0, 3, 4, 4, 3, 3, 1, 2, 4, 2, 3, 3, 0, 0, 4, 4, 4, 4, 3, 1, 0, 3, 4, 5, 0, 4, 3]\n"
     ]
    }
   ],
   "execution_count": 22
  },
  {
   "metadata": {
    "ExecuteTime": {
     "end_time": "2025-05-26T09:47:16.645105Z",
     "start_time": "2025-05-26T09:47:16.641802Z"
    }
   },
   "cell_type": "code",
   "source": "test = X",
   "id": "94f1f65d179776f",
   "outputs": [],
   "execution_count": 23
  },
  {
   "metadata": {
    "ExecuteTime": {
     "end_time": "2025-05-26T09:47:16.744501Z",
     "start_time": "2025-05-26T09:47:16.740945Z"
    }
   },
   "cell_type": "code",
   "source": "print(X[0][0])",
   "id": "7ffe9d74c9decee3",
   "outputs": [
    {
     "name": "stdout",
     "output_type": "stream",
     "text": [
      "-0.06057995\n"
     ]
    }
   ],
   "execution_count": 24
  },
  {
   "metadata": {
    "ExecuteTime": {
     "end_time": "2025-05-26T09:47:16.835221Z",
     "start_time": "2025-05-26T09:47:16.828065Z"
    }
   },
   "cell_type": "code",
   "source": [
    "print(y)\n",
    "y2 = np.array(output, dtype=np.float32)\n",
    "print(y2)"
   ],
   "id": "36b11e5fd591d879",
   "outputs": [
    {
     "name": "stdout",
     "output_type": "stream",
     "text": [
      "[['surprise']\n",
      " ['love']\n",
      " ['surprise']\n",
      " ...\n",
      " ['surprise']\n",
      " ['anger']\n",
      " ['joy']]\n",
      "[0. 1. 0. ... 0. 4. 3.]\n"
     ]
    }
   ],
   "execution_count": 25
  },
  {
   "metadata": {
    "ExecuteTime": {
     "end_time": "2025-05-26T09:47:17.613181Z",
     "start_time": "2025-05-26T09:47:16.953297Z"
    }
   },
   "cell_type": "code",
   "source": [
    "\n",
    "\n",
    "# Create Dense layer with 2 input features and 64 output values\n",
    "dense1 = Layer_Dense(384, 64, weight_regularizer_l2=5e-4,\n",
    "                            bias_regularizer_l2=5e-4)\n",
    "\n",
    "# Create ReLU activation (to be used with Dense layer):\n",
    "activation1 = Activation_ReLU()\n",
    "\n",
    "# Create second Dense layer with 64 input features (as we take output\n",
    "# of previous layer here) and 1 output value\n",
    "dense2 = Layer_Dense(64, 1)\n",
    "\n",
    "# Create Sigmoid activation:\n",
    "activation2 = Activation_Sigmoid()\n",
    "\n",
    "# Create loss function\n",
    "loss_function = Loss_BinaryCrossentropy()\n",
    "\n",
    "# Create optimizer\n",
    "optimizer = Optimizer_Adam(decay=5e-7)#\n",
    "\n",
    "losses = []\n",
    "accuracies = []\n",
    "learning_rates = []\n",
    "\n",
    "# Train in loop\n",
    "for epoch in range(1000):\n",
    "\n",
    "    # Perform a forward pass of our training data through this layer\n",
    "    dense1.forward(X)\n",
    "\n",
    "    # Perform a forward pass through activation function\n",
    "    # takes the output of first dense layer here\n",
    "    activation1.forward(dense1.output)\n",
    "\n",
    "    # Perform a forward pass through second Dense layer\n",
    "    # takes outputs of activation function\n",
    "    # of first layer as inputs\n",
    "    dense2.forward(activation1.output)\n",
    "\n",
    "    # Perform a forward pass through activation function\n",
    "    # takes the output of second dense layer here\n",
    "    activation2.forward(dense2.output)\n",
    "\n",
    "    # Calculate the data loss\n",
    "    data_loss = loss_function.calculate(activation2.output, y)\n",
    "    # Calculate regularization penalty\n",
    "    regularization_loss = \\\n",
    "        loss_function.regularization_loss(dense1) + \\\n",
    "        loss_function.regularization_loss(dense2)\n",
    "\n",
    "    # Calculate overall loss\n",
    "    loss = data_loss + regularization_loss\n",
    "    losses.append(loss)\n",
    "\n",
    "    # Calculate accuracy from output of activation2 and targets\n",
    "    # Part in the brackets returns a binary mask - array consisting\n",
    "    # of True/False values, multiplying it by 1 changes it into array\n",
    "    # of 1s and 0s\n",
    "    predictions = (activation2.output > 0.5) * 1\n",
    "    accuracy = np.mean(predictions==y)\n",
    "    accuracies.append(accuracy)\n",
    "\n",
    "    if not epoch % 500:\n",
    "        print(f'epoch: {epoch}, ' +\n",
    "              f'acc: {accuracy:.3f}, '+\n",
    "              f'loss: {loss:.3f}, ' +\n",
    "              f'data_loss: {data_loss:.3f}, ' +\n",
    "              f'reg_loss: {regularization_loss:.3f}, ' +\n",
    "              f'lr: {optimizer.current_learning_rate:.8f}')\n",
    "\n",
    "    # Backward pass\n",
    "    loss_function.backward(activation2.output, y)\n",
    "    activation2.backward(loss_function.dinputs)\n",
    "    dense2.backward(activation2.dinputs)\n",
    "    activation1.backward(dense2.dinputs)\n",
    "    dense1.backward(activation1.dinputs)\n",
    "    \n",
    "    learning_rates.append(optimizer.current_learning_rate)\n",
    "\n",
    "    # Update weights and biases\n",
    "    optimizer.pre_update_params()\n",
    "    optimizer.update_params(dense1)\n",
    "    optimizer.update_params(dense2)\n",
    "    optimizer.post_update_params()\n",
    "\n",
    "\n",
    "# Validate the model\n",
    "\n",
    "# Create test dataset\n",
    "X_test, y_test = spiral_data(samples=100, classes=2)\n",
    "\n",
    "# Reshape labels to be a list of lists\n",
    "# Inner list contains one output (either 0 or 1)\n",
    "# per each output neuron, 1 in this case\n",
    "y_test = y_test.reshape(-1, 1)\n",
    "\n",
    "\n",
    "# Perform a forward pass of our testing data through this layer\n",
    "dense1.forward(X_test)\n",
    "\n",
    "# Perform a forward pass through activation function\n",
    "# takes the output of first dense layer here\n",
    "activation1.forward(dense1.output)\n",
    "\n",
    "# Perform a forward pass through second Dense layer\n",
    "# takes outputs of activation function of first layer as inputs\n",
    "dense2.forward(activation1.output)\n",
    "\n",
    "# Perform a forward pass through activation function\n",
    "# takes the output of second dense layer here\n",
    "activation2.forward(dense2.output)\n",
    "\n",
    "# Calculate the data loss\n",
    "loss = loss_function.calculate(activation2.output, y_test)\n",
    "\n",
    "# Calculate accuracy from output of activation2 and targets\n",
    "# Part in the brackets returns a binary mask - array consisting of\n",
    "# True/False values, multiplying it by 1 changes it into array\n",
    "# of 1s and 0s\n",
    "predictions = (activation2.output > 0.5) * 1\n",
    "accuracy = np.mean(predictions==y_test)\n",
    "\n",
    "print(f'validation, acc: {accuracy:.3f}, loss: {loss:.3f}')\n",
    "\n",
    "\n",
    "df = pd.DataFrame([losses, accuracies, learning_rates]).T\n",
    "df = df.rename({0: \"loss\", 1: \"accuracy\", 2: \"learning_rate\"}, axis=\"columns\")\n",
    "df.plot(subplots=True, sharex=True, sharey=False)"
   ],
   "id": "72cbcabc433590a6",
   "outputs": [
    {
     "ename": "TypeError",
     "evalue": "can't multiply sequence by non-int of type 'float'",
     "output_type": "error",
     "traceback": [
      "\u001B[31m---------------------------------------------------------------------------\u001B[39m",
      "\u001B[31mTypeError\u001B[39m                                 Traceback (most recent call last)",
      "\u001B[36mCell\u001B[39m\u001B[36m \u001B[39m\u001B[32mIn[26]\u001B[39m\u001B[32m, line 45\u001B[39m\n\u001B[32m     42\u001B[39m activation2.forward(dense2.output)\n\u001B[32m     44\u001B[39m \u001B[38;5;66;03m# Calculate the data loss\u001B[39;00m\n\u001B[32m---> \u001B[39m\u001B[32m45\u001B[39m data_loss = \u001B[43mloss_function\u001B[49m\u001B[43m.\u001B[49m\u001B[43mcalculate\u001B[49m\u001B[43m(\u001B[49m\u001B[43mactivation2\u001B[49m\u001B[43m.\u001B[49m\u001B[43moutput\u001B[49m\u001B[43m,\u001B[49m\u001B[43m \u001B[49m\u001B[43my\u001B[49m\u001B[43m)\u001B[49m\n\u001B[32m     46\u001B[39m \u001B[38;5;66;03m# Calculate regularization penalty\u001B[39;00m\n\u001B[32m     47\u001B[39m regularization_loss = \\\n\u001B[32m     48\u001B[39m     loss_function.regularization_loss(dense1) + \\\n\u001B[32m     49\u001B[39m     loss_function.regularization_loss(dense2)\n",
      "\u001B[36mCell\u001B[39m\u001B[36m \u001B[39m\u001B[32mIn[8]\u001B[39m\u001B[32m, line 4\u001B[39m, in \u001B[36mLoss.calculate\u001B[39m\u001B[34m(self, output, y)\u001B[39m\n\u001B[32m      2\u001B[39m \u001B[38;5;28;01mdef\u001B[39;00m\u001B[38;5;250m \u001B[39m\u001B[34mcalculate\u001B[39m(\u001B[38;5;28mself\u001B[39m, output, y):\n\u001B[32m      3\u001B[39m     \u001B[38;5;66;03m# Calculate the per sample loss\u001B[39;00m\n\u001B[32m----> \u001B[39m\u001B[32m4\u001B[39m     samples_losses = \u001B[38;5;28;43mself\u001B[39;49m\u001B[43m.\u001B[49m\u001B[43mforward\u001B[49m\u001B[43m(\u001B[49m\u001B[43moutput\u001B[49m\u001B[43m,\u001B[49m\u001B[43m \u001B[49m\u001B[43my\u001B[49m\u001B[43m)\u001B[49m\n\u001B[32m      6\u001B[39m     \u001B[38;5;66;03m# Calculate the mean loss and return it\u001B[39;00m\n\u001B[32m      7\u001B[39m     loss = np.mean(samples_losses)\n",
      "\u001B[36mCell\u001B[39m\u001B[36m \u001B[39m\u001B[32mIn[20]\u001B[39m\u001B[32m, line 12\u001B[39m, in \u001B[36mLoss_BinaryCrossentropy.forward\u001B[39m\u001B[34m(self, y_pred, y_true)\u001B[39m\n\u001B[32m      9\u001B[39m y_pred_clipped = np.clip(y_pred, \u001B[32m1e-7\u001B[39m, \u001B[32m1\u001B[39m - \u001B[32m1e-7\u001B[39m)\n\u001B[32m     11\u001B[39m \u001B[38;5;66;03m# Calculate sample-wise loss\u001B[39;00m\n\u001B[32m---> \u001B[39m\u001B[32m12\u001B[39m sample_losses = -(\u001B[43my_true\u001B[49m\u001B[43m \u001B[49m\u001B[43m*\u001B[49m\u001B[43m \u001B[49m\u001B[43mnp\u001B[49m\u001B[43m.\u001B[49m\u001B[43mlog\u001B[49m\u001B[43m(\u001B[49m\u001B[43my_pred_clipped\u001B[49m\u001B[43m)\u001B[49m +\n\u001B[32m     13\u001B[39m                   (\u001B[32m1\u001B[39m - y_true) * np.log(\u001B[32m1\u001B[39m - y_pred_clipped))\n\u001B[32m     14\u001B[39m sample_losses = np.mean(sample_losses, axis=-\u001B[32m1\u001B[39m)\n\u001B[32m     16\u001B[39m \u001B[38;5;66;03m# Return losses\u001B[39;00m\n",
      "\u001B[31mTypeError\u001B[39m: can't multiply sequence by non-int of type 'float'"
     ]
    }
   ],
   "execution_count": 26
  },
  {
   "metadata": {
    "ExecuteTime": {
     "end_time": "2025-05-26T09:47:17.617155600Z",
     "start_time": "2025-05-25T12:07:23.009623Z"
    }
   },
   "cell_type": "code",
   "source": "",
   "id": "4a3fc54cd7c82983",
   "outputs": [],
   "execution_count": null
  },
  {
   "metadata": {
    "ExecuteTime": {
     "end_time": "2025-05-26T09:47:17.619148300Z",
     "start_time": "2025-05-25T12:07:23.142580Z"
    }
   },
   "cell_type": "code",
   "source": "",
   "id": "10459d95645000d5",
   "outputs": [],
   "execution_count": null
  },
  {
   "metadata": {
    "ExecuteTime": {
     "end_time": "2025-05-26T09:47:17.622151700Z",
     "start_time": "2025-05-25T12:07:23.245057Z"
    }
   },
   "cell_type": "code",
   "source": "",
   "id": "bed7f1fd7e2ad869",
   "outputs": [],
   "execution_count": null
  }
 ],
 "metadata": {},
 "nbformat": 4,
 "nbformat_minor": 5
}
